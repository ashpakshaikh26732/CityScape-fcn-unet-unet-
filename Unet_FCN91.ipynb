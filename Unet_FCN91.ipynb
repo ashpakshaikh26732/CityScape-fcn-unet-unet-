{
  "cells": [
    {
      "cell_type": "markdown",
      "metadata": {
        "id": "view-in-github",
        "colab_type": "text"
      },
      "source": [
        "<a href=\"https://colab.research.google.com/github/ashpakshaikh26732/CityScape-fcn-unet-unet_plus_plus/blob/main/Unet_FCN91.ipynb\" target=\"_parent\"><img src=\"https://colab.research.google.com/assets/colab-badge.svg\" alt=\"Open In Colab\"/></a>"
      ]
    },
    {
      "cell_type": "code",
      "execution_count": null,
      "metadata": {
        "colab": {
          "base_uri": "https://localhost:8080/"
        },
        "id": "NY-Fjqfj8lKQ",
        "outputId": "8f846b3c-ab7b-462c-abc7-2aeb5bb5ce49"
      },
      "outputs": [
        {
          "name": "stdout",
          "output_type": "stream",
          "text": [
            "Requirement already satisfied: tensorflow in /usr/local/lib/python3.11/dist-packages (2.18.0)\n",
            "Collecting tensorflow\n",
            "  Downloading tensorflow-2.19.0-cp311-cp311-manylinux_2_17_x86_64.manylinux2014_x86_64.whl.metadata (4.1 kB)\n",
            "Requirement already satisfied: absl-py>=1.0.0 in /usr/local/lib/python3.11/dist-packages (from tensorflow) (1.4.0)\n",
            "Requirement already satisfied: astunparse>=1.6.0 in /usr/local/lib/python3.11/dist-packages (from tensorflow) (1.6.3)\n",
            "Requirement already satisfied: flatbuffers>=24.3.25 in /usr/local/lib/python3.11/dist-packages (from tensorflow) (25.2.10)\n",
            "Requirement already satisfied: gast!=0.5.0,!=0.5.1,!=0.5.2,>=0.2.1 in /usr/local/lib/python3.11/dist-packages (from tensorflow) (0.6.0)\n",
            "Requirement already satisfied: google-pasta>=0.1.1 in /usr/local/lib/python3.11/dist-packages (from tensorflow) (0.2.0)\n",
            "Requirement already satisfied: libclang>=13.0.0 in /usr/local/lib/python3.11/dist-packages (from tensorflow) (18.1.1)\n",
            "Requirement already satisfied: opt-einsum>=2.3.2 in /usr/local/lib/python3.11/dist-packages (from tensorflow) (3.4.0)\n",
            "Requirement already satisfied: packaging in /usr/local/lib/python3.11/dist-packages (from tensorflow) (24.2)\n",
            "Requirement already satisfied: protobuf!=4.21.0,!=4.21.1,!=4.21.2,!=4.21.3,!=4.21.4,!=4.21.5,<6.0.0dev,>=3.20.3 in /usr/local/lib/python3.11/dist-packages (from tensorflow) (5.29.3)\n",
            "Requirement already satisfied: requests<3,>=2.21.0 in /usr/local/lib/python3.11/dist-packages (from tensorflow) (2.32.3)\n",
            "Requirement already satisfied: setuptools in /usr/local/lib/python3.11/dist-packages (from tensorflow) (75.1.0)\n",
            "Requirement already satisfied: six>=1.12.0 in /usr/local/lib/python3.11/dist-packages (from tensorflow) (1.17.0)\n",
            "Requirement already satisfied: termcolor>=1.1.0 in /usr/local/lib/python3.11/dist-packages (from tensorflow) (2.5.0)\n",
            "Requirement already satisfied: typing-extensions>=3.6.6 in /usr/local/lib/python3.11/dist-packages (from tensorflow) (4.12.2)\n",
            "Requirement already satisfied: wrapt>=1.11.0 in /usr/local/lib/python3.11/dist-packages (from tensorflow) (1.17.2)\n",
            "Requirement already satisfied: grpcio<2.0,>=1.24.3 in /usr/local/lib/python3.11/dist-packages (from tensorflow) (1.71.0)\n",
            "Collecting tensorboard~=2.19.0 (from tensorflow)\n",
            "  Downloading tensorboard-2.19.0-py3-none-any.whl.metadata (1.8 kB)\n",
            "Requirement already satisfied: keras>=3.5.0 in /usr/local/lib/python3.11/dist-packages (from tensorflow) (3.8.0)\n",
            "Requirement already satisfied: numpy<2.2.0,>=1.26.0 in /usr/local/lib/python3.11/dist-packages (from tensorflow) (2.0.2)\n",
            "Requirement already satisfied: h5py>=3.11.0 in /usr/local/lib/python3.11/dist-packages (from tensorflow) (3.13.0)\n",
            "Collecting ml-dtypes<1.0.0,>=0.5.1 (from tensorflow)\n",
            "  Downloading ml_dtypes-0.5.1-cp311-cp311-manylinux_2_17_x86_64.manylinux2014_x86_64.whl.metadata (21 kB)\n",
            "Requirement already satisfied: tensorflow-io-gcs-filesystem>=0.23.1 in /usr/local/lib/python3.11/dist-packages (from tensorflow) (0.37.1)\n",
            "Requirement already satisfied: wheel<1.0,>=0.23.0 in /usr/local/lib/python3.11/dist-packages (from astunparse>=1.6.0->tensorflow) (0.45.1)\n",
            "Requirement already satisfied: rich in /usr/local/lib/python3.11/dist-packages (from keras>=3.5.0->tensorflow) (13.9.4)\n",
            "Requirement already satisfied: namex in /usr/local/lib/python3.11/dist-packages (from keras>=3.5.0->tensorflow) (0.0.8)\n",
            "Requirement already satisfied: optree in /usr/local/lib/python3.11/dist-packages (from keras>=3.5.0->tensorflow) (0.14.1)\n",
            "Requirement already satisfied: charset-normalizer<4,>=2 in /usr/local/lib/python3.11/dist-packages (from requests<3,>=2.21.0->tensorflow) (3.4.1)\n",
            "Requirement already satisfied: idna<4,>=2.5 in /usr/local/lib/python3.11/dist-packages (from requests<3,>=2.21.0->tensorflow) (3.10)\n",
            "Requirement already satisfied: urllib3<3,>=1.21.1 in /usr/local/lib/python3.11/dist-packages (from requests<3,>=2.21.0->tensorflow) (2.3.0)\n",
            "Requirement already satisfied: certifi>=2017.4.17 in /usr/local/lib/python3.11/dist-packages (from requests<3,>=2.21.0->tensorflow) (2025.1.31)\n",
            "Requirement already satisfied: markdown>=2.6.8 in /usr/local/lib/python3.11/dist-packages (from tensorboard~=2.19.0->tensorflow) (3.7)\n",
            "Requirement already satisfied: tensorboard-data-server<0.8.0,>=0.7.0 in /usr/local/lib/python3.11/dist-packages (from tensorboard~=2.19.0->tensorflow) (0.7.2)\n",
            "Requirement already satisfied: werkzeug>=1.0.1 in /usr/local/lib/python3.11/dist-packages (from tensorboard~=2.19.0->tensorflow) (3.1.3)\n",
            "Requirement already satisfied: MarkupSafe>=2.1.1 in /usr/local/lib/python3.11/dist-packages (from werkzeug>=1.0.1->tensorboard~=2.19.0->tensorflow) (3.0.2)\n",
            "Requirement already satisfied: markdown-it-py>=2.2.0 in /usr/local/lib/python3.11/dist-packages (from rich->keras>=3.5.0->tensorflow) (3.0.0)\n",
            "Requirement already satisfied: pygments<3.0.0,>=2.13.0 in /usr/local/lib/python3.11/dist-packages (from rich->keras>=3.5.0->tensorflow) (2.18.0)\n",
            "Requirement already satisfied: mdurl~=0.1 in /usr/local/lib/python3.11/dist-packages (from markdown-it-py>=2.2.0->rich->keras>=3.5.0->tensorflow) (0.1.2)\n",
            "Downloading tensorflow-2.19.0-cp311-cp311-manylinux_2_17_x86_64.manylinux2014_x86_64.whl (644.9 MB)\n",
            "\u001b[2K   \u001b[90m━━━━━━━━━━━━━━━━━━━━━━━━━━━━━━━━━━━━━━━━\u001b[0m \u001b[32m644.9/644.9 MB\u001b[0m \u001b[31m1.6 MB/s\u001b[0m eta \u001b[36m0:00:00\u001b[0m\n",
            "\u001b[?25hDownloading ml_dtypes-0.5.1-cp311-cp311-manylinux_2_17_x86_64.manylinux2014_x86_64.whl (4.7 MB)\n",
            "\u001b[2K   \u001b[90m━━━━━━━━━━━━━━━━━━━━━━━━━━━━━━━━━━━━━━━━\u001b[0m \u001b[32m4.7/4.7 MB\u001b[0m \u001b[31m96.1 MB/s\u001b[0m eta \u001b[36m0:00:00\u001b[0m\n",
            "\u001b[?25hDownloading tensorboard-2.19.0-py3-none-any.whl (5.5 MB)\n",
            "\u001b[2K   \u001b[90m━━━━━━━━━━━━━━━━━━━━━━━━━━━━━━━━━━━━━━━━\u001b[0m \u001b[32m5.5/5.5 MB\u001b[0m \u001b[31m99.5 MB/s\u001b[0m eta \u001b[36m0:00:00\u001b[0m\n",
            "\u001b[?25hInstalling collected packages: ml-dtypes, tensorboard, tensorflow\n",
            "  Attempting uninstall: ml-dtypes\n",
            "    Found existing installation: ml-dtypes 0.4.1\n",
            "    Uninstalling ml-dtypes-0.4.1:\n",
            "      Successfully uninstalled ml-dtypes-0.4.1\n",
            "  Attempting uninstall: tensorboard\n",
            "    Found existing installation: tensorboard 2.18.0\n",
            "    Uninstalling tensorboard-2.18.0:\n",
            "      Successfully uninstalled tensorboard-2.18.0\n",
            "  Attempting uninstall: tensorflow\n",
            "    Found existing installation: tensorflow 2.18.0\n",
            "    Uninstalling tensorflow-2.18.0:\n",
            "      Successfully uninstalled tensorflow-2.18.0\n",
            "\u001b[31mERROR: pip's dependency resolver does not currently take into account all the packages that are installed. This behaviour is the source of the following dependency conflicts.\n",
            "tf-keras 2.18.0 requires tensorflow<2.19,>=2.18, but you have tensorflow 2.19.0 which is incompatible.\n",
            "tensorflow-text 2.18.1 requires tensorflow<2.19,>=2.18.0, but you have tensorflow 2.19.0 which is incompatible.\u001b[0m\u001b[31m\n",
            "\u001b[0mSuccessfully installed ml-dtypes-0.5.1 tensorboard-2.19.0 tensorflow-2.19.0\n"
          ]
        }
      ],
      "source": [
        "!pip install --upgrade tensorflow"
      ]
    },
    {
      "cell_type": "markdown",
      "metadata": {
        "id": "5XRgNljpyU9b"
      },
      "source": [
        "**all packages**"
      ]
    },
    {
      "cell_type": "code",
      "execution_count": null,
      "metadata": {
        "id": "mm_LuZ1iev66"
      },
      "outputs": [],
      "source": [
        "import tensorflow as tf\n",
        "import os\n",
        "import numpy as np\n",
        "import matplotlib.pyplot as plt\n",
        "import pandas as pd\n",
        "from tqdm import tqdm\n",
        "\n",
        "from IPython.display import display,HTML"
      ]
    },
    {
      "cell_type": "code",
      "execution_count": null,
      "metadata": {
        "colab": {
          "base_uri": "https://localhost:8080/"
        },
        "id": "TBI53Z14B58q",
        "outputId": "9d44fc15-c107-4be9-8bdc-f69e4487f45e"
      },
      "outputs": [
        {
          "output_type": "stream",
          "name": "stdout",
          "text": [
            "Collecting tensorflow==2.18.0\n",
            "  Downloading tensorflow-2.18.0-cp311-cp311-manylinux_2_17_x86_64.manylinux2014_x86_64.whl.metadata (4.1 kB)\n",
            "Requirement already satisfied: absl-py>=1.0.0 in /usr/local/lib/python3.11/dist-packages (from tensorflow==2.18.0) (1.4.0)\n",
            "Collecting astunparse>=1.6.0 (from tensorflow==2.18.0)\n",
            "  Downloading astunparse-1.6.3-py2.py3-none-any.whl.metadata (4.4 kB)\n",
            "Collecting flatbuffers>=24.3.25 (from tensorflow==2.18.0)\n",
            "  Downloading flatbuffers-25.2.10-py2.py3-none-any.whl.metadata (875 bytes)\n",
            "Requirement already satisfied: gast!=0.5.0,!=0.5.1,!=0.5.2,>=0.2.1 in /usr/local/lib/python3.11/dist-packages (from tensorflow==2.18.0) (0.6.0)\n",
            "Collecting google-pasta>=0.1.1 (from tensorflow==2.18.0)\n",
            "  Downloading google_pasta-0.2.0-py3-none-any.whl.metadata (814 bytes)\n",
            "Collecting libclang>=13.0.0 (from tensorflow==2.18.0)\n",
            "  Downloading libclang-18.1.1-py2.py3-none-manylinux2010_x86_64.whl.metadata (5.2 kB)\n",
            "Requirement already satisfied: opt-einsum>=2.3.2 in /usr/local/lib/python3.11/dist-packages (from tensorflow==2.18.0) (3.4.0)\n",
            "Requirement already satisfied: packaging in /usr/local/lib/python3.11/dist-packages (from tensorflow==2.18.0) (25.0)\n",
            "Requirement already satisfied: protobuf!=4.21.0,!=4.21.1,!=4.21.2,!=4.21.3,!=4.21.4,!=4.21.5,<6.0.0dev,>=3.20.3 in /usr/local/lib/python3.11/dist-packages (from tensorflow==2.18.0) (5.29.5)\n",
            "Requirement already satisfied: requests<3,>=2.21.0 in /usr/local/lib/python3.11/dist-packages (from tensorflow==2.18.0) (2.32.3)\n",
            "Requirement already satisfied: setuptools in /usr/local/lib/python3.11/dist-packages (from tensorflow==2.18.0) (75.2.0)\n",
            "Requirement already satisfied: six>=1.12.0 in /usr/local/lib/python3.11/dist-packages (from tensorflow==2.18.0) (1.17.0)\n",
            "Requirement already satisfied: termcolor>=1.1.0 in /usr/local/lib/python3.11/dist-packages (from tensorflow==2.18.0) (3.1.0)\n",
            "Requirement already satisfied: typing-extensions>=3.6.6 in /usr/local/lib/python3.11/dist-packages (from tensorflow==2.18.0) (4.13.2)\n",
            "Requirement already satisfied: wrapt>=1.11.0 in /usr/local/lib/python3.11/dist-packages (from tensorflow==2.18.0) (1.17.2)\n",
            "Requirement already satisfied: grpcio<2.0,>=1.24.3 in /usr/local/lib/python3.11/dist-packages (from tensorflow==2.18.0) (1.71.0)\n",
            "Collecting tensorboard<2.19,>=2.18 (from tensorflow==2.18.0)\n",
            "  Downloading tensorboard-2.18.0-py3-none-any.whl.metadata (1.6 kB)\n",
            "Requirement already satisfied: keras>=3.5.0 in /usr/local/lib/python3.11/dist-packages (from tensorflow==2.18.0) (3.8.0)\n",
            "Requirement already satisfied: numpy<2.1.0,>=1.26.0 in /usr/local/lib/python3.11/dist-packages (from tensorflow==2.18.0) (2.0.2)\n",
            "Requirement already satisfied: h5py>=3.11.0 in /usr/local/lib/python3.11/dist-packages (from tensorflow==2.18.0) (3.13.0)\n",
            "Collecting ml-dtypes<0.5.0,>=0.4.0 (from tensorflow==2.18.0)\n",
            "  Downloading ml_dtypes-0.4.1-cp311-cp311-manylinux_2_17_x86_64.manylinux2014_x86_64.whl.metadata (20 kB)\n",
            "Collecting tensorflow-io-gcs-filesystem>=0.23.1 (from tensorflow==2.18.0)\n",
            "  Downloading tensorflow_io_gcs_filesystem-0.37.1-cp311-cp311-manylinux_2_17_x86_64.manylinux2014_x86_64.whl.metadata (14 kB)\n",
            "Collecting wheel<1.0,>=0.23.0 (from astunparse>=1.6.0->tensorflow==2.18.0)\n",
            "  Downloading wheel-0.45.1-py3-none-any.whl.metadata (2.3 kB)\n",
            "Requirement already satisfied: rich in /usr/local/lib/python3.11/dist-packages (from keras>=3.5.0->tensorflow==2.18.0) (14.0.0)\n",
            "Requirement already satisfied: namex in /usr/local/lib/python3.11/dist-packages (from keras>=3.5.0->tensorflow==2.18.0) (0.1.0)\n",
            "Requirement already satisfied: optree in /usr/local/lib/python3.11/dist-packages (from keras>=3.5.0->tensorflow==2.18.0) (0.16.0)\n",
            "Requirement already satisfied: charset-normalizer<4,>=2 in /usr/local/lib/python3.11/dist-packages (from requests<3,>=2.21.0->tensorflow==2.18.0) (3.4.2)\n",
            "Requirement already satisfied: idna<4,>=2.5 in /usr/local/lib/python3.11/dist-packages (from requests<3,>=2.21.0->tensorflow==2.18.0) (3.10)\n",
            "Requirement already satisfied: urllib3<3,>=1.21.1 in /usr/local/lib/python3.11/dist-packages (from requests<3,>=2.21.0->tensorflow==2.18.0) (2.4.0)\n",
            "Requirement already satisfied: certifi>=2017.4.17 in /usr/local/lib/python3.11/dist-packages (from requests<3,>=2.21.0->tensorflow==2.18.0) (2025.4.26)\n",
            "Requirement already satisfied: markdown>=2.6.8 in /usr/lib/python3/dist-packages (from tensorboard<2.19,>=2.18->tensorflow==2.18.0) (3.3.6)\n",
            "Collecting tensorboard-data-server<0.8.0,>=0.7.0 (from tensorboard<2.19,>=2.18->tensorflow==2.18.0)\n",
            "  Downloading tensorboard_data_server-0.7.2-py3-none-manylinux_2_31_x86_64.whl.metadata (1.1 kB)\n",
            "Collecting werkzeug>=1.0.1 (from tensorboard<2.19,>=2.18->tensorflow==2.18.0)\n",
            "  Downloading werkzeug-3.1.3-py3-none-any.whl.metadata (3.7 kB)\n",
            "Requirement already satisfied: MarkupSafe>=2.1.1 in /usr/local/lib/python3.11/dist-packages (from werkzeug>=1.0.1->tensorboard<2.19,>=2.18->tensorflow==2.18.0) (3.0.2)\n",
            "Requirement already satisfied: markdown-it-py>=2.2.0 in /usr/local/lib/python3.11/dist-packages (from rich->keras>=3.5.0->tensorflow==2.18.0) (3.0.0)\n",
            "Requirement already satisfied: pygments<3.0.0,>=2.13.0 in /usr/local/lib/python3.11/dist-packages (from rich->keras>=3.5.0->tensorflow==2.18.0) (2.19.1)\n",
            "Requirement already satisfied: mdurl~=0.1 in /usr/local/lib/python3.11/dist-packages (from markdown-it-py>=2.2.0->rich->keras>=3.5.0->tensorflow==2.18.0) (0.1.2)\n",
            "Downloading tensorflow-2.18.0-cp311-cp311-manylinux_2_17_x86_64.manylinux2014_x86_64.whl (615.4 MB)\n",
            "\u001b[2K   \u001b[90m━━━━━━━━━━━━━━━━━━━━━━━━━━━━━━━━━━━━━━━\u001b[0m \u001b[32m615.4/615.4 MB\u001b[0m \u001b[31m596.6 kB/s\u001b[0m eta \u001b[36m0:00:00\u001b[0m\n",
            "\u001b[?25hDownloading astunparse-1.6.3-py2.py3-none-any.whl (12 kB)\n",
            "Downloading flatbuffers-25.2.10-py2.py3-none-any.whl (30 kB)\n",
            "Downloading google_pasta-0.2.0-py3-none-any.whl (57 kB)\n",
            "\u001b[2K   \u001b[90m━━━━━━━━━━━━━━━━━━━━━━━━━━━━━━━━━━━━━━━━\u001b[0m \u001b[32m57.5/57.5 kB\u001b[0m \u001b[31m3.4 MB/s\u001b[0m eta \u001b[36m0:00:00\u001b[0m\n",
            "\u001b[?25hDownloading libclang-18.1.1-py2.py3-none-manylinux2010_x86_64.whl (24.5 MB)\n",
            "\u001b[2K   \u001b[90m━━━━━━━━━━━━━━━━━━━━━━━━━━━━━━━━━━━━━━━━\u001b[0m \u001b[32m24.5/24.5 MB\u001b[0m \u001b[31m55.6 MB/s\u001b[0m eta \u001b[36m0:00:00\u001b[0m\n",
            "\u001b[?25hDownloading ml_dtypes-0.4.1-cp311-cp311-manylinux_2_17_x86_64.manylinux2014_x86_64.whl (2.2 MB)\n",
            "\u001b[2K   \u001b[90m━━━━━━━━━━━━━━━━━━━━━━━━━━━━━━━━━━━━━━━━\u001b[0m \u001b[32m2.2/2.2 MB\u001b[0m \u001b[31m32.2 MB/s\u001b[0m eta \u001b[36m0:00:00\u001b[0m\n",
            "\u001b[?25hDownloading tensorboard-2.18.0-py3-none-any.whl (5.5 MB)\n",
            "\u001b[2K   \u001b[90m━━━━━━━━━━━━━━━━━━━━━━━━━━━━━━━━━━━━━━━━\u001b[0m \u001b[32m5.5/5.5 MB\u001b[0m \u001b[31m63.7 MB/s\u001b[0m eta \u001b[36m0:00:00\u001b[0m\n",
            "\u001b[?25hDownloading tensorflow_io_gcs_filesystem-0.37.1-cp311-cp311-manylinux_2_17_x86_64.manylinux2014_x86_64.whl (5.1 MB)\n",
            "\u001b[2K   \u001b[90m━━━━━━━━━━━━━━━━━━━━━━━━━━━━━━━━━━━━━━━━\u001b[0m \u001b[32m5.1/5.1 MB\u001b[0m \u001b[31m92.2 MB/s\u001b[0m eta \u001b[36m0:00:00\u001b[0m\n",
            "\u001b[?25hDownloading tensorboard_data_server-0.7.2-py3-none-manylinux_2_31_x86_64.whl (6.6 MB)\n",
            "\u001b[2K   \u001b[90m━━━━━━━━━━━━━━━━━━━━━━━━━━━━━━━━━━━━━━━━\u001b[0m \u001b[32m6.6/6.6 MB\u001b[0m \u001b[31m72.8 MB/s\u001b[0m eta \u001b[36m0:00:00\u001b[0m\n",
            "\u001b[?25hDownloading werkzeug-3.1.3-py3-none-any.whl (224 kB)\n",
            "\u001b[2K   \u001b[90m━━━━━━━━━━━━━━━━━━━━━━━━━━━━━━━━━━━━━━━━\u001b[0m \u001b[32m224.5/224.5 kB\u001b[0m \u001b[31m15.1 MB/s\u001b[0m eta \u001b[36m0:00:00\u001b[0m\n",
            "\u001b[?25hDownloading wheel-0.45.1-py3-none-any.whl (72 kB)\n",
            "\u001b[2K   \u001b[90m━━━━━━━━━━━━━━━━━━━━━━━━━━━━━━━━━━━━━━━━\u001b[0m \u001b[32m72.5/72.5 kB\u001b[0m \u001b[31m5.6 MB/s\u001b[0m eta \u001b[36m0:00:00\u001b[0m\n",
            "\u001b[?25hInstalling collected packages: libclang, flatbuffers, wheel, werkzeug, tensorflow-io-gcs-filesystem, tensorboard-data-server, ml-dtypes, google-pasta, tensorboard, astunparse, tensorflow\n",
            "  Attempting uninstall: ml-dtypes\n",
            "    Found existing installation: ml_dtypes 0.5.1\n",
            "    Uninstalling ml_dtypes-0.5.1:\n",
            "      Successfully uninstalled ml_dtypes-0.5.1\n",
            "\u001b[31mERROR: pip's dependency resolver does not currently take into account all the packages that are installed. This behaviour is the source of the following dependency conflicts.\n",
            "tensorstore 0.1.75 requires ml_dtypes>=0.5.0, but you have ml-dtypes 0.4.1 which is incompatible.\u001b[0m\u001b[31m\n",
            "\u001b[0mSuccessfully installed astunparse-1.6.3 flatbuffers-25.2.10 google-pasta-0.2.0 libclang-18.1.1 ml-dtypes-0.4.1 tensorboard-2.18.0 tensorboard-data-server-0.7.2 tensorflow-2.18.0 tensorflow-io-gcs-filesystem-0.37.1 werkzeug-3.1.3 wheel-0.45.1\n",
            "Looking in links: https://storage.googleapis.com/libtpu-tf-releases/index.html\n",
            "Collecting tensorflow-tpu==2.18.0\n",
            "  Downloading tensorflow_tpu-2.18.0-cp311-cp311-manylinux_2_17_x86_64.manylinux2014_x86_64.whl.metadata (4.1 kB)\n",
            "Requirement already satisfied: absl-py>=1.0.0 in /usr/local/lib/python3.11/dist-packages (from tensorflow-tpu==2.18.0) (1.4.0)\n",
            "Requirement already satisfied: astunparse>=1.6.0 in /usr/local/lib/python3.11/dist-packages (from tensorflow-tpu==2.18.0) (1.6.3)\n",
            "Requirement already satisfied: flatbuffers>=24.3.25 in /usr/local/lib/python3.11/dist-packages (from tensorflow-tpu==2.18.0) (25.2.10)\n",
            "Requirement already satisfied: gast!=0.5.0,!=0.5.1,!=0.5.2,>=0.2.1 in /usr/local/lib/python3.11/dist-packages (from tensorflow-tpu==2.18.0) (0.6.0)\n",
            "Requirement already satisfied: google-pasta>=0.1.1 in /usr/local/lib/python3.11/dist-packages (from tensorflow-tpu==2.18.0) (0.2.0)\n",
            "Requirement already satisfied: libclang>=13.0.0 in /usr/local/lib/python3.11/dist-packages (from tensorflow-tpu==2.18.0) (18.1.1)\n",
            "Requirement already satisfied: opt-einsum>=2.3.2 in /usr/local/lib/python3.11/dist-packages (from tensorflow-tpu==2.18.0) (3.4.0)\n",
            "Requirement already satisfied: packaging in /usr/local/lib/python3.11/dist-packages (from tensorflow-tpu==2.18.0) (25.0)\n",
            "Requirement already satisfied: protobuf!=4.21.0,!=4.21.1,!=4.21.2,!=4.21.3,!=4.21.4,!=4.21.5,<6.0.0dev,>=3.20.3 in /usr/local/lib/python3.11/dist-packages (from tensorflow-tpu==2.18.0) (5.29.5)\n",
            "Requirement already satisfied: requests<3,>=2.21.0 in /usr/local/lib/python3.11/dist-packages (from tensorflow-tpu==2.18.0) (2.32.3)\n",
            "Requirement already satisfied: setuptools in /usr/local/lib/python3.11/dist-packages (from tensorflow-tpu==2.18.0) (75.2.0)\n",
            "Requirement already satisfied: six>=1.12.0 in /usr/local/lib/python3.11/dist-packages (from tensorflow-tpu==2.18.0) (1.17.0)\n",
            "Requirement already satisfied: termcolor>=1.1.0 in /usr/local/lib/python3.11/dist-packages (from tensorflow-tpu==2.18.0) (3.1.0)\n",
            "Requirement already satisfied: typing-extensions>=3.6.6 in /usr/local/lib/python3.11/dist-packages (from tensorflow-tpu==2.18.0) (4.13.2)\n",
            "Requirement already satisfied: wrapt>=1.11.0 in /usr/local/lib/python3.11/dist-packages (from tensorflow-tpu==2.18.0) (1.17.2)\n",
            "Requirement already satisfied: grpcio<2.0,>=1.24.3 in /usr/local/lib/python3.11/dist-packages (from tensorflow-tpu==2.18.0) (1.71.0)\n",
            "Requirement already satisfied: tensorboard<2.19,>=2.18 in /usr/local/lib/python3.11/dist-packages (from tensorflow-tpu==2.18.0) (2.18.0)\n",
            "Requirement already satisfied: keras>=3.5.0 in /usr/local/lib/python3.11/dist-packages (from tensorflow-tpu==2.18.0) (3.8.0)\n",
            "Requirement already satisfied: numpy<2.1.0,>=1.26.0 in /usr/local/lib/python3.11/dist-packages (from tensorflow-tpu==2.18.0) (2.0.2)\n",
            "Requirement already satisfied: h5py>=3.11.0 in /usr/local/lib/python3.11/dist-packages (from tensorflow-tpu==2.18.0) (3.13.0)\n",
            "Requirement already satisfied: ml-dtypes<0.5.0,>=0.4.0 in /usr/local/lib/python3.11/dist-packages (from tensorflow-tpu==2.18.0) (0.4.1)\n",
            "Collecting libtpu==2.18.0 (from tensorflow-tpu==2.18.0)\n",
            "  Downloading https://storage.googleapis.com/libtpu-tf-releases/wheels/libtpu-2.18.0-py3-none-any.whl (123.9 MB)\n",
            "\u001b[2K     \u001b[90m━━━━━━━━━━━━━━━━━━━━━━━━━━━━━━━━━━━━━━━\u001b[0m \u001b[32m123.9/123.9 MB\u001b[0m \u001b[31m9.1 MB/s\u001b[0m eta \u001b[36m0:00:00\u001b[0m\n",
            "\u001b[?25hRequirement already satisfied: tensorflow-io-gcs-filesystem>=0.23.1 in /usr/local/lib/python3.11/dist-packages (from tensorflow-tpu==2.18.0) (0.37.1)\n",
            "Requirement already satisfied: wheel<1.0,>=0.23.0 in /usr/local/lib/python3.11/dist-packages (from astunparse>=1.6.0->tensorflow-tpu==2.18.0) (0.45.1)\n",
            "Requirement already satisfied: rich in /usr/local/lib/python3.11/dist-packages (from keras>=3.5.0->tensorflow-tpu==2.18.0) (14.0.0)\n",
            "Requirement already satisfied: namex in /usr/local/lib/python3.11/dist-packages (from keras>=3.5.0->tensorflow-tpu==2.18.0) (0.1.0)\n",
            "Requirement already satisfied: optree in /usr/local/lib/python3.11/dist-packages (from keras>=3.5.0->tensorflow-tpu==2.18.0) (0.16.0)\n",
            "Requirement already satisfied: charset-normalizer<4,>=2 in /usr/local/lib/python3.11/dist-packages (from requests<3,>=2.21.0->tensorflow-tpu==2.18.0) (3.4.2)\n",
            "Requirement already satisfied: idna<4,>=2.5 in /usr/local/lib/python3.11/dist-packages (from requests<3,>=2.21.0->tensorflow-tpu==2.18.0) (3.10)\n",
            "Requirement already satisfied: urllib3<3,>=1.21.1 in /usr/local/lib/python3.11/dist-packages (from requests<3,>=2.21.0->tensorflow-tpu==2.18.0) (2.4.0)\n",
            "Requirement already satisfied: certifi>=2017.4.17 in /usr/local/lib/python3.11/dist-packages (from requests<3,>=2.21.0->tensorflow-tpu==2.18.0) (2025.4.26)\n",
            "Requirement already satisfied: markdown>=2.6.8 in /usr/lib/python3/dist-packages (from tensorboard<2.19,>=2.18->tensorflow-tpu==2.18.0) (3.3.6)\n",
            "Requirement already satisfied: tensorboard-data-server<0.8.0,>=0.7.0 in /usr/local/lib/python3.11/dist-packages (from tensorboard<2.19,>=2.18->tensorflow-tpu==2.18.0) (0.7.2)\n",
            "Requirement already satisfied: werkzeug>=1.0.1 in /usr/local/lib/python3.11/dist-packages (from tensorboard<2.19,>=2.18->tensorflow-tpu==2.18.0) (3.1.3)\n",
            "Requirement already satisfied: MarkupSafe>=2.1.1 in /usr/local/lib/python3.11/dist-packages (from werkzeug>=1.0.1->tensorboard<2.19,>=2.18->tensorflow-tpu==2.18.0) (3.0.2)\n",
            "Requirement already satisfied: markdown-it-py>=2.2.0 in /usr/local/lib/python3.11/dist-packages (from rich->keras>=3.5.0->tensorflow-tpu==2.18.0) (3.0.0)\n",
            "Requirement already satisfied: pygments<3.0.0,>=2.13.0 in /usr/local/lib/python3.11/dist-packages (from rich->keras>=3.5.0->tensorflow-tpu==2.18.0) (2.19.1)\n",
            "Requirement already satisfied: mdurl~=0.1 in /usr/local/lib/python3.11/dist-packages (from markdown-it-py>=2.2.0->rich->keras>=3.5.0->tensorflow-tpu==2.18.0) (0.1.2)\n",
            "Downloading tensorflow_tpu-2.18.0-cp311-cp311-manylinux_2_17_x86_64.manylinux2014_x86_64.whl (234.3 MB)\n",
            "\u001b[2K   \u001b[90m━━━━━━━━━━━━━━━━━━━━━━━━━━━━━━━━━━━━━━━━\u001b[0m \u001b[32m234.3/234.3 MB\u001b[0m \u001b[31m4.3 MB/s\u001b[0m eta \u001b[36m0:00:00\u001b[0m\n",
            "\u001b[?25hInstalling collected packages: libtpu, tensorflow-tpu\n",
            "  Attempting uninstall: libtpu\n",
            "    Found existing installation: libtpu 0.0.7.1\n",
            "    Uninstalling libtpu-0.0.7.1:\n",
            "      Successfully uninstalled libtpu-0.0.7.1\n",
            "Successfully installed libtpu-2.18.0 tensorflow-tpu-2.18.0\n"
          ]
        },
        {
          "output_type": "stream",
          "name": "stderr",
          "text": [
            "/usr/local/lib/python3.11/dist-packages/jax/__init__.py:31: UserWarning: cloud_tpu_init failed: AttributeError(\"module 'libtpu' has no attribute 'get_library_path'\")\n",
            " This a JAX bug; please report an issue at https://github.com/jax-ml/jax/issues\n",
            "  _warn(f\"cloud_tpu_init failed: {exc!r}\\n This a JAX bug; please report \"\n"
          ]
        },
        {
          "output_type": "stream",
          "name": "stdout",
          "text": [
            "TPU is running: \n"
          ]
        }
      ],
      "source": [
        "!pip install tensorflow==2.18.0\n",
        "!pip install tensorflow-tpu==2.18.0 --find-links=https://storage.googleapis.com/libtpu-tf-releases/index.html\n",
        "\n",
        "import tensorflow as tf\n",
        "\n",
        "try:\n",
        "    tpu = tf.distribute.cluster_resolver.TPUClusterResolver(tpu='local')\n",
        "    tf.config.experimental_connect_to_cluster(tpu)\n",
        "    tf.tpu.experimental.initialize_tpu_system(tpu)\n",
        "    strategy = tf.distribute.TPUStrategy(tpu)\n",
        "    print(\"TPU is running:\", tpu.master())\n",
        "except ValueError as e:\n",
        "    print(\"TPU is not avaible:\", e)"
      ]
    },
    {
      "cell_type": "code",
      "execution_count": null,
      "metadata": {
        "id": "Q-_0SdKWb53X"
      },
      "outputs": [],
      "source": [
        "print(f'Number of TPUs: {strategy.num_replicas_in_sync}')"
      ]
    },
    {
      "cell_type": "code",
      "execution_count": null,
      "metadata": {
        "id": "DTuYhVhRffta"
      },
      "outputs": [],
      "source": [
        "import tensorflow as tf\n",
        "\n",
        "\n",
        "print(f'TensorFlow version: {tf.__version__}')\n",
        "\n",
        "try:\n",
        "  tpu = tf.distribute.cluster_resolver.TPUClusterResolver()\n",
        "  print(f'TPU cluster resolved: {tpu.cluster_spec()}')\n",
        "  tf.config.experimental_connect_to_cluster(tpu)\n",
        "  tf.tpu.experimental.initialize_tpu_system(tpu)\n",
        "  strategy = tf.distribute.TPUStrategy(tpu)\n",
        "  print(f'Number of TPUs: {strategy.num_replicas_in_sync}')\n",
        "except Exception as e:\n",
        "  print(f'TPU failed to initialize: {e}')"
      ]
    },
    {
      "cell_type": "markdown",
      "metadata": {
        "id": "tzwsFyykuBp6"
      },
      "source": [
        "**mixed precision training**"
      ]
    },
    {
      "cell_type": "code",
      "execution_count": null,
      "metadata": {
        "colab": {
          "base_uri": "https://localhost:8080/",
          "height": 331
        },
        "id": "I9g7HnQsuOMj",
        "outputId": "b7bd53b3-7db0-420d-b429-2cc6bb30afce"
      },
      "outputs": [
        {
          "ename": "ModuleNotFoundError",
          "evalue": "No module named 'tensorflow'",
          "output_type": "error",
          "traceback": [
            "\u001b[0;31m---------------------------------------------------------------------------\u001b[0m",
            "\u001b[0;31mModuleNotFoundError\u001b[0m                       Traceback (most recent call last)",
            "\u001b[0;32m<ipython-input-2-1b3ffc459d08>\u001b[0m in \u001b[0;36m<cell line: 0>\u001b[0;34m()\u001b[0m\n\u001b[0;32m----> 1\u001b[0;31m \u001b[0;32mfrom\u001b[0m \u001b[0mtensorflow\u001b[0m\u001b[0;34m.\u001b[0m\u001b[0mkeras\u001b[0m \u001b[0;32mimport\u001b[0m \u001b[0mmixed_precision\u001b[0m\u001b[0;34m\u001b[0m\u001b[0;34m\u001b[0m\u001b[0m\n\u001b[0m\u001b[1;32m      2\u001b[0m \u001b[0mmixed_precision\u001b[0m\u001b[0;34m.\u001b[0m\u001b[0mset_global_policy\u001b[0m\u001b[0;34m(\u001b[0m\u001b[0;34m'mixed_float16'\u001b[0m\u001b[0;34m)\u001b[0m\u001b[0;34m\u001b[0m\u001b[0;34m\u001b[0m\u001b[0m\n",
            "\u001b[0;31mModuleNotFoundError\u001b[0m: No module named 'tensorflow'",
            "",
            "\u001b[0;31m---------------------------------------------------------------------------\u001b[0;32m\nNOTE: If your import is failing due to a missing package, you can\nmanually install dependencies using either !pip or !apt.\n\nTo view examples of installing some common dependencies, click the\n\"Open Examples\" button below.\n\u001b[0;31m---------------------------------------------------------------------------\u001b[0m\n"
          ]
        }
      ],
      "source": [
        "from tensorflow.keras import mixed_precision\n",
        "mixed_precision.set_global_policy('mixed_float16')"
      ]
    },
    {
      "cell_type": "code",
      "execution_count": null,
      "metadata": {
        "id": "ugzh9CWPo-zp"
      },
      "outputs": [],
      "source": []
    },
    {
      "cell_type": "code",
      "execution_count": null,
      "metadata": {
        "colab": {
          "base_uri": "https://localhost:8080/",
          "height": 141
        },
        "id": "cdN0drMo70q4",
        "outputId": "ff1f44fa-ce90-49ae-8eb4-c38364a137a7"
      },
      "outputs": [
        {
          "ename": "NameError",
          "evalue": "name 'tf' is not defined",
          "output_type": "error",
          "traceback": [
            "\u001b[0;31m---------------------------------------------------------------------------\u001b[0m",
            "\u001b[0;31mNameError\u001b[0m                                 Traceback (most recent call last)",
            "\u001b[0;32m<ipython-input-3-b56b22cf7ffd>\u001b[0m in \u001b[0;36m<cell line: 0>\u001b[0;34m()\u001b[0m\n\u001b[0;32m----> 1\u001b[0;31m \u001b[0mtf\u001b[0m\u001b[0;34m.\u001b[0m\u001b[0mconfig\u001b[0m\u001b[0;34m.\u001b[0m\u001b[0mrun_functions_eagerly\u001b[0m\u001b[0;34m(\u001b[0m\u001b[0;32mFalse\u001b[0m\u001b[0;34m)\u001b[0m\u001b[0;34m\u001b[0m\u001b[0;34m\u001b[0m\u001b[0m\n\u001b[0m",
            "\u001b[0;31mNameError\u001b[0m: name 'tf' is not defined"
          ]
        }
      ],
      "source": [
        "tf.config.run_functions_eagerly(False)\n"
      ]
    },
    {
      "cell_type": "code",
      "execution_count": null,
      "metadata": {
        "colab": {
          "base_uri": "https://localhost:8080/"
        },
        "id": "vQK2Gy1ggZP-",
        "outputId": "33dde6b1-98ab-4f23-93d3-4e6ddbd4b5c5"
      },
      "outputs": [
        {
          "output_type": "stream",
          "name": "stdout",
          "text": [
            "Mounted at /content/drive\n"
          ]
        }
      ],
      "source": [
        "from google.colab import drive\n",
        "drive.mount('/content/drive')"
      ]
    },
    {
      "cell_type": "markdown",
      "metadata": {
        "id": "XLI9cZz46258"
      },
      "source": [
        "**copy datasets from drive**"
      ]
    },
    {
      "cell_type": "code",
      "execution_count": null,
      "metadata": {
        "id": "_cb4xI4h5b3z"
      },
      "outputs": [],
      "source": [
        "!cp /content/drive/MyDrive/Cityscapes/gtFine_trainvaltest.zip /content/\n",
        "!cp /content/drive/MyDrive/Cityscapes/leftImg8bit_trainvaltest.zip /content"
      ]
    },
    {
      "cell_type": "markdown",
      "metadata": {
        "id": "gWcHvq9T67yT"
      },
      "source": [
        "**extract trainig the data**"
      ]
    },
    {
      "cell_type": "code",
      "execution_count": null,
      "metadata": {
        "colab": {
          "base_uri": "https://localhost:8080/"
        },
        "id": "gIGN5YpV58XW",
        "outputId": "fe645489-b69b-4a29-c494-668c9ab7df78"
      },
      "outputs": [
        {
          "output_type": "execute_result",
          "data": {
            "text/plain": [
              "256"
            ]
          },
          "metadata": {},
          "execution_count": 5
        }
      ],
      "source": [
        "os.system(\"unzip -q /content/gtFine_trainvaltest.zip -d /content/ \")\n",
        "os.system(\"unzip -q /content/leftImg8bit_trainvaltest.zip -d /content/\")"
      ]
    },
    {
      "cell_type": "code",
      "execution_count": null,
      "metadata": {
        "colab": {
          "base_uri": "https://localhost:8080/"
        },
        "id": "-MKUIQNX7naD",
        "outputId": "a2666669-84d6-4ec1-8770-58a8cdcca08e"
      },
      "outputs": [
        {
          "output_type": "stream",
          "name": "stdout",
          "text": [
            "Train Images: 18\n",
            "Train Labels: 18\n"
          ]
        }
      ],
      "source": [
        "print(\"Train Images:\", len(os.listdir(\"/content/leftImg8bit/train/\")))\n",
        "print(\"Train Labels:\", len(os.listdir(\"/content/gtFine/train/\")))"
      ]
    },
    {
      "cell_type": "code",
      "execution_count": null,
      "metadata": {
        "colab": {
          "base_uri": "https://localhost:8080/"
        },
        "id": "qafiZBb5yC0b",
        "outputId": "4316507e-b619-437f-9f4f-09d357e437b9"
      },
      "outputs": [
        {
          "output_type": "stream",
          "name": "stdout",
          "text": [
            "test images :  6\n"
          ]
        }
      ],
      "source": [
        "print(\"test images : \", len(os.listdir('/content/leftImg8bit/test')))"
      ]
    },
    {
      "cell_type": "markdown",
      "metadata": {
        "id": "9Q1cFO0jJcA8"
      },
      "source": [
        "**Global Valrible**"
      ]
    },
    {
      "cell_type": "code",
      "execution_count": null,
      "metadata": {
        "id": "3NSFJ69oJiMF"
      },
      "outputs": [],
      "source": [
        "img_height = 768\n",
        "img_width = 1536\n",
        "batch_size = 1\n",
        "final_batch_size = batch_size * strategy.num_replicas_in_sync\n"
      ]
    },
    {
      "cell_type": "markdown",
      "metadata": {
        "id": "J9Y6CZKmCbNd"
      },
      "source": [
        "**loading images and labels from directry for training**"
      ]
    },
    {
      "cell_type": "code",
      "execution_count": null,
      "metadata": {
        "id": "OzTJuxSUyT19"
      },
      "outputs": [],
      "source": [
        "def load_img():\n",
        "    train_dir = '/content/leftImg8bit/train'\n",
        "    train_image_cities = os.listdir(train_dir)\n",
        "    train_images = []\n",
        "    for city in sorted(train_image_cities):\n",
        "        train_city = os.path.join(train_dir, city)\n",
        "        images = sorted([os.path.join(train_city, img) for img in os.listdir(train_city) if img.endswith('.png')])\n",
        "        train_images.extend(images)\n",
        "    return train_images\n",
        "\n",
        "def load_labels():\n",
        "    train_dir = '/content/gtFine/train'\n",
        "    train_labels_cities = os.listdir(train_dir)\n",
        "    train_labels = []\n",
        "    for city in sorted(train_labels_cities):\n",
        "        train_city_label = os.path.join(train_dir, city)\n",
        "        labels = sorted([os.path.join(train_city_label, f) for f in os.listdir(train_city_label) if f.endswith('_gtFine_labelIds.png')])\n",
        "        train_labels.extend(labels)\n",
        "    return train_labels"
      ]
    },
    {
      "cell_type": "markdown",
      "metadata": {
        "id": "cGkR1OkdChy9"
      },
      "source": [
        "**reading images from path**"
      ]
    },
    {
      "cell_type": "code",
      "execution_count": null,
      "metadata": {
        "id": "tR2-lYACFmLh"
      },
      "outputs": [],
      "source": [
        "def read_img(img_path):\n",
        "    img = tf.io.read_file(img_path)\n",
        "    img = tf.io.decode_png(img, channels=3)\n",
        "    img = tf.image.resize(img, (img_height, img_width))\n",
        "    img = img / 255.0\n",
        "    return img\n",
        "\n",
        "def read_labels(label_path):\n",
        "    label = tf.io.read_file(label_path)\n",
        "    label = tf.io.decode_png(label, channels=1)\n",
        "    label = tf.image.resize(label, (img_height, img_width), method=tf.image.ResizeMethod.NEAREST_NEIGHBOR)\n",
        "    return tf.cast(label, tf.uint8)"
      ]
    },
    {
      "cell_type": "markdown",
      "metadata": {
        "id": "PMQ2HsmKQtqF"
      },
      "source": [
        "**augmentation**"
      ]
    },
    {
      "cell_type": "code",
      "execution_count": null,
      "metadata": {
        "id": "ArL30hPWQzQc"
      },
      "outputs": [],
      "source": [
        "def process_data(image_path, label_path):\n",
        "    image = read_img(image_path)\n",
        "    label = read_labels(label_path)\n",
        "    return image, label\n",
        "\n",
        "# def augment(image, label):\n",
        "#     label = tf.cast(label, tf.float32)\n",
        "#     if tf.random.uniform(()) > 0.5:\n",
        "#         image = tf.image.flip_left_right(image)\n",
        "#         label = tf.image.flip_left_right(label)\n",
        "#     image = tf.image.random_brightness(image, max_delta=0.1)\n",
        "#     label = tf.cast(label, tf.uint8)\n",
        "#     return image, label\n",
        "\n",
        "def augment(image, label):\n",
        "    # Convert to float32 for image manipulations\n",
        "    image = tf.cast(image, tf.float32)\n",
        "\n",
        "    # Flip left-right\n",
        "    if tf.random.uniform(()) > 0.5:\n",
        "        image = tf.image.flip_left_right(image)\n",
        "        label = tf.image.flip_left_right(label)\n",
        "\n",
        "    # Random brightness\n",
        "    image = tf.image.random_brightness(image, max_delta=0.1)\n",
        "\n",
        "    # Random contrast\n",
        "    image = tf.image.random_contrast(image, lower=0.7, upper=1.3)\n",
        "\n",
        "    # Random saturation\n",
        "    image = tf.image.random_saturation(image, lower=0.7, upper=1.3)\n",
        "\n",
        "    # Random hue\n",
        "    image = tf.image.random_hue(image, max_delta=0.05)\n",
        "\n",
        "    # Random cropping to the target resolution (e.g., 512x1024 or 768x1536)\n",
        "    image, label = tf.image.resize_with_crop_or_pad(image, target_height=768, target_width=1536), tf.image.resize_with_crop_or_pad(label, target_height=768, target_width=1536)\n",
        "\n",
        "    # Label should stay in uint8 after augmentation\n",
        "    label = tf.cast(label, tf.uint8)\n",
        "\n",
        "    return image, label"
      ]
    },
    {
      "cell_type": "markdown",
      "metadata": {
        "id": "AMrQX_bwIrwt"
      },
      "source": [
        "**creating dataset**"
      ]
    },
    {
      "cell_type": "code",
      "execution_count": null,
      "metadata": {
        "colab": {
          "base_uri": "https://localhost:8080/"
        },
        "id": "oiZ4wr51HQR_",
        "outputId": "bdbd3eab-2e93-47ad-e04a-521ebda2fb1d"
      },
      "outputs": [
        {
          "output_type": "stream",
          "name": "stdout",
          "text": [
            "Total Train Images: 2975\n",
            "Total Train Labels: 2975\n"
          ]
        }
      ],
      "source": [
        "def map_labels_tf(label):\n",
        "    label = tf.squeeze(label, axis=-1)\n",
        "\n",
        "    original_ids = tf.constant([7, 8, 11, 12, 13, 17, 19, 20, 21, 22, 23, 24, 25, 26, 27, 28, 31, 32, 33], dtype=tf.int32)\n",
        "    train_ids = tf.range(19, dtype=tf.int32)\n",
        "    lookup = tf.fill([34], 255)\n",
        "    lookup = tf.tensor_scatter_nd_update(lookup, tf.expand_dims(original_ids, axis=1), train_ids)\n",
        "    y_mapped = tf.gather(lookup, tf.cast(label, tf.int32))\n",
        "    return tf.expand_dims(y_mapped, axis=-1)\n",
        "\n",
        "images = load_img()\n",
        "labels = load_labels()\n",
        "assert len(images) == len(labels), f\"Mismatch: {len(images)} images, {len(labels)} labels\"\n",
        "print(\"Total Train Images:\", len(images))\n",
        "print(\"Total Train Labels:\", len(labels))\n",
        "\n",
        "def replace_ignore_label(image, label):\n",
        "    label = tf.where(label == 255, 0, label)  # label is int32, so 255 and 0 are fine\n",
        "    return image, label\n",
        "\n",
        "\n",
        "train_dataset = tf.data.Dataset.from_tensor_slices((images, labels))\n",
        "options = tf.data.Options()\n",
        "options.experimental_deterministic = False  # Allow non-deterministic order for better performance\n",
        "options.experimental_distribute.auto_shard_policy = tf.data.experimental.AutoShardPolicy.DATA  # Shard data across TPU replicas\n",
        "\n",
        "# Apply options to the dataset\n",
        "train_dataset = train_dataset.with_options(options)\n",
        "\n",
        "train_dataset = train_dataset.map(process_data, num_parallel_calls=tf.data.AUTOTUNE)\n",
        "train_dataset =train_dataset.map(augment, num_parallel_calls=tf.data.AUTOTUNE)\n",
        "train_dataset = train_dataset.map(lambda image, label: (image, map_labels_tf(label)), num_parallel_calls=tf.data.AUTOTUNE)\n",
        "train_dataset = train_dataset.map(replace_ignore_label, num_parallel_calls=tf.data.AUTOTUNE)\n",
        "train_dataset = train_dataset.shuffle(buffer_size=100).cache().batch(final_batch_size,drop_remainder=True)\n",
        "train_dataset = train_dataset.prefetch(buffer_size=tf.data.AUTOTUNE)\n",
        "train_dataset = strategy.experimental_distribute_dataset(train_dataset)"
      ]
    },
    {
      "cell_type": "markdown",
      "metadata": {
        "id": "DtUwaeoBgZ1-"
      },
      "source": [
        "**loading images and labels from directry for validiation**"
      ]
    },
    {
      "cell_type": "code",
      "execution_count": null,
      "metadata": {
        "id": "Bt2sAOA9gZP4"
      },
      "outputs": [],
      "source": [
        "def load_img_val():\n",
        "    train_dir = '/content/leftImg8bit/val'\n",
        "    train_image_cities = os.listdir(train_dir)\n",
        "    train_images = []\n",
        "\n",
        "    for city in sorted(train_image_cities):\n",
        "        train_city = os.path.join(train_dir, city)\n",
        "        images = sorted([os.path.join(train_city, img) for img in os.listdir(train_city) if img.endswith('.png')])\n",
        "        train_images.extend(images)\n",
        "\n",
        "    return train_images\n",
        "\n",
        "def load_labels_val():\n",
        "    train_dir = '/content/gtFine/val'\n",
        "    train_labels_cities = os.listdir(train_dir)\n",
        "    train_labels = []\n",
        "    for city in sorted(train_labels_cities):\n",
        "        train_city_label = os.path.join(train_dir, city)\n",
        "        labels = sorted([os.path.join(train_city_label, f) for f in os.listdir(train_city_label) if f.endswith('_gtFine_labelIds.png')])\n",
        "        train_labels.extend(labels)\n",
        "    return train_labels"
      ]
    },
    {
      "cell_type": "code",
      "execution_count": null,
      "metadata": {
        "id": "akUFQg0SgqWq"
      },
      "outputs": [],
      "source": [
        "def read_img_val(img_path):\n",
        "    img = tf.io.read_file(img_path)\n",
        "    img = tf.io.decode_png(img, channels=3)\n",
        "    img = tf.image.resize(img, (img_height, img_width))\n",
        "    img = img / 255.0\n",
        "    return img\n",
        "\n",
        "def read_labels_val(label_path):\n",
        "    label = tf.io.read_file(label_path)\n",
        "    label = tf.io.decode_png(label, channels=1)\n",
        "    label = tf.image.resize(label, (img_height, img_width), method=tf.image.ResizeMethod.NEAREST_NEIGHBOR)\n",
        "    return tf.cast(label, tf.uint8)"
      ]
    },
    {
      "cell_type": "code",
      "execution_count": null,
      "metadata": {
        "colab": {
          "base_uri": "https://localhost:8080/"
        },
        "id": "oLLrc6JQgv15",
        "outputId": "4c091e01-0502-4102-e1af-84814e5c7457"
      },
      "outputs": [
        {
          "output_type": "stream",
          "name": "stdout",
          "text": [
            "Total Train Images: 500\n",
            "Total Train Labels: 500\n"
          ]
        }
      ],
      "source": [
        "def process_data_val(image_path, label_path):\n",
        "    image = read_img(image_path)\n",
        "    label = read_labels(label_path)\n",
        "    return image, label\n",
        "\n",
        "def map_labels_tf(label):\n",
        "    label = tf.squeeze(label, axis=-1)\n",
        "\n",
        "    original_ids = tf.constant([7, 8, 11, 12, 13, 17, 19, 20, 21, 22, 23, 24, 25, 26, 27, 28, 31, 32, 33], dtype=tf.int32)\n",
        "    train_ids = tf.range(19, dtype=tf.int32)\n",
        "    lookup = tf.fill([34], 255)\n",
        "    lookup = tf.tensor_scatter_nd_update(lookup, tf.expand_dims(original_ids, axis=1), train_ids)\n",
        "    y_mapped = tf.gather(lookup, tf.cast(label, tf.int32))\n",
        "    return tf.expand_dims(y_mapped, axis=-1)\n",
        "\n",
        "images = load_img_val()\n",
        "labels = load_labels_val()\n",
        "assert len(images) == len(labels), f\"Mismatch: {len(images)} images, {len(labels)} labels\"\n",
        "print(\"Total Train Images:\", len(images))\n",
        "print(\"Total Train Labels:\", len(labels))\n",
        "\n",
        "def replace_ignore_label(image, label):\n",
        "    label = tf.where(label == 255, 0, label)  # label is int32, so 255 and 0 are fine\n",
        "    return image, label\n",
        "\n",
        "\n",
        "val_dataset = tf.data.Dataset.from_tensor_slices((images, labels))\n",
        "options = tf.data.Options()\n",
        "options.experimental_deterministic = False  # Allow non-deterministic order for better performance\n",
        "options.experimental_distribute.auto_shard_policy = tf.data.experimental.AutoShardPolicy.DATA  # Shard data across TPU replicas\n",
        "\n",
        "# Apply options to the dataset\n",
        "val_dataset = val_dataset.with_options(options)\n",
        "\n",
        "val_dataset = val_dataset.map(process_data_val, num_parallel_calls=tf.data.AUTOTUNE)\n",
        "\n",
        "val_dataset = val_dataset.map(lambda image, label: (image, map_labels_tf(label)), num_parallel_calls=tf.data.AUTOTUNE)\n",
        "val_dataset = val_dataset.map(replace_ignore_label, num_parallel_calls=tf.data.AUTOTUNE)\n",
        "val_dataset = val_dataset.shuffle(buffer_size=100).cache().batch(16,drop_remainder=True)\n",
        "val_dataset = val_dataset.prefetch(buffer_size=tf.data.AUTOTUNE)\n",
        "val_dataset = strategy.experimental_distribute_dataset(val_dataset)"
      ]
    },
    {
      "cell_type": "markdown",
      "metadata": {
        "id": "nWuEcsIvhHAl"
      },
      "source": [
        "**loading images and labels from directry for testing**"
      ]
    },
    {
      "cell_type": "code",
      "execution_count": null,
      "metadata": {
        "id": "ZnpkmjsehZUW"
      },
      "outputs": [],
      "source": [
        "def load_img_test():\n",
        "    train_dir = '/content/leftImg8bit/test'\n",
        "    train_image_cities = os.listdir(train_dir)\n",
        "    train_images = []\n",
        "\n",
        "    for city in sorted(train_image_cities):\n",
        "        train_city = os.path.join(train_dir, city)\n",
        "        images = sorted([os.path.join(train_city, img) for img in os.listdir(train_city) if img.endswith('.png')])\n",
        "        train_images.extend(images)\n",
        "\n",
        "    return train_images\n",
        "\n",
        "def load_labels_test():\n",
        "    train_dir = '/content/gtFine/test'\n",
        "    train_labels_cities = os.listdir(train_dir)\n",
        "    train_labels = []\n",
        "    for city in sorted(train_labels_cities):\n",
        "        train_city_label = os.path.join(train_dir, city)\n",
        "        labels = sorted([os.path.join(train_city_label, f) for f in os.listdir(train_city_label) if f.endswith('_gtFine_labelIds.png')])\n",
        "        train_labels.extend(labels)\n",
        "    return train_labels"
      ]
    },
    {
      "cell_type": "code",
      "execution_count": null,
      "metadata": {
        "id": "-w9CLcnqhqH9"
      },
      "outputs": [],
      "source": [
        "def read_img_test(img_path):\n",
        "    img = tf.io.read_file(img_path)\n",
        "    img = tf.io.decode_png(img, channels=3)\n",
        "    img = tf.image.resize(img, (img_height, img_width))\n",
        "    img = img / 255.0\n",
        "    return img\n",
        "\n",
        "def read_labels_test(label_path):\n",
        "    label = tf.io.read_file(label_path)\n",
        "    label = tf.io.decode_png(label, channels=1)\n",
        "    label = tf.image.resize(label, (img_height, img_width), method=tf.image.ResizeMethod.NEAREST_NEIGHBOR)\n",
        "    return tf.cast(label, tf.uint8)"
      ]
    },
    {
      "cell_type": "code",
      "execution_count": null,
      "metadata": {
        "id": "2TQo6yfIh2J0"
      },
      "outputs": [],
      "source": [
        "def process_data_val(image_path, label_path):\n",
        "    image = read_img(image_path)\n",
        "    label = read_labels(label_path)\n",
        "    return image, label\n",
        "\n",
        "def map_labels_tf(label):\n",
        "    label = tf.squeeze(label, axis=-1)\n",
        "    original_ids = tf.constant([7, 8, 11, 12, 13, 17, 19, 20, 21, 22, 23, 24, 25, 26, 27, 28, 31, 32, 33], dtype=tf.int32)\n",
        "    train_ids = tf.range(19, dtype=tf.int32)\n",
        "    lookup = tf.fill([34], 255)\n",
        "    lookup = tf.tensor_scatter_nd_update(lookup, tf.expand_dims(original_ids, axis=1), train_ids)\n",
        "    y_mapped = tf.gather(lookup, tf.cast(label, tf.int32))\n",
        "    return tf.expand_dims(y_mapped, axis=-1)\n",
        "\n",
        "\n",
        "images = load_img_val()\n",
        "labels = load_labels_val()\n",
        "\n",
        "# Create TF Dataset\n",
        "test_dataset = tf.data.Dataset.from_tensor_slices((images, labels))\n",
        "test_dataset = test_dataset.map(process_data_val, num_parallel_calls=tf.data.AUTOTUNE)\n",
        "test_dataset = test_dataset.map(lambda image, label: (image, map_labels_tf(label)), num_parallel_calls=tf.data.AUTOTUNE)\n",
        "test_dataset = test_dataset.shuffle(buffer_size=1000).cache().batch(final_batch_size)\n",
        "test_dataset = test_dataset.prefetch(buffer_size=tf.data.AUTOTUNE)\n",
        "test_dataset = strategy.experimental_distribute_dataset(test_dataset)"
      ]
    },
    {
      "cell_type": "markdown",
      "metadata": {
        "id": "71fnRZr6XnEY"
      },
      "source": [
        "**FCN model**"
      ]
    },
    {
      "cell_type": "code",
      "execution_count": null,
      "metadata": {
        "id": "lYYeYAZ7WKGM"
      },
      "outputs": [],
      "source": [
        "class Block(tf.keras.models.Model):\n",
        "    def __init__(self, n_conv, filters, kernel_size, activation, pool_size, pool_stride, block_name):\n",
        "        super().__init__()\n",
        "        self.conv_layers = [\n",
        "            tf.keras.layers.Conv2D(filters=filters, kernel_size=kernel_size, padding='same',\n",
        "                                   activation=activation, name=f\"{block_name}_conv{i+1}\")\n",
        "            for i in range(n_conv)\n",
        "        ]\n",
        "        self.pool = tf.keras.layers.MaxPool2D(pool_size=pool_size, strides=pool_stride, name=f\"{block_name}_pool\")\n",
        "\n",
        "    def call(self, inputs):\n",
        "        x = inputs\n",
        "        for conv in self.conv_layers:\n",
        "            x = conv(x)\n",
        "        x = self.pool(x)\n",
        "        return x"
      ]
    },
    {
      "cell_type": "code",
      "execution_count": null,
      "metadata": {
        "id": "qTQFaELPY5CU"
      },
      "outputs": [],
      "source": [
        "\n",
        "\n",
        "class Encoder(tf.keras.models.Model):\n",
        "    def __init__(self):\n",
        "        super().__init__()\n",
        "        base_model = tf.keras.applications.ResNet50(include_top=False, weights='imagenet', input_shape=(768,1536,3))\n",
        "\n",
        "\n",
        "        self.layer_names = [\n",
        "            'conv1_relu',\n",
        "            'conv2_block3_out',\n",
        "            'conv3_block4_out',\n",
        "            'conv4_block6_out',\n",
        "            'conv5_block3_out'\n",
        "        ]\n",
        "\n",
        "        self.outputs = [base_model.get_layer(name).output for name in self.layer_names]\n",
        "        self.encoder = tf.keras.Model(inputs=base_model.input, outputs=self.outputs)\n",
        "\n",
        "    def call(self, inputs):\n",
        "        return self.encoder(inputs)\n"
      ]
    },
    {
      "cell_type": "code",
      "execution_count": null,
      "metadata": {
        "id": "C7urJTNYZAVO"
      },
      "outputs": [],
      "source": [
        "class Decoder(tf.keras.models.Model):\n",
        "    def __init__(self, nclasses=19):\n",
        "        super().__init__()\n",
        "\n",
        "\n",
        "        self.upsample1 = tf.keras.layers.Conv2DTranspose(nclasses, kernel_size=(4, 4), strides=(2, 2), padding='same', use_bias=False)\n",
        "        self.bn1 = tf.keras.layers.BatchNormalization()\n",
        "        self.relu1 = tf.keras.layers.ReLU()\n",
        "\n",
        "        self.upsample2 = tf.keras.layers.Conv2DTranspose(nclasses, kernel_size=(4, 4), strides=(2, 2), padding='same', use_bias=False)\n",
        "        self.bn2 = tf.keras.layers.BatchNormalization()\n",
        "        self.relu2 = tf.keras.layers.ReLU()\n",
        "\n",
        "        self.upsample3 = tf.keras.layers.Conv2DTranspose(nclasses, kernel_size=(4, 4), strides=(2, 2), padding='same', use_bias=False)\n",
        "        self.bn3 = tf.keras.layers.BatchNormalization()\n",
        "        self.relu3 = tf.keras.layers.ReLU()\n",
        "\n",
        "\n",
        "        self.skip1 = tf.keras.layers.Conv2D(nclasses, kernel_size=(1, 1), padding='same', use_bias=False)\n",
        "        self.skip1_bn = tf.keras.layers.BatchNormalization()\n",
        "        self.skip1_relu = tf.keras.layers.ReLU()\n",
        "\n",
        "        self.skip2 = tf.keras.layers.Conv2D(nclasses, kernel_size=(1, 1), padding='same', use_bias=False)\n",
        "        self.skip2_bn = tf.keras.layers.BatchNormalization()\n",
        "        self.skip2_relu = tf.keras.layers.ReLU()\n",
        "\n",
        "        self.skip3 = tf.keras.layers.Conv2D(nclasses, kernel_size=(1, 1), padding='same', use_bias=False)\n",
        "        self.skip3_bn = tf.keras.layers.BatchNormalization()\n",
        "        self.skip3_relu = tf.keras.layers.ReLU()\n",
        "\n",
        "\n",
        "        self.add1 = tf.keras.layers.Add()\n",
        "        self.add2 = tf.keras.layers.Add()\n",
        "        self.add3 = tf.keras.layers.Add()\n",
        "\n",
        "\n",
        "        self.fcn4 = tf.keras.layers.Conv2DTranspose(nclasses, kernel_size=(4, 4), strides=(4, 4), padding='same', name='fcn4')\n",
        "        self.softmax = tf.keras.layers.Softmax(axis=-1)\n",
        "\n",
        "    def call(self, inputs, training=False):\n",
        "        p1, p2, p3, p4, p5 = inputs\n",
        "\n",
        "\n",
        "        o = self.upsample1(p5)\n",
        "        o = self.bn1(o, training=training)\n",
        "        o = self.relu1(o)\n",
        "        skip = self.skip1(p4)\n",
        "        skip = self.skip1_bn(skip, training=training)\n",
        "        skip = self.skip1_relu(skip)\n",
        "        o = self.add1([o, skip])\n",
        "\n",
        "\n",
        "        o = self.upsample2(o)\n",
        "        o = self.bn2(o, training=training)\n",
        "        o = self.relu2(o)\n",
        "        skip = self.skip2(p3)\n",
        "        skip = self.skip2_bn(skip, training=training)\n",
        "        skip = self.skip2_relu(skip)\n",
        "        o = self.add2([o, skip])\n",
        "\n",
        "\n",
        "        o = self.upsample3(o)\n",
        "        o = self.bn3(o, training=training)\n",
        "        o = self.relu3(o)\n",
        "        skip = self.skip3(p2)\n",
        "        skip = self.skip3_bn(skip, training=training)\n",
        "        skip = self.skip3_relu(skip)\n",
        "        o = self.add3([o, skip])\n",
        "\n",
        "\n",
        "        fcn4 = self.fcn4(o)\n",
        "\n",
        "        return self.softmax(fcn4)\n"
      ]
    },
    {
      "cell_type": "code",
      "execution_count": null,
      "metadata": {
        "id": "4WXzcbDYZOJ5"
      },
      "outputs": [],
      "source": [
        "class FCN(tf.keras.models.Model):\n",
        "    def __init__(self):\n",
        "        super().__init__()\n",
        "        self.Encoder = Encoder()\n",
        "        self.Decoder = Decoder()\n",
        "\n",
        "    def call(self, inputs):\n",
        "        x = self.Encoder(inputs)\n",
        "        x = self.Decoder(x)\n",
        "        return x\n"
      ]
    },
    {
      "cell_type": "code",
      "execution_count": null,
      "metadata": {
        "id": "JxRi_CXd411R",
        "colab": {
          "base_uri": "https://localhost:8080/"
        },
        "outputId": "4df77a63-4402-4335-aabf-5cd02d976866"
      },
      "outputs": [
        {
          "output_type": "stream",
          "name": "stdout",
          "text": [
            "Model built: True\n",
            "Trainable variables: ['kernel', 'bias', 'gamma', 'beta', 'kernel', 'bias', 'gamma', 'beta', 'kernel', 'bias', 'gamma', 'beta', 'kernel', 'bias', 'kernel', 'bias', 'gamma', 'beta', 'gamma', 'beta', 'kernel', 'bias', 'gamma', 'beta', 'kernel', 'bias', 'gamma', 'beta', 'kernel', 'bias', 'gamma', 'beta', 'kernel', 'bias', 'gamma', 'beta', 'kernel', 'bias', 'gamma', 'beta', 'kernel', 'bias', 'gamma', 'beta', 'kernel', 'bias', 'gamma', 'beta', 'kernel', 'bias', 'gamma', 'beta', 'kernel', 'bias', 'kernel', 'bias', 'gamma', 'beta', 'gamma', 'beta', 'kernel', 'bias', 'gamma', 'beta', 'kernel', 'bias', 'gamma', 'beta', 'kernel', 'bias', 'gamma', 'beta', 'kernel', 'bias', 'gamma', 'beta', 'kernel', 'bias', 'gamma', 'beta', 'kernel', 'bias', 'gamma', 'beta', 'kernel', 'bias', 'gamma', 'beta', 'kernel', 'bias', 'gamma', 'beta', 'kernel', 'bias', 'gamma', 'beta', 'kernel', 'bias', 'gamma', 'beta', 'kernel', 'bias', 'gamma', 'beta', 'kernel', 'bias', 'kernel', 'bias', 'gamma', 'beta', 'gamma', 'beta', 'kernel', 'bias', 'gamma', 'beta', 'kernel', 'bias', 'gamma', 'beta', 'kernel', 'bias', 'gamma', 'beta', 'kernel', 'bias', 'gamma', 'beta', 'kernel', 'bias', 'gamma', 'beta', 'kernel', 'bias', 'gamma', 'beta', 'kernel', 'bias', 'gamma', 'beta', 'kernel', 'bias', 'gamma', 'beta', 'kernel', 'bias', 'gamma', 'beta', 'kernel', 'bias', 'gamma', 'beta', 'kernel', 'bias', 'gamma', 'beta', 'kernel', 'bias', 'gamma', 'beta', 'kernel', 'bias', 'gamma', 'beta', 'kernel', 'bias', 'gamma', 'beta', 'kernel', 'bias', 'gamma', 'beta', 'kernel', 'bias', 'gamma', 'beta', 'kernel', 'bias', 'gamma', 'beta', 'kernel', 'bias', 'kernel', 'bias', 'gamma', 'beta', 'gamma', 'beta', 'kernel', 'bias', 'gamma', 'beta', 'kernel', 'bias', 'gamma', 'beta', 'kernel', 'bias', 'gamma', 'beta', 'kernel', 'bias', 'gamma', 'beta', 'kernel', 'bias', 'gamma', 'beta', 'kernel', 'bias', 'gamma', 'beta', 'kernel', 'gamma', 'beta', 'kernel', 'gamma', 'beta', 'kernel', 'gamma', 'beta', 'kernel', 'gamma', 'beta', 'kernel', 'gamma', 'beta', 'kernel', 'gamma', 'beta', 'kernel', 'bias']\n"
          ]
        }
      ],
      "source": [
        "with strategy.scope():\n",
        "    fcn = FCN()\n",
        "    sample_input = tf.random.uniform((1, 768, 1536, 3))\n",
        "    fcn(sample_input)\n",
        "    print(\"Model built:\", fcn.built)\n",
        "    print(\"Trainable variables:\", [var.name for var in fcn.trainable_variables])\n",
        "\n",
        "\n",
        "# fcn = FCN()\n",
        "# sample_input = tf.random.uniform((1, 768, 1536, 3))\n",
        "# fcn(sample_input)\n",
        "# print(\"Model built:\", fcn.built)\n",
        "# print(\"Trainable variables:\", [var.name for var in fcn.trainable_variables])"
      ]
    },
    {
      "cell_type": "code",
      "execution_count": null,
      "metadata": {
        "id": "18i2b45Cb4Wy"
      },
      "outputs": [],
      "source": []
    },
    {
      "cell_type": "markdown",
      "metadata": {
        "id": "t99faxaF2nJN"
      },
      "source": [
        "**UNET**"
      ]
    },
    {
      "cell_type": "code",
      "execution_count": null,
      "metadata": {
        "id": "q1GY9fuSZy2v"
      },
      "outputs": [],
      "source": [
        "class ConvBlock(tf.keras.models.Model):\n",
        "  def __init__(self, n_filters,block_name , kernel_size=3 , strides = (1,1) , activation='relu'):\n",
        "    super().__init__()\n",
        "    self.conv = [tf.keras.layers.Conv2D(filters=n_filters , strides=strides , kernel_size=(kernel_size, kernel_size) , activation='relu', name=f\"{block_name}_conv{i+1}\", padding='same') for i in range (2)]\n",
        "  def call(self, inputs):\n",
        "    x = inputs\n",
        "    for layer in self.conv:\n",
        "      x = layer(x)\n",
        "    return x"
      ]
    },
    {
      "cell_type": "code",
      "execution_count": null,
      "metadata": {
        "id": "XnXkjW1yBK2t"
      },
      "outputs": [],
      "source": [
        "class EncoderBlock(tf.keras.models.Model):\n",
        "  def __init__(self, n_filters , pool_size , dropout,block_name):\n",
        "    super().__init__()\n",
        "    self.convBlock = ConvBlock(n_filters=n_filters , block_name=block_name, strides=(1,1))\n",
        "    self.pool = tf.keras.layers.MaxPooling2D(pool_size=pool_size)\n",
        "    self.dropout = tf.keras.layers.Dropout(rate = dropout)\n",
        "  def call (self, inputs) :\n",
        "    f = self.convBlock(inputs)\n",
        "    p = self.pool(f)\n",
        "    p = self.dropout(p)\n",
        "    return f , p"
      ]
    },
    {
      "cell_type": "code",
      "execution_count": null,
      "metadata": {
        "id": "bGj_gAVYCtKV"
      },
      "outputs": [],
      "source": [
        "class Encoder (tf.keras.models.Model):\n",
        "  def __init__(self):\n",
        "    super().__init__()\n",
        "    self.encoder1 = EncoderBlock(64 , pool_size=(2,2),dropout=0.3 , block_name = 'block1')\n",
        "    self.encoder2 = EncoderBlock(128 , pool_size=(2,2),dropout=0.3 , block_name = 'block2')\n",
        "    self.encoder3 = EncoderBlock(256 , pool_size=(2,2),dropout=0.3 , block_name = 'block3')\n",
        "    self.encoder4 = EncoderBlock(512, pool_size=(2,2),dropout=0.3 , block_name = 'block4')\n",
        "  def call(self, inputs):\n",
        "    f1,p1=self.encoder1(inputs)\n",
        "    f2,p2 = self.encoder2(p1)\n",
        "    f3 , p3 = self.encoder3(p2)\n",
        "    f4,p4 = self.encoder4(p3)\n",
        "    return p4,(f1,f2,f3,f4)"
      ]
    },
    {
      "cell_type": "code",
      "execution_count": null,
      "metadata": {
        "id": "JnixQBJQEYxk"
      },
      "outputs": [],
      "source": [
        "class BottleNeck(tf.keras.models.Model):\n",
        "  def __init__(self):\n",
        "    super().__init__()\n",
        "    self.convBlock=ConvBlock(1024, block_name = 'bottleneck' )\n",
        "  def call(self, inputs):\n",
        "    x = self.convBlock(inputs)\n",
        "    return x"
      ]
    },
    {
      "cell_type": "code",
      "execution_count": null,
      "metadata": {
        "id": "yRG3BTRoKBp_"
      },
      "outputs": [],
      "source": [
        "class DecoderBlock(tf.keras.models.Model):\n",
        "  def __init__(self, n_filters ,dropout,block_name , kernel_size= (3,3),strides = (2,2)  ):\n",
        "    super().__init__()\n",
        "    self.convTranspose = tf.keras.layers.Conv2DTranspose(n_filters, kernel_size = kernel_size , strides=strides , padding = 'same')\n",
        "    self.concat = tf.keras.layers.Concatenate()\n",
        "    self.DropOut = tf.keras.layers.Dropout(dropout)\n",
        "    self.convBlock = ConvBlock(n_filters=n_filters , block_name =block_name  )\n",
        "  def call(self, inputs , convOutput):\n",
        "    u=self.convTranspose(inputs)\n",
        "    c = self.concat([u,convOutput])\n",
        "    c= self.DropOut(c)\n",
        "    c = self.convBlock(c)\n",
        "    return c"
      ]
    },
    {
      "cell_type": "code",
      "execution_count": null,
      "metadata": {
        "id": "38eh4paxNH6X"
      },
      "outputs": [],
      "source": [
        "\n",
        "class Decoder (tf.keras.models.Model):\n",
        "  def __init__(self) :\n",
        "    super().__init__()\n",
        "    self.Decoder1 = DecoderBlock(n_filters=512 , dropout=0.3 , block_name='Decoder1')\n",
        "    self.Decoder2 = DecoderBlock(n_filters=256 , dropout=0.3 , block_name='Decoder2')\n",
        "    self.Decoder3 = DecoderBlock(n_filters=128 , dropout=0.3 , block_name='Decoder3')\n",
        "    self.Decoder4 = DecoderBlock(n_filters=64 , dropout=0.3 , block_name='Decoder4')\n",
        "    self.final_conv = tf.keras.layers.Conv2D(19, kernel_size=(1,1))\n",
        "  def call(self , inputs , conv):\n",
        "    f1, f2 , f3, f4 = conv\n",
        "    c6 = self.Decoder1(inputs, f4 )\n",
        "    c7 = self.Decoder2(c6,f3)\n",
        "    c8 = self.Decoder3(c7,f2)\n",
        "    c9= self.Decoder4(c8, f1)\n",
        "    outputs = self.final_conv(c9)\n",
        "    return outputs\n"
      ]
    },
    {
      "cell_type": "code",
      "execution_count": null,
      "metadata": {
        "id": "50M1jLpNPbHe"
      },
      "outputs": [],
      "source": [
        "class Unet (tf.keras.models.Model):\n",
        "  def __init__(self):\n",
        "    super().__init__()\n",
        "    self.Encoder = Encoder()\n",
        "    self.BottleNeck = BottleNeck()\n",
        "    self.Decoder = Decoder()\n",
        "  def call(self , inputs):\n",
        "    encoder_output,convs = self.Encoder(inputs)\n",
        "    bottleNeck_output = self.BottleNeck(encoder_output)\n",
        "    output = self.Decoder(bottleNeck_output,convs)\n",
        "    return output"
      ]
    },
    {
      "cell_type": "markdown",
      "metadata": {
        "id": "eHQD28WFRJyl"
      },
      "source": []
    },
    {
      "cell_type": "code",
      "execution_count": null,
      "metadata": {
        "id": "8ZQzYRpVi9dS"
      },
      "outputs": [],
      "source": [
        "with strategy.scope():\n",
        "  unet = Unet()"
      ]
    },
    {
      "cell_type": "markdown",
      "metadata": {
        "id": "jcAZx14LYsBv"
      },
      "source": [
        "***UNET ++***"
      ]
    },
    {
      "cell_type": "code",
      "execution_count": null,
      "metadata": {
        "id": "Ky0wpWCXYxRo"
      },
      "outputs": [],
      "source": [
        "class Unet_plus_plus_convolutional_block(tf.keras.models.Model):\n",
        "  def __init__(self, n_filters , block_name , activation = 'relu',kernel_size=(3,3)  ):\n",
        "    super().__init__()\n",
        "    self.conv_layers = [tf.keras.layers.Conv2D(filters=n_filters , kernel_size= kernel_size , name=f\"{block_name}_conv{i+1}\",padding = 'same', activation='relu') for i in range (2)]\n",
        "  def call(self, inputs) :\n",
        "    x = inputs\n",
        "    for layer in self.conv_layers:\n",
        "      x=layer(x)\n",
        "    return x"
      ]
    },
    {
      "cell_type": "code",
      "execution_count": null,
      "metadata": {
        "id": "DoVSW0wMbWTe"
      },
      "outputs": [],
      "source": [
        "class Encoder_Block_for_unt_plus_plus(tf.keras.models.Model):\n",
        "  def __init__(self,  n_filters , pool_size , dropout,block_name):\n",
        "    super().__init__()\n",
        "    self.conv = Unet_plus_plus_convolutional_block(n_filters=n_filters, block_name=block_name)\n",
        "    self.pool = tf.keras.layers.MaxPooling2D(pool_size=pool_size)\n",
        "    self.dropout = tf.keras.layers.Dropout(rate =dropout)\n",
        "  def call(self,inputs):\n",
        "    f=self.conv(inputs)\n",
        "    p = self.pool(f)\n",
        "    p = self.dropout(p)\n",
        "    return f ,  p"
      ]
    },
    {
      "cell_type": "code",
      "execution_count": null,
      "metadata": {
        "id": "8cis-R7e4ozB"
      },
      "outputs": [],
      "source": [
        "class Encoder_for_unt_plus_plus(tf.keras.models.Model):\n",
        "  def __init__(self):\n",
        "    super().__init__()\n",
        "    self.encoder1 = Encoder_Block_for_unt_plus_plus(n_filters=64, pool_size=(2,2) , dropout=0.3, block_name = 'encoder1')\n",
        "    self.encoder2 = Encoder_Block_for_unt_plus_plus(n_filters=128, pool_size=(2,2) , dropout=0.3, block_name = 'encoder2')\n",
        "    self.encoder3 = Encoder_Block_for_unt_plus_plus(n_filters=256, pool_size=(2,2) , dropout=0.3, block_name = 'encoder3')\n",
        "    self.encoder4 = Encoder_Block_for_unt_plus_plus(n_filters=512, pool_size=(2,2) , dropout=0.3, block_name = 'encoder4')\n",
        "  def call(self, inputs):\n",
        "    f1,p1 = self.encoder1(inputs)\n",
        "    f2,p2 = self.encoder2(p1)\n",
        "    f3,p3 = self.encoder3(p2)\n",
        "    f4,p4 = self.encoder4(p3)\n",
        "    return (f1,f2,f3,f4),(p1,p2,p3,p4)"
      ]
    },
    {
      "cell_type": "code",
      "execution_count": null,
      "metadata": {
        "id": "r-p5Nw8n7TcD"
      },
      "outputs": [],
      "source": [
        "class BottleNeck_for_unet_plus_plus(tf.keras.models.Model):\n",
        "  def __init__(self ):\n",
        "    super().__init__()\n",
        "    self.bottle_neck = Unet_plus_plus_convolutional_block(n_filters=1024 , block_name = 'bottle_neck'  )\n",
        "  def call(self, inputs):\n",
        "    x = self.bottle_neck(inputs)\n",
        "    return x"
      ]
    },
    {
      "cell_type": "code",
      "execution_count": null,
      "metadata": {
        "id": "HKqiRcGr83D5"
      },
      "outputs": [],
      "source": [
        "class Decoder_Block_for_unet_plus_plus(tf.keras.models.Model):\n",
        "  def __init__(self,n_filters  , dropout,block_name):\n",
        "    super().__init__()\n",
        "    self.conv = Unet_plus_plus_convolutional_block(n_filters=n_filters , block_name = block_name)\n",
        "    self.dropout = tf.keras.layers.Dropout(rate = dropout)\n",
        "    self.convTranspose = tf.keras.layers.Conv2DTranspose(n_filters, kernel_size = (3,3) , strides=(2,2) , padding = 'same')\n",
        "    self.concat = tf.keras.layers.Concatenate()\n",
        "\n",
        "  def call(self, conv_output_conc, inputs):\n",
        "\n",
        "\n",
        "\n",
        "\n",
        "      if inputs.shape[1] <= 1 or inputs.shape[2] <= 1:\n",
        "\n",
        "          target_size = (max(conv_output_conc.shape[1], 1), max(conv_output_conc.shape[2], 1))\n",
        "          u = tf.image.resize(inputs, target_size)\n",
        "      else:\n",
        "          u = self.convTranspose(inputs)\n",
        "\n",
        "\n",
        "      if u.shape[1:3] != conv_output_conc.shape[1:3]:\n",
        "\n",
        "          if u.shape[1] * u.shape[2] < conv_output_conc.shape[1] * conv_output_conc.shape[2]:\n",
        "              u = tf.image.resize(u, (conv_output_conc.shape[1], conv_output_conc.shape[2]))\n",
        "          else:\n",
        "              conv_output_conc = tf.image.resize(conv_output_conc, (u.shape[1], u.shape[2]))\n",
        "\n",
        "      c = self.concat([u, conv_output_conc])\n",
        "      c = self.dropout(c)\n",
        "      c = self.conv(c)\n",
        "      return c"
      ]
    },
    {
      "cell_type": "code",
      "execution_count": null,
      "metadata": {
        "id": "i9jopfkfASqD"
      },
      "outputs": [],
      "source": [
        "class Decoder_for_unet_plus_plus(tf.keras.models.Model):\n",
        "  def __init__(self,num_classes = 19):\n",
        "    super().__init__()\n",
        "    self.decoder11 = Decoder_Block_for_unet_plus_plus(n_filters=64  , dropout = 0.3, block_name = 'skip_conv_block_11')\n",
        "    self.decoder12 = Decoder_Block_for_unet_plus_plus(n_filters=64  , dropout = 0.3, block_name = 'skip_conv_block_12')\n",
        "    self.decoder13 = Decoder_Block_for_unet_plus_plus(n_filters=64  , dropout = 0.3, block_name = 'skip_conv_block_13')\n",
        "    self.decoder14 = Decoder_Block_for_unet_plus_plus(n_filters=64  , dropout = 0.3, block_name = 'skip_conv_block_14')\n",
        "    self.decoder21 = Decoder_Block_for_unet_plus_plus(n_filters=128  , dropout = 0.3, block_name = 'skip_conv_block_21')\n",
        "    self.decoder22 = Decoder_Block_for_unet_plus_plus(n_filters=128  , dropout = 0.3, block_name = 'skip_conv_block_22')\n",
        "    self.decoder23 = Decoder_Block_for_unet_plus_plus(n_filters=128  , dropout = 0.3, block_name = 'skip_conv_block_23')\n",
        "    self.decoder31 = Decoder_Block_for_unet_plus_plus(n_filters=256  , dropout = 0.3, block_name = 'skip_conv_block_31')\n",
        "    self.decoder32 = Decoder_Block_for_unet_plus_plus(n_filters=256  , dropout = 0.3, block_name = 'skip_conv_block_32')\n",
        "    self.decoder41 = Decoder_Block_for_unet_plus_plus(n_filters=512  , dropout = 0.3, block_name = 'skip_conv_block_41')\n",
        "\n",
        "    self.concat12=tf.keras.layers.Concatenate()\n",
        "    self.concat13=tf.keras.layers.Concatenate()\n",
        "    self.concat14=tf.keras.layers.Concatenate()\n",
        "\n",
        "    self.concat22=tf.keras.layers.Concatenate()\n",
        "    self.concat23=tf.keras.layers.Concatenate()\n",
        "\n",
        "    self.concat32=tf.keras.layers.Concatenate()\n",
        "    self.bottle_neck = BottleNeck_for_unet_plus_plus()\n",
        "    self.output_layer14 = tf.keras.layers.Conv2D(\n",
        "        filters=num_classes,\n",
        "        kernel_size=(1,1),\n",
        "        activation='sigmoid' if num_classes == 1 else 'softmax',\n",
        "        padding='same',\n",
        "        name='output_layer'\n",
        "        )\n",
        "    self.output_layer13 = tf.keras.layers.Conv2D(\n",
        "        filters=num_classes,\n",
        "        kernel_size=(1,1),\n",
        "        activation='sigmoid' if num_classes == 1 else 'softmax',\n",
        "        padding='same',\n",
        "        name='output_layer'\n",
        "        )\n",
        "    self.output_layer12 = tf.keras.layers.Conv2D(\n",
        "        filters=num_classes,\n",
        "        kernel_size=(1,1),\n",
        "        activation='sigmoid' if num_classes == 1 else 'softmax',\n",
        "        padding='same',\n",
        "        name='output_layer'\n",
        "        )\n",
        "    self.output_layer11 = tf.keras.layers.Conv2D(\n",
        "        filters=num_classes,\n",
        "        kernel_size=(1,1),\n",
        "        activation='sigmoid' if num_classes == 1 else 'softmax',\n",
        "        padding='same',\n",
        "        name='output_layer'\n",
        "        )\n",
        "\n",
        "  def call(self, convs_cont , pool_cont):\n",
        "    f1,f2,f3,f4 = convs_cont\n",
        "    p1,p2,p3,p4 = pool_cont\n",
        "    for i, feat in enumerate([f1, f2, f3, f4, p1, p2, p3, p4]):\n",
        "        if feat.shape[1] < 1 or feat.shape[2] < 1:\n",
        "            print(f\"Warning: Feature map {i} has invalid dimensions: {feat.shape}\")\n",
        "    p5 = self.bottle_neck(p4)\n",
        "    decoder41 = self.decoder41(f4,p5)\n",
        "    decoder31 = self.decoder31(f3,p4)\n",
        "    conc32 = self.concat32([f3 , decoder31])\n",
        "    decoder32 = self.decoder32(conc32 , decoder41)\n",
        "    decoder21 = self.decoder21(f2,p3)\n",
        "    conc22 = self.concat22([f2,decoder21])\n",
        "    decoder22 = self.decoder22(conc22 , decoder31)\n",
        "    conc23 = self.concat23([f2,decoder21, decoder22])\n",
        "    decoder23 = self.decoder23(conc23 , decoder32)\n",
        "    decoder11 = self.decoder11(f1,p2)\n",
        "    conc12 = self.concat12([f1,decoder11])\n",
        "    decoder12 = self.decoder12(conc12 , decoder21)\n",
        "    conc13 = self.concat13([f1,decoder11,decoder12])\n",
        "    decoder13 = self.decoder13(conc13 , decoder22)\n",
        "    conc14 = self.concat14([f1 , decoder11  , decoder12 , decoder13])\n",
        "    decoder14 = self.decoder14(conc14 , decoder23)\n",
        "    output14 = self.output_layer14(decoder14)\n",
        "    output13 = self.output_layer13(decoder13)\n",
        "    output12 = self.output_layer12(decoder12)\n",
        "    output11 = self.output_layer11(decoder11)\n",
        "    return output11,output12,output13,output14"
      ]
    },
    {
      "cell_type": "code",
      "execution_count": null,
      "metadata": {
        "id": "_QbqnnYvIS-v"
      },
      "outputs": [],
      "source": [
        "class Unet_plus_plus(tf.keras.models.Model):\n",
        "    def __init__(self, min_input_size=16):\n",
        "        super().__init__()\n",
        "        self.min_input_size = min_input_size\n",
        "        self.encoder = Encoder_for_unt_plus_plus()\n",
        "        self.decoder = Decoder_for_unet_plus_plus()\n",
        "\n",
        "    def call(self, inputs):\n",
        "\n",
        "        input_shape = inputs.shape\n",
        "        if input_shape[1] < self.min_input_size or input_shape[2] < self.min_input_size:\n",
        "            raise ValueError(f\"Input image dimensions must be at least {self.min_input_size}x{self.min_input_size}\")\n",
        "\n",
        "        y, z = self.encoder(inputs)\n",
        "        output11, output12, output13, output14 = self.decoder(y, z)\n",
        "        return output11, output12, output13, output14"
      ]
    },
    {
      "cell_type": "code",
      "execution_count": null,
      "metadata": {
        "id": "QhvmJp5cJ86_"
      },
      "outputs": [],
      "source": [
        "with strategy.scope():\n",
        "  unet_plus_plus = Unet_plus_plus()"
      ]
    },
    {
      "cell_type": "markdown",
      "metadata": {
        "id": "bYo7fCzYMLoO"
      },
      "source": [
        "**testing code for model**"
      ]
    },
    {
      "cell_type": "markdown",
      "metadata": {
        "id": "pG9N7x9NpFX8"
      },
      "source": [
        "**defining loss**"
      ]
    },
    {
      "cell_type": "code",
      "execution_count": null,
      "metadata": {
        "id": "Zgqf26VNpmJO"
      },
      "outputs": [],
      "source": [
        "\n",
        "\n",
        "class DiceLoss(tf.keras.losses.Loss):\n",
        "    def __init__(self, smooth=1e-6, name=\"DiceLoss\"):\n",
        "        super().__init__(reduction=tf.keras.losses.Reduction.NONE, name=name)\n",
        "        self.smooth = smooth\n",
        "\n",
        "    def compute_per_sample(self, y_true, y_pred):\n",
        "        dtype = y_pred.dtype\n",
        "\n",
        "        # one-hot encode\n",
        "        y_true_one_hot = tf.one_hot(tf.cast(y_true, tf.int32), depth=19, dtype=dtype)\n",
        "\n",
        "        # valid mask\n",
        "        mask = tf.not_equal(y_true, 255)\n",
        "        mask = tf.cast(mask, dtype)[..., tf.newaxis]  # add channel dimension\n",
        "\n",
        "        y_pred = tf.clip_by_value(y_pred, 1e-7, 1.0 - 1e-7)\n",
        "\n",
        "        # intersection and union\n",
        "        intersection = tf.reduce_sum(y_true_one_hot * y_pred * mask, axis=[1,2])\n",
        "        union = tf.reduce_sum(y_true_one_hot * mask, axis=[1,2]) + tf.reduce_sum(y_pred * mask, axis=[1,2])\n",
        "\n",
        "        dice_per_class = (2.0 * intersection + self.smooth) / (union + self.smooth)\n",
        "        dice_loss_per_sample = 1.0 - tf.reduce_mean(dice_per_class, axis=-1)  # (batch,)\n",
        "\n",
        "        return dice_loss_per_sample\n",
        "\n",
        "    def call(self, y_true, y_pred):\n",
        "        # fallback for model.fit()\n",
        "        return tf.reduce_mean(self.compute_per_sample(y_true, y_pred))\n",
        "\n",
        "\n",
        "\n",
        "class SemanticSegmentationLoss(tf.keras.losses.Loss):\n",
        "    def __init__(self, alpha=1.0, beta=1.0, name=\"SemanticSegmentationLoss\"):\n",
        "        super().__init__(reduction=tf.keras.losses.Reduction.NONE, name=name)\n",
        "        self.alpha = alpha\n",
        "        self.beta = beta\n",
        "        self.dice_loss = DiceLoss()\n",
        "        self.class_weights = tf.constant([\n",
        "            0.1, 0.2, 0.5, 0.7, 0.8,\n",
        "            1.0, 1.2, 1.3, 0.6, 0.9,\n",
        "            0.4, 1.5, 1.6, 1.1, 1.7,\n",
        "            1.8, 1.9, 2.0, 2.1\n",
        "        ], dtype=tf.float32)\n",
        "        self.ce_loss_fn = tf.keras.losses.SparseCategoricalCrossentropy(\n",
        "            from_logits=False, reduction='none'\n",
        "        )\n",
        "\n",
        "    def compute_per_sample(self, y_true, y_pred):\n",
        "        dtype = y_pred.dtype\n",
        "\n",
        "        # squeeze labels\n",
        "        y_true = tf.squeeze(y_true, axis=-1)\n",
        "\n",
        "        # mask invalid pixels (label 255)\n",
        "        mask_bool = tf.not_equal(y_true, 255)\n",
        "        mask = tf.cast(mask_bool, dtype)\n",
        "\n",
        "        # one-hot encode labels\n",
        "        y_true_one_hot = tf.one_hot(tf.cast(y_true, tf.int32), depth=19, dtype=dtype)\n",
        "\n",
        "        # cross-entropy loss per pixel\n",
        "        ce = self.ce_loss_fn(y_true, y_pred)  # (batch, height, width)\n",
        "        ce = tf.cast(ce, dtype)\n",
        "\n",
        "        # weighted cross-entropy\n",
        "        class_weights = tf.cast(self.class_weights, dtype)\n",
        "        pixel_weights = tf.tensordot(y_true_one_hot, class_weights, axes=([-1], [0]))\n",
        "        ce_weighted = ce * pixel_weights * mask\n",
        "\n",
        "        # per-sample (batch) CE loss\n",
        "        sum_ce = tf.reduce_sum(ce_weighted, axis=[1,2])\n",
        "        count_px = tf.reduce_sum(mask, axis=[1,2])\n",
        "        ce_per_sample = sum_ce / tf.maximum(count_px, 1e-6)\n",
        "\n",
        "        # dice loss per sample\n",
        "        dice_per_sample = self.dice_loss.compute_per_sample(y_true, y_pred)\n",
        "\n",
        "        # combined weighted loss\n",
        "        total_loss_per_sample = self.alpha * ce_per_sample + self.beta * dice_per_sample\n",
        "        return total_loss_per_sample  # (batch,)\n",
        "\n",
        "    def call(self, y_true, y_pred):\n",
        "        # fallback for model.fit()\n",
        "        return tf.reduce_mean(self.compute_per_sample(y_true, y_pred))\n"
      ]
    },
    {
      "cell_type": "code",
      "execution_count": null,
      "metadata": {
        "id": "-qUgykK3kVo7"
      },
      "outputs": [],
      "source": []
    },
    {
      "cell_type": "code",
      "execution_count": null,
      "metadata": {
        "id": "VLllqFTgQm4p"
      },
      "outputs": [],
      "source": [
        "with strategy.scope():\n",
        "    class DeepSupervisionLoss(tf.keras.losses.Loss):\n",
        "        def __init__(self, weights=None, smooth=1e-6):\n",
        "            super().__init__()\n",
        "            self.smooth = smooth\n",
        "            self.weights = weights or [1.0]\n",
        "            self.ce_loss = tf.keras.losses.SparseCategoricalCrossentropy(from_logits=True)\n",
        "\n",
        "        def dice_loss(self, y_true, y_pred):\n",
        "            # y_true = tf.squeeze(y_true, axis=-1)\n",
        "            num_classes = tf.shape(y_pred)[-1]\n",
        "            y_true_one_hot = tf.one_hot(tf.cast(y_true, tf.int32), depth=num_classes)\n",
        "            intersection = tf.reduce_sum(y_true_one_hot * y_pred, axis=[1, 2])\n",
        "            denominator = tf.reduce_sum(y_true_one_hot, axis=[1, 2]) + tf.reduce_sum(y_pred, axis=[1, 2])\n",
        "            return 1 - (2.0 * intersection + self.smooth) / (denominator + self.smooth)\n",
        "\n",
        "        def call(self, y_true, y_pred):\n",
        "            total_loss = 0.0\n",
        "            num_outputs = len(y_pred)\n",
        "            self.weights = self.weights[:num_outputs] + [1.0] * (num_outputs - len(self.weights))\n",
        "            # y_true = tf.squeeze(y_true, axis=-1)\n",
        "            mask = tf.not_equal(y_true, 255)\n",
        "            y_true_masked = tf.where(mask, y_true, 0)\n",
        "            for i in range(num_outputs):\n",
        "\n",
        "                ce = self.ce_loss(y_true_masked, y_pred[i])\n",
        "                ce = tf.reduce_sum(ce * tf.cast(mask, tf.float32)) / tf.reduce_sum(tf.cast(mask, tf.float32))\n",
        "                dice = self.dice_loss(y_true, y_pred[i])\n",
        "                total_loss += self.weights[i] * (ce + dice)\n",
        "            return total_loss"
      ]
    },
    {
      "cell_type": "code",
      "execution_count": null,
      "metadata": {
        "id": "SGS2N0sJsZWd"
      },
      "outputs": [],
      "source": []
    },
    {
      "cell_type": "markdown",
      "metadata": {
        "id": "HqLy6d_fQqWr"
      },
      "source": [
        "**IOU metric**"
      ]
    },
    {
      "cell_type": "code",
      "execution_count": null,
      "metadata": {
        "id": "fyxUTVNmwvIY"
      },
      "outputs": [],
      "source": [
        "class IOUMetric(tf.keras.metrics.Metric):\n",
        "    def __init__(self, n_classes=19, name=\"iou\", **kwargs):\n",
        "        super().__init__(name=name, **kwargs)\n",
        "        self.n_classes = n_classes\n",
        "        self.smooth = 1e-6\n",
        "        self.sum_intersection = self.add_weight(name=\"sum_intersection\", shape=(n_classes,), initializer=\"zeros\")\n",
        "        self.sum_union = self.add_weight(name=\"sum_union\", shape=(n_classes,), initializer=\"zeros\")\n",
        "\n",
        "    def update_state(self, y_true, y_pred, sample_weight=None):\n",
        "\n",
        "\n",
        "        y_pred = tf.argmax(y_pred, axis=-1)\n",
        "\n",
        "        # Fix here ➡️  mask 255\n",
        "        valid_mask = tf.not_equal(y_true, 255)\n",
        "\n",
        "\n",
        "\n",
        "\n",
        "        y_true = tf.boolean_mask(y_true, valid_mask)\n",
        "        y_pred = tf.boolean_mask(y_pred, valid_mask)\n",
        "\n",
        "        cm = tf.math.confusion_matrix(\n",
        "            tf.reshape(y_true, [-1]),\n",
        "            tf.reshape(y_pred, [-1]),\n",
        "            num_classes=self.n_classes,\n",
        "            dtype=tf.float32\n",
        "        )\n",
        "\n",
        "        intersection = tf.linalg.diag_part(cm)\n",
        "        union = tf.reduce_sum(cm, axis=0) + tf.reduce_sum(cm, axis=1) - tf.linalg.diag_part(cm)\n",
        "\n",
        "        self.sum_intersection.assign_add(intersection)\n",
        "        self.sum_union.assign_add(union)\n",
        "\n",
        "\n",
        "\n",
        "\n",
        "    def result(self):\n",
        "        iou = (self.sum_intersection + self.smooth) / (self.sum_union + self.smooth)\n",
        "        mean_iou = tf.reduce_mean(iou)\n",
        "        return mean_iou\n",
        "\n",
        "    def reset_state(self):\n",
        "        self.sum_intersection.assign(tf.zeros_like(self.sum_intersection))\n",
        "        self.sum_union.assign(tf.zeros_like(self.sum_union))\n"
      ]
    },
    {
      "cell_type": "markdown",
      "metadata": {
        "id": "Jb5ZLJrUQxgx"
      },
      "source": [
        "**per class IOU metrics**"
      ]
    },
    {
      "cell_type": "code",
      "execution_count": null,
      "metadata": {
        "id": "XVQfJePV-tjG"
      },
      "outputs": [],
      "source": [
        "class PerClassIOUMetric(tf.keras.metrics.Metric):\n",
        "    def __init__(self, n_classes=19, name=\"iou_per_class\", **kwargs):\n",
        "        super().__init__(name=name, **kwargs)\n",
        "        self.n_classes = n_classes\n",
        "        self.smooth = 1e-6\n",
        "        self.sum_intersection = self.add_weight(name=\"sum_intersection\", shape=(n_classes,), initializer=\"zeros\")\n",
        "        self.sum_union = self.add_weight(name=\"sum_union\", shape=(n_classes,), initializer=\"zeros\")\n",
        "\n",
        "    def update_state(self, y_true, y_pred, sample_weight=None):\n",
        "        # y_true = tf.squeeze(y_true, axis=-1)\n",
        "        y_pred = tf.argmax(y_pred, axis=-1)\n",
        "\n",
        "        y_true_one_hot = tf.one_hot(tf.cast(y_true, tf.int32), depth=self.n_classes)\n",
        "        y_pred_one_hot = tf.one_hot(tf.cast(y_pred, tf.int32), depth=self.n_classes)\n",
        "\n",
        "        intersection = tf.reduce_sum(y_true_one_hot * y_pred_one_hot, axis=[0, 1,2])\n",
        "        union = tf.reduce_sum(y_true_one_hot, axis=[0, 1,2]) + tf.reduce_sum(y_pred_one_hot, axis=[0, 1,2]) - intersection\n",
        "\n",
        "        self.sum_intersection.assign_add(intersection)\n",
        "        self.sum_union.assign_add(union)\n",
        "\n",
        "\n",
        "    def result(self):\n",
        "        return (self.sum_intersection + self.smooth) / (self.sum_union + self.smooth)\n",
        "\n",
        "    def reset_state(self):\n",
        "        self.sum_intersection.assign(tf.zeros_like(self.sum_intersection))\n",
        "        self.sum_union.assign(tf.zeros_like(self.sum_union))\n"
      ]
    },
    {
      "cell_type": "markdown",
      "metadata": {
        "id": "UI8rv85Uic1C"
      },
      "source": [
        "**Dice Coeficient Metrics**"
      ]
    },
    {
      "cell_type": "code",
      "execution_count": null,
      "metadata": {
        "id": "UVd2Y6GxVtPl"
      },
      "outputs": [],
      "source": [
        "class Dice_Coefficent_matrics(tf.keras.metrics.Metric):\n",
        "    def __init__(self, n_classes=19, name='dice_coefficient', **kwargs):\n",
        "        super().__init__(name=name, **kwargs)\n",
        "        self.n_classes = n_classes\n",
        "        self.smooth = 1e-6\n",
        "        self.total_dice = self.add_weight(name=\"total_dice\", initializer=\"zeros\")\n",
        "        self.count = self.add_weight(name=\"count\", initializer=\"zeros\")\n",
        "\n",
        "    def update_state(self, y_true, y_pred, sample_weight=None):\n",
        "        # y_true = tf.squeeze(y_true, axis=-1)\n",
        "        y_pred = tf.argmax(y_pred, axis=-1)\n",
        "\n",
        "        y_true_one_hot = tf.one_hot(tf.cast(y_true, tf.int32), depth=self.n_classes)\n",
        "        y_pred_one_hot = tf.one_hot(tf.cast(y_pred, tf.int32), depth=self.n_classes)\n",
        "\n",
        "        intersection = tf.reduce_sum(y_true_one_hot * y_pred_one_hot, axis=[1, 2])\n",
        "        total = tf.reduce_sum(y_true_one_hot, axis=[1, 2]) + tf.reduce_sum(y_pred_one_hot, axis=[1, 2])\n",
        "\n",
        "        dice = (2.0 * intersection + self.smooth) / (total + self.smooth)\n",
        "        mean_dice = tf.reduce_mean(dice)\n",
        "\n",
        "        self.total_dice.assign_add(mean_dice)\n",
        "        self.count.assign_add(1.0)\n",
        "\n",
        "    def result(self):\n",
        "        return self.total_dice / tf.maximum(self.count, 1.0)\n",
        "\n",
        "    def reset_state(self):\n",
        "        self.total_dice.assign(0.0)\n",
        "        self.count.assign(0.0)\n"
      ]
    },
    {
      "cell_type": "markdown",
      "metadata": {
        "id": "YLNA7ijum2vZ"
      },
      "source": [
        "**per class_dice_coefficent metrics**"
      ]
    },
    {
      "cell_type": "code",
      "execution_count": null,
      "metadata": {
        "id": "qd-b0q9nmYZd"
      },
      "outputs": [],
      "source": [
        "\n",
        "\n",
        "class PerClassDiceCoefficientMatrics(tf.keras.metrics.Metric):\n",
        "    def __init__(self, n_classes=19, name=\"dice_per_class\", **kwargs):\n",
        "        super().__init__(name=name, **kwargs)\n",
        "        self.n_classes = n_classes\n",
        "        self.smooth = 1e-6\n",
        "        self.sum_intersection = self.add_weight(name=\"sum_intersection\", shape=(n_classes,), initializer=\"zeros\")\n",
        "        self.sum_union = self.add_weight(name=\"sum_union\", shape=(n_classes,), initializer=\"zeros\")\n",
        "\n",
        "    def update_state(self, y_true, y_pred, sample_weight=None):\n",
        "        # y_true = tf.squeeze(y_true, axis=-1)  # This line is commented, but it might be useful if needed\n",
        "        y_pred = tf.argmax(y_pred, axis=-1)\n",
        "\n",
        "        y_true_one_hot = tf.one_hot(tf.cast(y_true, tf.int32), depth=self.n_classes)\n",
        "        y_pred_one_hot = tf.one_hot(tf.cast(y_pred, tf.int32), depth=self.n_classes)\n",
        "\n",
        "        intersection = tf.reduce_sum(y_true_one_hot * y_pred_one_hot, axis=[0, 1, 2])\n",
        "        total = tf.reduce_sum(y_true_one_hot, axis=[0, 1, 2]) + tf.reduce_sum(y_pred_one_hot, axis=[0, 1, 2])\n",
        "\n",
        "        self.sum_intersection.assign_add(intersection)\n",
        "        self.sum_union.assign_add(total)\n",
        "\n",
        "    def result(self):\n",
        "        return (2.0 * self.sum_intersection + self.smooth) / (self.sum_union + self.smooth)\n",
        "\n",
        "    def reset_state(self):\n",
        "        self.sum_intersection.assign(tf.zeros_like(self.sum_intersection))\n",
        "        self.sum_union.assign(tf.zeros_like(self.sum_union))\n"
      ]
    },
    {
      "cell_type": "markdown",
      "metadata": {
        "id": "JkxRcmDDnKth"
      },
      "source": [
        "**Pixel Accurcy Metrics**"
      ]
    },
    {
      "cell_type": "code",
      "execution_count": null,
      "metadata": {
        "id": "boqIP7CWm8Gy"
      },
      "outputs": [],
      "source": [
        "class Pixel_accurcy_metrics(tf.keras.metrics.Metric):\n",
        "    def __init__(self, n_classes = 19,name=\"pixel_accuracy\", **kwargs):\n",
        "        super().__init__(name=name, **kwargs)\n",
        "        self.correct = self.add_weight(name=\"correct\", initializer=\"zeros\")\n",
        "        self.total = self.add_weight(name=\"total\", initializer=\"zeros\")\n",
        "        self.n_classes = n_classes\n",
        "    def update_state(self, y_true, y_pred, sample_weight=None):\n",
        "        # y_true = tf.squeeze(y_true, axis=-1)\n",
        "        y_pred = tf.cast(tf.argmax(y_pred, axis=-1),tf.int32)\n",
        "\n",
        "        correct = tf.reduce_sum(tf.cast(tf.equal(y_true, y_pred), tf.float32))\n",
        "        total = tf.size(y_true)\n",
        "\n",
        "        self.correct.assign_add(correct)\n",
        "        self.total.assign_add(total)\n",
        "\n",
        "    def result(self):\n",
        "        return self.correct / tf.maximum(self.total, 1.0)\n",
        "\n",
        "    def reset_state(self):\n",
        "        self.correct.assign(0)\n",
        "        self.total.assign(0)\n"
      ]
    },
    {
      "cell_type": "code",
      "execution_count": null,
      "metadata": {
        "id": "TGylMVcRYdeJ",
        "colab": {
          "base_uri": "https://localhost:8080/"
        },
        "outputId": "b829f68b-205b-4281-fa03-10a0ce7b0f3f"
      },
      "outputs": [
        {
          "output_type": "stream",
          "name": "stdout",
          "text": [
            "Mean IoU: 0.02703346684575081\n",
            "Per-class IoU: [0.02562433 0.02556066 0.02561184 0.02566208 0.02557847 0.02569558\n",
            " 0.02560774 0.02540043 0.02567524 0.02562556 0.02549916 0.02544816\n",
            " 0.02545868 0.02567203 0.02561686 0.02566418 0.02529733 0.02559474\n",
            " 0.02562096]\n",
            "Mean Dice: 0.04987300559878349\n",
            "Per-class Dice: [0.04996826 0.04984719 0.04994451 0.05004003 0.04988106 0.05010372\n",
            " 0.04993672 0.04954246 0.05006505 0.0499706  0.04973025 0.04963324\n",
            " 0.04965325 0.05005894 0.04995405 0.05004402 0.04934633 0.04991199\n",
            " 0.04996184]\n",
            "Pixel Accuracy: 0.04737997055053711\n"
          ]
        }
      ],
      "source": [
        "batch_size = 16\n",
        "height = 768\n",
        "width = 1536\n",
        "num_classes = 19\n",
        "\n",
        "y_true = tf.random.uniform((batch_size, height, width), minval=0, maxval=num_classes, dtype=tf.int32)\n",
        "y_true = tf.where(tf.random.uniform((batch_size, height, width)) > 0.9, 255, y_true)\n",
        "\n",
        "y_pred = tf.random.uniform((batch_size, height, width, num_classes), minval=0, maxval=1, dtype=tf.float32)\n",
        "y_pred = y_pred / tf.reduce_sum(y_pred, axis=-1, keepdims=True)  # Softmax-like normalization\n",
        "\n",
        "# Initialize metrics\n",
        "mean_iou = IOUMetric(n_classes=num_classes)\n",
        "per_class_iou = PerClassIOUMetric(n_classes=num_classes)\n",
        "mean_dice = Dice_Coefficent_matrics(n_classes=num_classes)\n",
        "per_class_dice = PerClassDiceCoefficientMatrics(n_classes=num_classes)\n",
        "pixel_acc = Pixel_accurcy_metrics(n_classes=num_classes)\n",
        "\n",
        "# Update states\n",
        "mean_iou.update_state(y_true, y_pred)\n",
        "per_class_iou.update_state(y_true, y_pred)\n",
        "mean_dice.update_state(y_true, y_pred)\n",
        "per_class_dice.update_state(y_true, y_pred)  # Note: Bug here, should be y_true, y_pred\n",
        "pixel_acc.update_state(y_true, y_pred)\n",
        "\n",
        "# Get results\n",
        "print(f\"Mean IoU: {mean_iou.result().numpy()}\")\n",
        "print(f\"Per-class IoU: {per_class_iou.result().numpy()}\")\n",
        "print(f\"Mean Dice: {mean_dice.result().numpy()}\")\n",
        "print(f\"Per-class Dice: {per_class_dice.result().numpy()}\")\n",
        "print(f\"Pixel Accuracy: {pixel_acc.result().numpy()}\")\n",
        "\n",
        "# Reset states (just to show it works)\n",
        "mean_iou.reset_state()\n",
        "per_class_iou.reset_state()\n",
        "mean_dice.reset_state()\n",
        "per_class_dice.reset_state()\n",
        "pixel_acc.reset_state()"
      ]
    },
    {
      "cell_type": "markdown",
      "metadata": {
        "id": "hbxDqaLiU2LZ"
      },
      "source": [
        "**optimizer**"
      ]
    },
    {
      "cell_type": "code",
      "execution_count": null,
      "metadata": {
        "id": "EkI53Row67bK"
      },
      "outputs": [],
      "source": [
        "with strategy.scope():\n",
        "    optimizer_fcn =tf.optimizers.AdamW(learning_rate=1e-5, weight_decay=1e-5)\n",
        "\n",
        "\n",
        "    optimizer_unet = tf.optimizers.AdamW(learning_rate=5e-5, weight_decay=1e-5)\n",
        "    optimizer_unet_plus_plus =  tf.optimizers.AdamW(learning_rate=5e-5, weight_decay=1e-5)\n",
        "\n",
        "\n"
      ]
    },
    {
      "cell_type": "markdown",
      "metadata": {
        "id": "j72q95Pjob9m"
      },
      "source": [
        "**checkPoint dirs**"
      ]
    },
    {
      "cell_type": "code",
      "execution_count": null,
      "metadata": {
        "id": "Jolqu8_FoelE"
      },
      "outputs": [],
      "source": [
        "checkpoint_dir_fcn = '/content/drive/MyDrive/CityScapes_model_checkpoints/fcn'\n",
        "checkpoint_dir_unet = '/content/drive/MyDrive/CityScapes_model_checkpoints/unet'\n",
        "checkpoint_dir_unet_plus_plus = '/content/drive/MyDrive/CityScapes_model_checkpoints/unet_plus_plus'\n",
        "fcn_log_dir = '/content/drive/MyDrive/CityScapes_model_checkpoints/fcn_log_dir'\n",
        "unet_log_dir = '/content/drive/MyDrive/CityScapes_model_checkpoints/unet_log_dir'\n",
        "unet_plus_plus_log_dir = '/content/drive/MyDrive/CityScapes_model_checkpoints/unet_plus_plus_log_dir'"
      ]
    },
    {
      "cell_type": "markdown",
      "metadata": {
        "id": "Wr83oImgE-T7"
      },
      "source": [
        "**custom callbacks**"
      ]
    },
    {
      "cell_type": "code",
      "execution_count": null,
      "metadata": {
        "id": "az4V0gCqFDCt"
      },
      "outputs": [],
      "source": [
        "# class Custom_checkpoint_Callabck(tf.keras.callbacks.Callback):\n",
        "#   def __init__(self, checkpoint_dir_fcn , checkpoint_dir_unet , checkpoint_dir_unet_plus_plus , fcn , unet , unet_plus_plus , optimizer_fcn ,optimizer_unet ,optimizer_unet_plus_plus  ) :\n",
        "#     super().__init__()\n",
        "#     self.checkpoint_dir_fcn = checkpoint_dir_fcn\n",
        "#     self.checkpoint_dir_unet = checkpoint_dir_unet\n",
        "#     self.checkpoint_dir_unet_plus_plus = checkpoint_dir_unet_plus_plus\n",
        "#     self.checkpoint_fcn = tf.train.Checkpoint(\n",
        "#         model = fcn ,\n",
        "#         optimizer = optimizer_fcn,\n",
        "#         epoch = tf.Variable(0 , dtype = tf.int64)\n",
        "#     )\n",
        "#     self.checkpoint_manager_for_fcn = tf.train.CheckpointManager(\n",
        "#         self.checkpoint_fcn ,\n",
        "#         self.checkpoint_dir_fcn ,\n",
        "#         max_to_keep=3\n",
        "#     )\n",
        "#     self.checkpoint_unet = tf.train.Checkpoint(\n",
        "#         model = unet ,\n",
        "#         optimizer = optimizer_unet,\n",
        "#         epoch = tf.Variable(0 , dtype = tf.int64)\n",
        "#     )\n",
        "#     self.checkpoint_manager_for_unet = tf.train.CheckpointManager(\n",
        "#         self.checkpoint_unet ,\n",
        "#         self.checkpoint_dir_unet ,\n",
        "#         max_to_keep=3\n",
        "#     )\n",
        "#     self.checkpoint_unet_plus_plus = tf.train.Checkpoint(\n",
        "#         model = unet_plus_plus ,\n",
        "#         optimizer = optimizer_unet_plus_plus,\n",
        "#         epoch = tf.Variable(0 , dtype = tf.int64)\n",
        "#     )\n",
        "#     self.checkpoint_manager_for_unet_plus_plus = tf.train.CheckpointManager(\n",
        "#         self.checkpoint_unet_plus_plus ,\n",
        "#         self.checkpoint_dir_unet_plus_plus ,\n",
        "#         max_to_keep=3\n",
        "#     )\n",
        "#   def on_epoch_end(self , epoch, logs = None):\n",
        "#     self.checkpoint_fcn.epoch.assign(epoch+1)\n",
        "#     self.checkpoint_manager_for_fcn.save()\n",
        "#     print(f\"\\nCheckpoint saved for epoch {epoch } at {self.checkpoint_manager_for_fcn.latest_checkpoint} for fcn model\")\n",
        "#     self.checkpoint_unet.epoch.assign(epoch+1)\n",
        "#     self.checkpoint_manager_for_unet.save()\n",
        "#     print(f\"\\nCheckpoint saved for epoch {epoch } at {self.checkpoint_manager_for_unet.latest_checkpoint} for unet model\")\n",
        "#     self.checkpoint_unet_plus_plus.epoch.assign(epoch+1)\n",
        "#     self.checkpoint_manager_for_unet_plus_plus.save()\n",
        "#     print(f\"\\nCheckpoint saved for epoch {epoch } at {self.checkpoint_manager_for_unet_plus_plus.latest_checkpoint} for unet_plus_plus model\")\n",
        "#   def load_latest_model(self):\n",
        "#     if self.checkpoint_manager_for_fcn.latest_checkpoint and self.checkpoint_manager_for_unet.latest_checkpoint and self.checkpoint_manager_for_unet_plus_plus.latest_checkpoint :\n",
        "\n",
        "#       self.checkpoint_fcn.restore(self.checkpoint_manager_for_fcn.latest_checkpoint)\n",
        "#       self.checkpoint_unet.restore(self.checkpoint_manager_for_unet.latest_checkpoint)\n",
        "#       self.checkpoint_unet_plus_plus.restore(self.checkpoint_manager_for_unet_plus_plus.latest_checkpoint)\n",
        "#       start_epoch =self.checkpoint_fcn.epoch.numpy()\n",
        "#       print(f\"Restored from checkpoint: {self.checkpoint_manager_for_fcn.latest_checkpoint}, \"\n",
        "#                   f\"resuming from epoch {start_epoch}\")\n",
        "#       print(f\"Restored from checkpoint: {self.checkpoint_manager_for_unet.latest_checkpoint}, \"\n",
        "#                   f\"resuming from epoch {start_epoch}\")\n",
        "#       print(f\"Restored from checkpoint: {self.checkpoint_manager_for_unet_plus_plus.latest_checkpoint}, \"\n",
        "#                   f\"resuming from epoch {start_epoch}\")\n",
        "#       return start_epoch\n",
        "#     else :\n",
        "#       print('no checkpoint found starting from epoch 1')\n",
        "#       return 1\n",
        "\n",
        "\n",
        "class Custom_checkpoint_Callabck(tf.keras.callbacks.Callback):\n",
        "  def __init__(self,checkpoint_dir , model , optimizer):\n",
        "    super().__init__()\n",
        "    self.checkpoint_dir = checkpoint_dir\n",
        "    self._model = model\n",
        "\n",
        "    self.checkpoint = tf.train.Checkpoint(\n",
        "        model = self._model ,\n",
        "        optimizer = optimizer ,\n",
        "        epoch = tf.Variable(1 , dtype = tf.int64)\n",
        "    )\n",
        "\n",
        "    self.checkpoint_manager = tf.train.CheckpointManager(checkpoint=self.checkpoint,directory=self.checkpoint_dir , max_to_keep=5)\n",
        "    os.makedirs(self.checkpoint_dir, exist_ok=True)\n",
        "  def on_epoch_end(self, epoch , logs = None):\n",
        "    self.checkpoint.epoch.assign(epoch)\n",
        "    self.checkpoint_manager.save()\n",
        "    print(f\"\\nCheckpoint saved for epoch {epoch } at {self.checkpoint_manager.latest_checkpoint} for {self._model} model\")\n",
        "\n",
        "  def load_latest_model(self):\n",
        "    if self.checkpoint_manager.latest_checkpoint :\n",
        "      self.checkpoint.restore(self.checkpoint_manager.latest_checkpoint)\n",
        "      start_epoch =self.checkpoint.epoch.numpy()\n",
        "      print(f\"Restored from checkpoint: {self.checkpoint_manager.latest_checkpoint}, resuming from epoch {start_epoch}\")\n",
        "      return start_epoch\n",
        "    else :\n",
        "      print('no checkpoint found starting from epoch 1')\n",
        "      return 1\n"
      ]
    },
    {
      "cell_type": "code",
      "execution_count": null,
      "metadata": {
        "id": "_m7da_J8G566"
      },
      "outputs": [],
      "source": [
        "# class Custom_early_stopping_callback(tf.keras.callbacks.Callback):\n",
        "#   def __init__(self, paticance = 15  , min_delta = 1e-4):\n",
        "#     self.patiance = paticance\n",
        "#     self.min_delta = min_delta\n",
        "#     self.best_loss = {\n",
        "#         'fcn' : float('inf') ,\n",
        "#         'unet' : float('inf') ,\n",
        "#         'unet_plus_plus' : float('inf')\n",
        "#     }\n",
        "#     self.stoped_epoch = 0\n",
        "#     self.wait = {\n",
        "#         'fcn' : 0 ,\n",
        "#         'unet': 0 ,\n",
        "#         'unet_plus_plus' : 0\n",
        "#     }\n",
        "#   def early_stoping(self, epoch , val_loss):\n",
        "#     if (val_loss['fcn']< self.best_loss['fcn']-self.min_delta):\n",
        "#       self.best_loss['fcn'] = val_loss['fcn']\n",
        "#       self.wait['fcn'] = 0\n",
        "#     else :\n",
        "#       self.wait['fcn'] +=1\n",
        "#     if (val_loss['unet']< self.best_loss['unet']-self.min_delta):\n",
        "#       self.best_loss['unet'] = val_loss['unet']\n",
        "#       self.wait['unet'] = 0\n",
        "#     else  :\n",
        "#       self.wait['unet']+=1\n",
        "#     if (val_loss['unet_plus_plus']< self.best_loss['unet_plus_plus']-self.min_delta):\n",
        "#       self.best_loss['unet_plus_plus'] = val_loss['unet_plus_plus']\n",
        "#       self.wait['unet_plus_plus'] = 0\n",
        "#     else :\n",
        "#       self.wait['unet_plus_plus']+=1\n",
        "#     if self.wait['fcn'] > self.patiance and self.wait['unet']>self.patiance and self.wait['unet_plus_plus']>self.patiance:\n",
        "#       self.stoped_epoch  =epoch\n",
        "#       print (f'early stoping trainig at {self.stoped_epoch}')\n",
        "#       return True\n",
        "#     return False\n",
        "\n",
        "\n",
        "class Custom_early_stopping_callback(tf.keras.callbacks.Callback):\n",
        "  def __init__(self, paticance = 15 , min_delta=1e-4):\n",
        "    super().__init__()\n",
        "    self.paticance=paticance\n",
        "    self.min_delta = min_delta\n",
        "    self.best_loss = float('inf')\n",
        "    self.stoped_epoch = 0\n",
        "    self.wait = 0\n",
        "\n",
        "\n",
        "  def early_stoping(self, epoch , val_loss):\n",
        "    if val_loss < self.best_loss-self.min_delta :\n",
        "      self.best_loss = val_loss\n",
        "      self.wait = 0\n",
        "\n",
        "    else :\n",
        "      self.wait +=1\n",
        "    if self.wait > self.paticance  :\n",
        "      self.stoped_epoch  =epoch\n",
        "      print (f'early stoping trainig at {self.stoped_epoch}')\n",
        "      return True\n",
        "    return False\n"
      ]
    },
    {
      "cell_type": "code",
      "execution_count": null,
      "metadata": {
        "id": "NGFZO7E5UMgH"
      },
      "outputs": [],
      "source": [
        "# class Custom_learning_rate_schedule(tf.keras.callbacks.Callback):\n",
        "#   def __init__(self , optimizer_fcn , optimizer_unet , optimizer_unet_plus_plus , factor = 0.5 , patiance = 5 , min_delta = 1e-4 , min_lr = 1e-8 ):\n",
        "#     super().__init__()\n",
        "#     self.factor = factor\n",
        "#     self.patiance = patiance\n",
        "#     self.min_delta = min_delta\n",
        "#     self.min_lr = min_lr\n",
        "#     self.best_val_loss = {\n",
        "#         'fcn' : float('inf') ,\n",
        "#         'unet': float('inf') ,\n",
        "#         'unet_plus_plus' : float('inf')\n",
        "#     }\n",
        "#     self.optimzer  = {\n",
        "#         'fcn' : optimizer_fcn ,\n",
        "#         'unet' : optimizer_fcn ,\n",
        "#         'unet_plus_plus': optimizer_unet_plus_plus\n",
        "#     }\n",
        "#     self.wait = {\n",
        "#         'fcn' : 0 ,\n",
        "#         'unet': 0 ,\n",
        "#         'unet_plus_plus' : 0\n",
        "#     }\n",
        "#   def change_learning_rate(self, epoch , val_loss):\n",
        "#     for model_name , val_loss in val_loss.items():\n",
        "#       if val_loss < self.best_val_loss[model_name]-self.min_delta:\n",
        "#         self.best_val_loss[model_name] = val_loss\n",
        "#         self.wait[model_name] = 0\n",
        "#       else :\n",
        "#         self.wait[model_name] +=1\n",
        "#       if self.wait[model_name] >= self.patiance :\n",
        "#         old_lr = self.optimzer[model_name].lr.numpy()\n",
        "#         new_lr = tf.maximum(old_lr*self.factor , self.min_lr)\n",
        "#         self.optimzer[model_name].lr.assign(new_lr)\n",
        "#         print (f'learning rate for model : {model_name} has been change from : {old_lr} to the new lr : {new_lr} at epoch : {epoch}')\n",
        "#         self.wait= 0\n",
        "\n",
        "class Custom_learning_rate_schedule(tf.keras.callbacks.Callback):\n",
        "  def __init__(self, optimizer , factor = 0.5 , min_delta = 1e-4 ,paticance = 3 , min_lr = 1e-8):\n",
        "    super().__init__()\n",
        "    self.optimizer = optimizer\n",
        "    self.factor = factor\n",
        "    self.patiance = paticance\n",
        "    self.min_lr= min_lr\n",
        "    self.min_delta = min_delta\n",
        "    self.best_loss = float('inf')\n",
        "    self.wait = 0\n",
        "\n",
        "  def change_learning_rate(self, epoch , val_loss) :\n",
        "    if val_loss < self.best_loss-self.min_delta :\n",
        "      self.best_loss = val_loss\n",
        "      self.wait = 0\n",
        "    else :\n",
        "      self.wait +=1\n",
        "    if self.wait > self.patiance :\n",
        "      old_lr = self.optimizer.learning_rate.numpy()\n",
        "      new_lr = tf.maximum(old_lr*self.factor , self.min_lr)\n",
        "      self.optimizer.learning_rate.assign(new_lr)\n",
        "      print (f'learning rate for model  has been change from : {old_lr} to the new lr : {new_lr} at epoch : {epoch}')\n",
        "      self.wait = 0\n"
      ]
    },
    {
      "cell_type": "code",
      "execution_count": null,
      "metadata": {
        "id": "wOdDahlsAFkl"
      },
      "outputs": [],
      "source": [
        "# class Custom_Training_logger_callback(tf.keras.callbacks.Callback):\n",
        "#   def __init__(self, batches_per_epoch):\n",
        "#     super().__init__()\n",
        "#     self.model_name = ['fcn' , 'unet' , 'unet_plus_plus']\n",
        "#     self.batch_per_epoch = batches_per_epoch\n",
        "#     self.batch_table_display = None\n",
        "#     self.graph_display = None\n",
        "#   def On_epoch_begin(self, epoch ):\n",
        "#     print(f'Epoch begins : {epoch}')\n",
        "#     self.progress_bar = tqdm(total=self.batch_per_epoch,desc=f'epoch {epoch}')\n",
        "#     self.batch_table_data = []\n",
        "#     self.batch_loss = {\n",
        "#         'fcn':[] ,\n",
        "#         'unet': [] ,\n",
        "#         'unet_plus_plus' :[]\n",
        "#     }\n",
        "\n",
        "#     self.epoch_table_data = []\n",
        "#     display(HTML('<h3>📊 Batch-wise Loss Table</h3>'))\n",
        "\n",
        "\n",
        "#   def on_batch_end(self, batch , epoch,data = None):\n",
        "#     self.progress_bar.set_postfix({\n",
        "#         f'epoch :{epoch} , batch ': batch / self.batch_per_epoch\n",
        "#         })\n",
        "#     self.progress_bar.update(1)\n",
        "#     if data == None :\n",
        "#       return\n",
        "#     self.batch_table_data.append({\n",
        "#         'batch': batch ,\n",
        "#         'fcn_loss' : data['fcn']['loss'] ,\n",
        "\n",
        "#         'unet_loss' :data['unet']['loss'],\n",
        "\n",
        "#         'unet_plus_plus_loss' : data['unet_plus_plus']['loss']  ,\n",
        "\n",
        "#         'fcn_IOUMetric' : data['fcn']['metrics']['IOUMetric'] ,\n",
        "#         'fcn_PerClassIOUMetric' : data['fcn']['metrics']['PerClassIOUMetric'],\n",
        "#         'fcn_Dice_Coefficent_matrics' :  data['fcn']['metrics']['Dice_Coefficent_matrics'],\n",
        "#         'fcn_PerClassDiceCoefficientMatrics' : data['fcn']['metrics']['PerClassDiceCoefficientMatrics'],\n",
        "#         'fcn_Pixel_accurcy_metrics' : data['fcn']['metrics']['Pixel_accurcy_metrics'],\n",
        "#         'unet_IOUMetric' : data['unet']['metrics']['IOUMetric'] ,\n",
        "#         'unet_PerClassIOUMetric' : data['unet']['metrics']['PerClassIOUMetric'],\n",
        "#         'unet_Dice_Coefficent_matrics' :  data['unet']['metrics']['Dice_Coefficent_matrics'],\n",
        "#         'unet_PerClassDiceCoefficientMatrics' : data['unet']['metrics']['PerClassDiceCoefficientMatrics'],\n",
        "#         'unet_Pixel_accurcy_metrics' : data['unet']['metrics']['Pixel_accurcy_metrics'],\n",
        "#         'unet_plus_plus_IOUMetric' : data['unet_plus_plus']['metrics']['IOUMetric'] ,\n",
        "#         'unet_plus_plus_PerClassIOUMetric' : data['unet_plus_plus']['metrics']['PerClassIOUMetric'],\n",
        "#         'unet_plus_plus_Dice_Coefficent_matrics' :  data['unet_plus_plus']['metrics']['Dice_Coefficent_matrics'],\n",
        "#         'unet_plus_plus_PerClassDiceCoefficientMatrics' : data['unet_plus_plus']['metrics']['PerClassDiceCoefficientMatrics'],\n",
        "#         'unet_plus_plus_Pixel_accurcy_metrics' : data['unet_plus_plus']['metrics']['Pixel_accurcy_metrics'],\n",
        "\n",
        "#       })\n",
        "\n",
        "\n",
        "#     df = pd.DataFrame(self.batch_table_data)\n",
        "\n",
        "#     if self.batch_table_display is None:\n",
        "#       self.batch_table_display = display( df, display_id=True)\n",
        "#     else :\n",
        "#       self.batch_table_display.update(df)\n",
        "#     self.batch_loss['fcn'].append(data['fcn']['loss'])\n",
        "#     self.batch_loss['unet'].append(data['unet']['loss'])\n",
        "#     self.batch_loss['unet_plus_plus'].append(data['unet_plus_plus']['loss'])\n",
        "\n",
        "#     fig, axes = plt.subplots(1, 2, figsize=(12, 5))\n",
        "#     axes[0].plot(self.batch_loss['fcn'], label='FCN Loss', marker='o')\n",
        "#     axes[0].plot(self.batch_loss['unet'], label='U-Net Loss', marker='o')\n",
        "#     axes[0].plot(self.batch_loss['unet_plus_plus'], label='U-Net++ Loss', marker='o')\n",
        "#     axes[0].set_title('Training Loss')\n",
        "#     axes[0].set_xlabel('Batch')\n",
        "#     axes[0].set_ylabel('Loss')\n",
        "#     axes[0].legend()\n",
        "#     axes[0].grid(True)\n",
        "\n",
        "\n",
        "\n",
        "#     plt.tight_layout()\n",
        "#     if self.graph_display is None:\n",
        "#       display(HTML('<h3>📉 Loss Graphs (Batch-wise Trend)</h3>'))\n",
        "#       self.graph_display = display(fig, display_id=True)\n",
        "#     else:\n",
        "#       self.graph_display.update(fig)\n",
        "#     plt.close(fig)\n",
        "\n",
        "\n",
        "#   def on_epoch_end(self , epoch ,data):\n",
        "#     self.progress_bar.close()\n",
        "#     if data == None :\n",
        "#       return\n",
        "#     display(HTML('<h3>📊 Epoch Summary Table</h3>'))\n",
        "#     self.epoch_table_data.append({\n",
        "#         'epoch': epoch ,\n",
        "#         'fcn_loss' : data['fcn']['loss'] ,\n",
        "#         'fcn_val_loss':data['fcn']['val_loss'] ,\n",
        "#         'unet_loss' :data['unet']['loss'],\n",
        "#         'unet_val_loss' : data['unet']['val_loss'] ,\n",
        "#         'unet_plus_plus_loss' : data['unet_plus_plus']['loss']  ,\n",
        "#         'unet_plus_plus_val_loss' : data['unet_plus_plus']['val_loss'],\n",
        "#         'fcn_IOUMetric' : data['fcn']['metrics']['IOUMetric'] ,\n",
        "#         'fcn_PerClassIOUMetric' : data['fcn']['metrics']['PerClassIOUMetric'],\n",
        "#         'fcn_Dice_Coefficent_matrics' :  data['fcn']['metrics']['Dice_Coefficent_matrics'],\n",
        "#         'fcn_PerClassDiceCoefficientMatrics' : data['fcn']['metrics']['PerClassDiceCoefficientMatrics'],\n",
        "#         'fcn_Pixel_accurcy_metrics' : data['fcn']['metrics']['Pixel_accurcy_metrics'],\n",
        "#         'unet_IOUMetric' : data['unet']['metrics']['IOUMetric'] ,\n",
        "#         'unet_PerClassIOUMetric' : data['unet']['metrics']['PerClassIOUMetric'],\n",
        "#         'unet_Dice_Coefficent_matrics' :  data['unet']['metrics']['Dice_Coefficent_matrics'],\n",
        "#         'unet_PerClassDiceCoefficientMatrics' : data['unet']['metrics']['PerClassDiceCoefficientMatrics'],\n",
        "#         'unet_Pixel_accurcy_metrics' : data['unet']['metrics']['Pixel_accurcy_metrics'],\n",
        "#         'unet_plus_plus_IOUMetric' : data['unet_plus_plus']['metrics']['IOUMetric'] ,\n",
        "#         'unet_plus_plus_PerClassIOUMetric' : data['unet_plus_plus']['metrics']['PerClassIOUMetric'],\n",
        "#         'unet_plus_plus_Dice_Coefficent_matrics' :  data['unet_plus_plus']['metrics']['Dice_Coefficent_matrics'],\n",
        "#         'unet_plus_plus_PerClassDiceCoefficientMatrics' : data['unet_plus_plus']['metrics']['PerClassDiceCoefficientMatrics'],\n",
        "#         'unet_plus_plus_Pixel_accurcy_metrics' : data['unet_plus_plus']['metrics']['Pixel_accurcy_metrics'],\n",
        "\n",
        "#         'fcn_IOUMetric_val' : data['fcn']['metrics']['IOUMetric_val'] ,\n",
        "#         'fcn_PerClassIOUMetric_val' : data['fcn']['metrics']['PerClassIOUMetric_val'],\n",
        "#         'fcn_Dice_Coefficent_matrics_val' :  data['fcn']['metrics']['Dice_Coefficent_matrics_val'],\n",
        "#         'fcn_PerClassDiceCoefficientMatrics_val' : data['fcn']['metrics']['PerClassDiceCoefficientMatrics_val'],\n",
        "#         'fcn_Pixel_accurcy_metrics_val' : data['fcn']['metrics']['Pixel_accurcy_metrics_val'],\n",
        "#         'unet_IOUMetric_val' : data['unet']['metrics']['IOUMetric_val'] ,\n",
        "#         'unet_PerClassIOUMetric_val' : data['unet']['metrics']['PerClassIOUMetric_val'],\n",
        "#         'unet_Dice_Coefficent_matrics_val' :  data['unet']['metrics']['Dice_Coefficent_matrics_val'],\n",
        "#         'unet_PerClassDiceCoefficientMatrics_val' : data['unet']['metrics']['PerClassDiceCoefficientMatrics_val'],\n",
        "#         'unet_Pixel_accurcy_metrics_val' : data['unet']['metrics']['Pixel_accurcy_metrics_val'],\n",
        "#         'unet_plus_plus_IOUMetric_val' : data['unet_plus_plus']['metrics']['IOUMetric_val'] ,\n",
        "#         'unet_plus_plus_PerClassIOUMetric_val' : data['unet_plus_plus']['metrics']['PerClassIOUMetric_val'],\n",
        "#         'unet_plus_plus_Dice_Coefficent_matrics_val' :  data['unet_plus_plus']['metrics']['Dice_Coefficent_matrics_val'],\n",
        "#         'unet_plus_plus_PerClassDiceCoefficientMatrics_val' : data['unet_plus_plus']['metrics']['PerClassDiceCoefficientMatrics_val'],\n",
        "#         'unet_plus_plus_Pixel_accurcy_metrics_val' : data['unet_plus_plus']['metrics']['Pixel_accurcy_metrics_val'],\n",
        "#       })\n",
        "#     df=pd.DataFrame(self.epoch_table_data)\n",
        "#     display(df)\n",
        "#     fig, axes = plt.subplots(1, 2, figsize=(12, 5))\n",
        "#     axes[0].plot(self.batch_loss['fcn'], label='FCN Loss', marker='o')\n",
        "#     axes[0].plot(self.batch_loss['unet'], label='U-Net Loss', marker='o')\n",
        "#     axes[0].plot(self.batch_loss['unet_plus_plus'], label='U-Net++ Loss', marker='o')\n",
        "#     axes[0].set_title('Training Loss')\n",
        "#     axes[0].set_xlabel('Batch')\n",
        "#     axes[0].set_ylabel('Loss')\n",
        "#     axes[0].legend()\n",
        "#     axes[0].grid(True)\n",
        "\n",
        "\n",
        "\n",
        "\n",
        "#     plt.tight_layout()\n",
        "#     display(HTML(f'<h3>📉 Final Loss Graphs - Epoch {epoch + 1}</h3>'))\n",
        "#     self.final_graph_display = display(fig, display_id=f'final_graph_epoch_{epoch + 1}')\n",
        "#     plt.close(fig)\n",
        "\n",
        "\n",
        "\n",
        "class Custom_Training_logger_callback(tf.keras.callbacks.Callback):\n",
        "  def __init__(self , batches_per_epoch) :\n",
        "    super().__init__()\n",
        "    self.batches_per_epoch = batches_per_epoch\n",
        "    self.batch_table_display = None\n",
        "    self.graph_display = None\n",
        "  def On_epoch_begin(self, epoch ):\n",
        "    print(f'Epoch begins : {epoch}')\n",
        "    self.progress_bar = tqdm(total=self.batches_per_epoch,desc=f'epoch {epoch}')\n",
        "    self.batch_table_data = []\n",
        "    self.batch_loss = []\n",
        "\n",
        "    self.epoch_table_data = []\n",
        "    display(HTML('<h3>📊 Batch-wise Loss Table</h3>'))\n",
        "\n",
        "\n",
        "  def on_batch_end(self, batch , epoch,data = None):\n",
        "    self.progress_bar.set_postfix({\n",
        "        f'epoch :{epoch} , batch ': batch / self.batches_per_epoch\n",
        "        })\n",
        "    self.progress_bar.update(1)\n",
        "    if data == None :\n",
        "      return\n",
        "    self.batch_table_data.append({\n",
        "        'batch': batch ,\n",
        "        'loss' : data['loss'],\n",
        "\n",
        "        'IOUMetric' : data['metrics']['IOUMetric'] ,\n",
        "        'PerClassIOUMetric' : data['metrics']['PerClassIOUMetric'],\n",
        "        'Dice_Coefficent_matrics' :  data['metrics']['Dice_Coefficent_matrics'],\n",
        "        'PerClassDiceCoefficientMatrics' : data['metrics']['PerClassDiceCoefficientMatrics'],\n",
        "        'Pixel_accurcy_metrics' : data['metrics']['Pixel_accurcy_metrics'],\n",
        "      })\n",
        "\n",
        "\n",
        "    df = pd.DataFrame(self.batch_table_data)\n",
        "\n",
        "    if self.batch_table_display is None:\n",
        "      self.batch_table_display = display( df, display_id=True)\n",
        "    else :\n",
        "      self.batch_table_display.update(df)\n",
        "    self.batch_loss.append(data['loss'])\n",
        "\n",
        "    fig, axes = plt.subplots(1, 2, figsize=(12, 5))\n",
        "    axes[0].plot(self.batch_loss, label='Loss', marker='o')\n",
        "    axes[0].set_title('Training Loss')\n",
        "    axes[0].set_xlabel('Batch')\n",
        "    axes[0].set_ylabel('Loss')\n",
        "    axes[0].legend()\n",
        "    axes[0].grid(True)\n",
        "\n",
        "\n",
        "    plt.tight_layout()\n",
        "    if self.graph_display is None:\n",
        "      display(HTML('<h3>📉 Loss Graphs (Batch-wise Trend)</h3>'))\n",
        "      self.graph_display = display(fig, display_id=True)\n",
        "    else:\n",
        "      self.graph_display.update(fig)\n",
        "    plt.close(fig)\n",
        "\n",
        "\n",
        "\n",
        "  def on_epoch_end(self , epoch ,data):\n",
        "    self.progress_bar.close()\n",
        "    if data == None :\n",
        "      return\n",
        "    display(HTML('<h3>📊 Epoch Summary Table</h3>'))\n",
        "    self.epoch_table_data.append({\n",
        "        'epoch': epoch ,\n",
        "        'loss' : data['loss'] ,\n",
        "        'val_loss':data['val_loss'] ,\n",
        "        'IOUMetric' : data['metrics']['IOUMetric'] ,\n",
        "        'PerClassIOUMetric' : data['metrics']['PerClassIOUMetric'],\n",
        "        'Dice_Coefficent_matrics' :  data['metrics']['Dice_Coefficent_matrics'],\n",
        "        'PerClassDiceCoefficientMatrics' : data['metrics']['PerClassDiceCoefficientMatrics'],\n",
        "        'Pixel_accurcy_metrics' : data['metrics']['Pixel_accurcy_metrics'],\n",
        "\n",
        "\n",
        "        'IOUMetric_val' : data['metrics']['IOUMetric_val'] ,\n",
        "        'PerClassIOUMetric_val' : data['metrics']['PerClassIOUMetric_val'],\n",
        "        'Dice_Coefficent_matrics_val' :  data['metrics']['Dice_Coefficent_matrics_val'],\n",
        "        'PerClassDiceCoefficientMatrics_val' : data['metrics']['PerClassDiceCoefficientMatrics_val'],\n",
        "        'Pixel_accurcy_metrics_val' : data['metrics']['Pixel_accurcy_metrics_val'],\n",
        "\n",
        "\n",
        "      })\n",
        "    df=pd.DataFrame(self.epoch_table_data)\n",
        "    display(df)\n",
        "    fig, axes = plt.subplots(1, 2, figsize=(12, 5))\n",
        "    axes[0].plot(self.batch_loss, label='FCN Loss', marker='o')\n",
        "    axes[0].set_title('Training Loss')\n",
        "    axes[0].set_xlabel('Batch')\n",
        "    axes[0].set_ylabel('Loss')\n",
        "    axes[0].legend()\n",
        "    axes[0].grid(True)\n",
        "\n",
        "\n",
        "\n",
        "\n",
        "    plt.tight_layout()\n",
        "    display(HTML(f'<h3>📉 Final Loss Graphs - Epoch {epoch + 1}</h3>'))\n",
        "    self.final_graph_display = display(fig, display_id=f'final_graph_epoch_{epoch + 1}')\n",
        "    plt.close(fig)"
      ]
    },
    {
      "cell_type": "code",
      "execution_count": null,
      "metadata": {
        "id": "lZb3PnfxLOWu"
      },
      "outputs": [],
      "source": [
        "# class Master_callback(tf.keras.callbacks.Callback):\n",
        "#   def __init__(self, log_dir , checkpoint_dir_fcn , checkpoint_dir_unet ,                 checkpoint_dir_unet_plus_plus , fcn , unet , unet_plus_plus , optimizer_fcn ,optimizer_unet ,   optimizer_unet_plus_plus , batches_per_epoch  ):\n",
        "#     self.writer=tf.summary.create_file_writer(logdir=log_dir)\n",
        "#     # initilizing custom checkpoint callback\n",
        "#     self.ccc = Custom_checkpoint_Callabck(checkpoint_dir_fcn=checkpoint_dir_fcn,checkpoint_dir_unet=checkpoint_dir_unet , checkpoint_dir_unet_plus_plus=checkpoint_dir_unet_plus_plus , fcn = fcn , unet = unet , unet_plus_plus=unet_plus_plus , optimizer_fcn=optimizer_fcn , optimizer_unet=optimizer_unet , optimizer_unet_plus_plus=optimizer_unet_plus_plus )\n",
        "#     # initilizing custom ealry stoping callback\n",
        "#     self.cesc = Custom_early_stopping_callback()\n",
        "#     # initilizing custom learning rate scheduler\n",
        "#     self.clrs = Custom_learning_rate_schedule(optimizer_fcn=optimizer_fcn , optimizer_unet=optimizer_unet , optimizer_unet_plus_plus=optimizer_unet_plus_plus)\n",
        "#     # initilizing custom training logger\n",
        "#     self.ctlc = Custom_Training_logger_callback(batches_per_epoch=batches_per_epoch)\n",
        "#     self.stop = False\n",
        "\n",
        "#   def on_train_begin(self):\n",
        "#     return self.ccc.load_latest_model()\n",
        "#   def on_epoch_begin(self, epoch ):\n",
        "#     self.ctlc.On_epoch_begin(epoch)\n",
        "#   def on_batch_end(self,batch , epoch , data):\n",
        "#     self.ctlc.on_batch_end(batch , epoch , data)\n",
        "#   def on_epoch_end(self, epoch , data):\n",
        "#     self.ctlc.on_epoch_end(epoch , data)\n",
        "#     # summary -->\n",
        "#     with self.writer.as_default():\n",
        "#       tf.summary.scalar('fcn_loss' , data['fcn']['loss'],step=epoch)\n",
        "#       tf.summary.scalar('fcn_val_loss' , data['fcn']['val_loss'],step=epoch)\n",
        "#       tf.summary.scalar('unet_loss' , data['unet']['loss'],step=epoch)\n",
        "#       tf.summary.scalar('uent_val_loss' , data['unet']['val_loss'],step=epoch)\n",
        "#       tf.summary.scalar('unet_plus_plus_loss' , data['unet_plus_plus']['loss'],step=epoch)\n",
        "#       tf.summary.scalar('uent_plus_plus_val_loss' , data['unet_plus_plus']['val_loss'],step=epoch)\n",
        "#       tf.summary.scalar('fcn_IOUMetric',data['fcn']['metrics']['IOUMetric'] , step = epoch)\n",
        "#       tf.summary.scalar('fcn_PerClassIOUMetric' , data['fcn']['metrics']['PerClassIOUMetric'] , step = epoch)\n",
        "#       tf.summary.scalar('fcn_Dice_Coefficent_matrics' ,  data['fcn']['metrics']['Dice_Coefficent_matrics'] , step = epoch)\n",
        "#       tf.summary.scalar('fcn_PerClassDiceCoefficientMatrics' , data['fcn']['metrics']['PerClassDiceCoefficientMatrics'] , step = epoch)\n",
        "#       tf.summary.scalar('fcn_Pixel_accurcy_metrics' , data['fcn']['metrics']['Pixel_accurcy_metrics'], step = epoch)\n",
        "\n",
        "#       tf.summary.scalar('unet_IOUMetric',data['unet']['metrics']['IOUMetric'] , step = epoch)\n",
        "#       tf.summary.scalar('unet_PerClassIOUMetric' , data['unet']['metrics']['PerClassIOUMetric'] , step = epoch)\n",
        "#       tf.summary.scalar('unet_Dice_Coefficent_matrics' ,  data['unet']['metrics']['Dice_Coefficent_matrics'] , step = epoch)\n",
        "#       tf.summary.scalar('unet_PerClassDiceCoefficientMatrics' , data['unet']['metrics']['PerClassDiceCoefficientMatrics'] , step = epoch)\n",
        "#       tf.summary.scalar('unet_Pixel_accurcy_metrics' , data['unet']['metrics']['Pixel_accurcy_metrics'], step = epoch)\n",
        "\n",
        "#       tf.summary.scalar('unet_plus_plus_IOUMetric',data['unet_plus_plus']['metrics']['IOUMetric'] , step = epoch)\n",
        "#       tf.summary.scalar('unet_plus_plus_PerClassIOUMetric' , data['unet_plus_plus']['metrics']['PerClassIOUMetric'] , step = epoch)\n",
        "#       tf.summary.scalar('unet_plus_plus_Dice_Coefficent_matrics' ,  data['unet_plus_plus']['metrics']['Dice_Coefficent_matrics'] , step = epoch)\n",
        "#       tf.summary.scalar('unet_plus_plus_PerClassDiceCoefficientMatrics' , data['unet_plus_plus']['metrics']['PerClassDiceCoefficientMatrics'] , step = epoch)\n",
        "#       tf.summary.scalar('unet_plus_plus_Pixel_accurcy_metrics' , data['unet_plus_plus']['metrics']['Pixel_accurcy_metrics'], step = epoch)\n",
        "\n",
        "#       tf.summary.scalar('fcn_IOUMetric_val',data['fcn']['metrics']['IOUMetric_val'] , step = epoch)\n",
        "#       tf.summary.scalar('fcn_PerClassIOUMetric_val' , data['fcn']['metrics']['PerClassIOUMetric_val'] , step = epoch)\n",
        "#       tf.summary.scalar('fcn_Dice_Coefficent_matrics_val' ,  data['fcn']['metrics']['Dice_Coefficent_matrics_val'] , step = epoch)\n",
        "#       tf.summary.scalar('fcn_PerClassDiceCoefficientMatrics_val' , data['fcn']['metrics']['PerClassDiceCoefficientMatrics_val'] , step = epoch)\n",
        "#       tf.summary.scalar('fcn_Pixel_accurcy_metrics_val' , data['fcn']['metrics']['Pixel_accurcy_metrics_val'], step = epoch)\n",
        "\n",
        "#       tf.summary.scalar('unet_IOUMetric_val',data['unet']['metrics']['IOUMetric_val'] , step = epoch)\n",
        "#       tf.summary.scalar('unet_PerClassIOUMetric_val' , data['unet']['metrics']['PerClassIOUMetric_val'] , step = epoch)\n",
        "#       tf.summary.scalar('unet_Dice_Coefficent_matrics_val' ,  data['unet']['metrics']['Dice_Coefficent_matrics_val'] , step = epoch)\n",
        "#       tf.summary.scalar('unet_PerClassDiceCoefficientMatrics_val' , data['unet']['metrics']['PerClassDiceCoefficientMatrics_val'] , step = epoch)\n",
        "#       tf.summary.scalar('unet_Pixel_accurcy_metrics_val' , data['unet']['metrics']['Pixel_accurcy_metrics__val'], step = epoch)\n",
        "\n",
        "#       tf.summary.scalar('unet_plus_plus_IOUMetric_val',data['unet_plus_plus']['metrics']['IOUMetric_val'] , step = epoch)\n",
        "#       tf.summary.scalar('unet_plus_plus_PerClassIOUMetric_val' , data['unet_plus_plus']['metrics']['PerClassIOUMetric_val'] , step = epoch)\n",
        "#       tf.summary.scalar('unet_plus_plus_Dice_Coefficent_matrics_val' ,  data['unet_plus_plus']['metrics']['Dice_Coefficent_matrics_val'] , step = epoch)\n",
        "#       tf.summary.scalar('unet_plus_plus_PerClassDiceCoefficientMatrics_val' , data['unet_plus_plus']['metrics']['PerClassDiceCoefficientMatrics_val'] , step = epoch)\n",
        "#       tf.summary.scalar('unet_plus_plus_Pixel_accurcy_metrics_val' , data['unet_plus_plus']['metrics']['Pixel_accurcy_metrics_val'], step = epoch)\n",
        "#     self.writer.flush()\n",
        "#     self.ccc.on_epoch_end(epoch)\n",
        "#     self.clrs.change_learning_rate(epoch ,{\n",
        "#         'fcn' : data['fcn']['val_loss'] ,\n",
        "#         'unet' :  data['unet']['val_loss'] ,\n",
        "#         'unet_plus_plus' :  data['unet_plus_plus']['val_loss']\n",
        "#     })\n",
        "#     return self.cesc.early_stoping(epoch , {\n",
        "#         'fcn' : data['fcn']['val_loss'] ,\n",
        "#         'unet' :  data['unet']['val_loss'] ,\n",
        "#         'unet_plus_plus' :  data['unet_plus_plus']['val_loss']\n",
        "#     })\n",
        "\n",
        "\n",
        "\n",
        "\n",
        "class Master_callback(tf.keras.callbacks.Callback):\n",
        "  def __init__(self, log_dir , checkpoint_dir ,  model ,  optimizer , batches_per_epoch  ):\n",
        "    self.writer=tf.summary.create_file_writer(logdir=log_dir)\n",
        "    # initilizing custom checkpoint callback\n",
        "    self.ccc = Custom_checkpoint_Callabck(checkpoint_dir=checkpoint_dir, model = model ,  optimizer=optimizer )\n",
        "    # initilizing custom ealry stoping callback\n",
        "    self.cesc = Custom_early_stopping_callback()\n",
        "    # initilizing custom learning rate scheduler\n",
        "    self.clrs = Custom_learning_rate_schedule(optimizer=optimizer)\n",
        "    # initilizing custom training logger\n",
        "    self.ctlc = Custom_Training_logger_callback(batches_per_epoch=batches_per_epoch)\n",
        "    self.stop = False\n",
        "\n",
        "  def on_train_begin(self):\n",
        "    return self.ccc.load_latest_model()\n",
        "\n",
        "  def on_epoch_begin(self, epoch ):\n",
        "    self.ctlc.On_epoch_begin(epoch)\n",
        "\n",
        "  def on_batch_end(self,batch , epoch , data):\n",
        "    self.ctlc.on_batch_end(batch , epoch , data)\n",
        "\n",
        "  def on_epoch_end(self, epoch , data):\n",
        "    self.ctlc.on_epoch_end(epoch , data)\n",
        "    # summary -->\n",
        "    with self.writer.as_default():\n",
        "      tf.summary.scalar('loss' , data['loss'],step=epoch)\n",
        "      tf.summary.scalar('fcn_val_loss' , data['val_loss'],step=epoch)\n",
        "\n",
        "      tf.summary.scalar('IOUMetric',data['metrics']['IOUMetric'] , step = epoch)\n",
        "      for i, iou_score in enumerate(data['metrics']['PerClassIOUMetric']):\n",
        "        tf.summary.scalar(f'PerClassIOUMetric_{i}', iou_score, step=epoch)\n",
        "\n",
        "      tf.summary.scalar('Dice_Coefficent_matrics' ,  data['metrics']['Dice_Coefficent_matrics'] , step = epoch)\n",
        "\n",
        "      for i, iou_score in enumerate(data['metrics']['PerClassDiceCoefficientMatrics']):\n",
        "        tf.summary.scalar(f'PerClassDiceCoefficientMatrics{i}', iou_score, step=epoch)\n",
        "      tf.summary.scalar('Pixel_accurcy_metrics' , data['metrics']['Pixel_accurcy_metrics'], step = epoch)\n",
        "\n",
        "\n",
        "      tf.summary.scalar('IOUMetric_val',data['metrics']['IOUMetric_val'] , step = epoch)\n",
        "      for i, iou_score in enumerate(data['metrics']['PerClassIOUMetric_val']):\n",
        "        tf.summary.scalar(f'PerClassIOUMetric_val_{i}', iou_score, step=epoch)\n",
        "      tf.summary.scalar('Dice_Coefficent_matrics_val' ,  data['metrics']['Dice_Coefficent_matrics_val'] , step = epoch)\n",
        "\n",
        "      for i, iou_score in enumerate(data['metrics']['PerClassDiceCoefficientMatrics_val']):\n",
        "        tf.summary.scalar(f'PerClassDiceCoefficientMatrics_val{i}', iou_score, step=epoch)\n",
        "      tf.summary.scalar('Pixel_accurcy_metrics_val' , data['metrics']['Pixel_accurcy_metrics_val'], step = epoch)\n",
        "\n",
        "\n",
        "    self.writer.flush()\n",
        "    self.ccc.on_epoch_end(epoch)\n",
        "    self.clrs.change_learning_rate(epoch ,val_loss=data['val_loss'])\n",
        "    return self.cesc.early_stoping(epoch ,val_loss = data['val_loss'])"
      ]
    },
    {
      "cell_type": "markdown",
      "metadata": {
        "id": "ugK4Tt5h7myZ"
      },
      "source": [
        "**initilizing instances**"
      ]
    },
    {
      "cell_type": "code",
      "execution_count": null,
      "metadata": {
        "id": "QZhkibVdihjv"
      },
      "outputs": [],
      "source": [
        "with strategy.scope():\n",
        "  fcn_SemanticSegmentationLoss=SemanticSegmentationLoss()\n",
        "  unet_SemanticSegmentationLoss=SemanticSegmentationLoss()\n",
        "  deepSupervisionLoss=DeepSupervisionLoss(weights = [0.5, 0.3, 0.15, 0.05])"
      ]
    },
    {
      "cell_type": "code",
      "execution_count": null,
      "metadata": {
        "id": "QrB19aAPvme4",
        "colab": {
          "base_uri": "https://localhost:8080/"
        },
        "outputId": "4378f356-9d86-4763-ca16-e4b2c117a0b2"
      },
      "outputs": [
        {
          "output_type": "stream",
          "name": "stderr",
          "text": [
            "\repoch 114:   0%|          | 0/47 [15:26<?, ?it/s]\n"
          ]
        }
      ],
      "source": [
        "batches_per_epoch = 47\n",
        "fcn_master_callback =Master_callback(log_dir=fcn_log_dir , checkpoint_dir=checkpoint_dir_fcn  , model=fcn  ,batches_per_epoch=batches_per_epoch ,optimizer=optimizer_fcn )\n",
        "\n",
        "\n",
        "unet_master_callback =Master_callback(log_dir=unet_log_dir , checkpoint_dir=checkpoint_dir_unet  , model=unet  ,batches_per_epoch=batches_per_epoch ,optimizer=optimizer_unet )\n",
        "\n",
        "unet_plus_plus_master_callback =Master_callback(log_dir=unet_plus_plus_log_dir , checkpoint_dir=checkpoint_dir_unet_plus_plus  , model=unet_plus_plus  ,batches_per_epoch=batches_per_epoch ,optimizer=optimizer_fcn )\n",
        "\n",
        "# fcn matrics\n",
        "with strategy.scope() :\n",
        "  fcn_IOUMetric = IOUMetric()\n",
        "  fcn_PerClassIOUMetric = PerClassIOUMetric()\n",
        "  fcn_Dice_Coefficent_matrics = Dice_Coefficent_matrics()\n",
        "  fcn_PerClassDiceCoefficientMatrics = PerClassDiceCoefficientMatrics()\n",
        "  fcn_Pixel_accurcy_metrics  = Pixel_accurcy_metrics()\n",
        "\n",
        "  fcn_IOUMetric_val = IOUMetric()\n",
        "  fcn_PerClassIOUMetric_val = PerClassIOUMetric()\n",
        "  fcn_Dice_Coefficent_matrics_val = Dice_Coefficent_matrics()\n",
        "  fcn_PerClassDiceCoefficientMatrics_val = PerClassDiceCoefficientMatrics()\n",
        "  fcn_Pixel_accurcy_metrics_val  = Pixel_accurcy_metrics()\n",
        "\n",
        "  # unet matrics\n",
        "  unet_IOUMetric = IOUMetric()\n",
        "  unet_PerClassIOUMetric = PerClassIOUMetric()\n",
        "  unet_Dice_Coefficent_matrics = Dice_Coefficent_matrics()\n",
        "  unet_PerClassDiceCoefficientMatrics = PerClassDiceCoefficientMatrics()\n",
        "  unet_Pixel_accurcy_metrics  = Pixel_accurcy_metrics()\n",
        "\n",
        "  unet_IOUMetric_val = IOUMetric()\n",
        "  unet_PerClassIOUMetric_val = PerClassIOUMetric()\n",
        "  unet_Dice_Coefficent_matrics_val = Dice_Coefficent_matrics()\n",
        "  unet_PerClassDiceCoefficientMatrics_val = PerClassDiceCoefficientMatrics()\n",
        "  unet_Pixel_accurcy_metrics_val  = Pixel_accurcy_metrics()\n",
        "\n",
        "  # unet_plus_plus matrics\n",
        "  unet_plus_plus_IOUMetric = IOUMetric()\n",
        "  unet_plus_plus_PerClassIOUMetric = PerClassIOUMetric()\n",
        "  unet_plus_plus_Dice_Coefficent_matrics = Dice_Coefficent_matrics()\n",
        "  unet_plus_plus_PerClassDiceCoefficientMatrics = PerClassDiceCoefficientMatrics()\n",
        "  unet_plus_plus_Pixel_accurcy_metrics  = Pixel_accurcy_metrics()\n",
        "\n",
        "  unet_plus_plus_IOUMetric_val = IOUMetric()\n",
        "  unet_plus_plus_PerClassIOUMetric_val = PerClassIOUMetric()\n",
        "  unet_plus_plus_Dice_Coefficent_matrics_val = Dice_Coefficent_matrics()\n",
        "  unet_plus_plus_PerClassDiceCoefficientMatrics_val = PerClassDiceCoefficientMatrics()\n",
        "  unet_plus_plus_Pixel_accurcy_metrics_val  = Pixel_accurcy_metrics()"
      ]
    },
    {
      "cell_type": "code",
      "execution_count": null,
      "metadata": {
        "id": "-ll7UPDu5VXW",
        "colab": {
          "base_uri": "https://localhost:8080/"
        },
        "outputId": "52b97cf5-509a-4567-cda9-d8c7077b5c2c"
      },
      "outputs": [
        {
          "output_type": "execute_result",
          "data": {
            "text/plain": [
              "<__main__.SemanticSegmentationLoss at 0x791b4808dfd0>"
            ]
          },
          "metadata": {},
          "execution_count": 116
        }
      ],
      "source": [
        "fcn_SemanticSegmentationLoss"
      ]
    },
    {
      "cell_type": "markdown",
      "metadata": {
        "id": "xBt10VB8kHRA"
      },
      "source": [
        "**custom training**"
      ]
    },
    {
      "cell_type": "code",
      "execution_count": null,
      "metadata": {
        "id": "wDw20qT5HhDJ"
      },
      "outputs": [],
      "source": [
        "with strategy.scope():\n",
        "  @tf.function\n",
        "  def train_step(x_train_batch, y_train_batch):\n",
        "    with tf.GradientTape(persistent=True) as tape:\n",
        "      # tf.print(\"Input shapes - x:\", x_train_batch.shape, \"y:\", y_train_batch.shape)\n",
        "      fcn_logits = fcn(x_train_batch)\n",
        "      # tf.print(\"fcn_logits shape:\", fcn_logits.shape)\n",
        "      fcn_loss = fcn_SemanticSegmentationLoss(y_true=y_train_batch, y_pred=fcn_logits)\n",
        "      # tf.print(\"fcn_loss computed:\", fcn_loss)\n",
        "      unet_logits = unet(x_train_batch)\n",
        "      # tf.print(\"unet_logits shape:\", unet_logits.shape)\n",
        "      unet_loss = unet_SemanticSegmentationLoss(y_true=y_train_batch, y_pred=unet_logits)\n",
        "      # tf.print(\"unet_loss computed:\", unet_loss)\n",
        "      unet_plus_plus_outputs = unet_plus_plus(x_train_batch)\n",
        "      unet_plus_plus_loss = deepSupervisionLoss(y_true=y_train_batch, y_pred=unet_plus_plus_outputs)\n",
        "      unet_plus_plus_logits = unet_plus_plus_outputs[-1]\n",
        "      # tf.print(\"unet_plus_plus_logits shape:\", unet_plus_plus_logits.shape)\n",
        "\n",
        "    fcn_gradients = tape.gradient(fcn_loss, fcn.trainable_variables)\n",
        "    # tf.print(\"fcn_gradients computed, length:\", len(fcn_gradients))\n",
        "    unet_gradients = tape.gradient(unet_loss, unet.trainable_variables)\n",
        "    # tf.print(\"unet_gradients computed, length:\", len(unet_gradients))\n",
        "    unet_plus_plus_gradients = tape.gradient(unet_plus_plus_loss, unet_plus_plus.trainable_variables)\n",
        "    # tf.print(\"unet_plus_plus_gradients computed, length:\", len(unet_plus_plus_gradients))\n",
        "\n",
        "\n",
        "\n",
        "    optimizer_fcn.apply_gradients(zip(fcn_gradients,fcn.trainable_variables))\n",
        "    optimizer_unet.apply_gradients(zip(unet_gradients,unet.trainable_variables))\n",
        "    optimizer_unet_plus_plus.apply_gradients(zip(unet_plus_plus_gradients , unet_plus_plus.trainable_variables))\n",
        "\n",
        "    fcn_IOUMetric.update_state(y_true=y_train_batch, y_pred=fcn_logits)\n",
        "    fcn_PerClassIOUMetric.update_state(y_true=y_train_batch, y_pred=fcn_logits)\n",
        "    fcn_Dice_Coefficent_matrics.update_state(y_train_batch, fcn_logits)\n",
        "    fcn_PerClassDiceCoefficientMatrics.update_state(y_train_batch, fcn_logits)\n",
        "    fcn_Pixel_accurcy_metrics.update_state(y_train_batch, fcn_logits)\n",
        "\n",
        "    unet_IOUMetric.update_state(y_true=y_train_batch, y_pred=unet_logits)\n",
        "    unet_PerClassIOUMetric.update_state(y_true=y_train_batch, y_pred=unet_logits)\n",
        "    unet_Dice_Coefficent_matrics.update_state(y_train_batch, unet_logits)\n",
        "    unet_PerClassDiceCoefficientMatrics.update_state(y_train_batch, unet_logits)\n",
        "    unet_Pixel_accurcy_metrics.update_state(y_train_batch, unet_logits)\n",
        "\n",
        "    unet_plus_plus_IOUMetric.update_state(y_true=y_train_batch, y_pred=unet_plus_plus_logits)\n",
        "    unet_plus_plus_PerClassIOUMetric.update_state(y_true=y_train_batch, y_pred=unet_plus_plus_logits)\n",
        "    unet_plus_plus_Dice_Coefficent_matrics.update_state(y_train_batch, unet_plus_plus_logits)\n",
        "    unet_plus_plus_PerClassDiceCoefficientMatrics.update_state(y_train_batch, unet_plus_plus_logits)\n",
        "    unet_plus_plus_Pixel_accurcy_metrics.update_state(y_train_batch, unet_plus_plus_logits)\n",
        "\n",
        "    del tape\n",
        "    return {\n",
        "      'fcn_loss': fcn_loss,\n",
        "      'unet_loss': unet_loss,\n",
        "      'unet_plus_plus_loss' : unet_plus_plus_loss\n",
        "\n",
        "    }\n"
      ]
    },
    {
      "cell_type": "code",
      "execution_count": null,
      "metadata": {
        "id": "pszZ4wUGUJQZ"
      },
      "outputs": [],
      "source": []
    },
    {
      "cell_type": "code",
      "execution_count": null,
      "metadata": {
        "id": "_Soyc3vECf0V"
      },
      "outputs": [],
      "source": [
        "# with strategy.scope():\n",
        "#   # @tf.function\n",
        "#   def fcn_train_step(data):\n",
        "#     x_train_batch , y_train_batch = data\n",
        "#     with tf.GradientTape() as tape  :\n",
        "#       tf.print('train step begaines')\n",
        "#       tf.print(\"Input batch shape:\", tf.shape(x_train_batch), \"Label shape:\", tf.shape(y_train_batch))\n",
        "#       fcn_logits = fcn(x_train_batch)\n",
        "#       tf.print(\"Logits computed, shape:\", tf.shape(fcn_logits))\n",
        "#       # tf.debugging.check_numerics(fcn_logits, \"Logits have NaN or Inf\")\n",
        "#       per_example_loss = fcn_SemanticSegmentationLoss.compute_per_sample(y_train_batch, fcn_logits)\n",
        "#       loss = tf.nn.compute_average_loss(\n",
        "#             per_example_loss,\n",
        "#             global_batch_size=8)\n",
        "#       tf.print(\"Loss computed:\", loss)\n",
        "#       # tf.debugging.check_numerics(fcn_loss, \"Loss is NaN or Inf\")\n",
        "#     fcn_gradients=tape.gradient(loss  , fcn.trainable_variables)\n",
        "#     # fcn_gradients = [tf.clip_by_value(g, -0.5, 0.5) if g is not None else g for g in fcn_gradients]\n",
        "#     # optimizer_fcn.apply_gradients(zip(fcn_gradients,fcn.trainable_variables))\n",
        "#     # tf.print('this fcn loss at fcn', fcn_loss)\n",
        "#     # fcn_IOUMetric.update_state(y_true=y_train_batch, y_pred=fcn_logits)\n",
        "#     # fcn_PerClassIOUMetric.update_state(y_true=y_train_batch, y_pred=fcn_logits)\n",
        "#     # fcn_Dice_Coefficent_matrics.update_state(y_train_batch, fcn_logits)\n",
        "#     # fcn_PerClassDiceCoefficientMatrics.update_state(y_train_batch, fcn_logits)\n",
        "#     # fcn_Pixel_accurcy_metrics.update_state(y_train_batch, fcn_logits)\n",
        "#     # tf.print(f'fcn loss : {fcn_loss}')\n",
        "#     # del fcn_logits\n",
        "#     # del fcn_gradients\n",
        "\n",
        "#     return loss\n",
        "\n",
        "\n",
        "\n",
        "with strategy.scope():\n",
        "  # @tf.function\n",
        "    def train_step(dist_inputs):\n",
        "        x_train, y_train = dist_inputs\n",
        "        with tf.GradientTape() as tape:\n",
        "            logits = fcn(x_train)\n",
        "\n",
        "            per_example_loss = fcn_SemanticSegmentationLoss.compute_per_sample(y_train, logits)\n",
        "            loss = tf.nn.compute_average_loss(\n",
        "            per_example_loss,\n",
        "            global_batch_size=final_batch_size\n",
        "        )\n",
        "\n",
        "        gradients = tape.gradient(loss, fcn.trainable_variables)\n",
        "        optimizer_fcn.apply_gradients(zip(gradients,fcn.trainable_variables))\n",
        "\n",
        "\n",
        "        y_train = tf.squeeze(y_train , axis = -1)\n",
        "\n",
        "        fcn_IOUMetric.update_state(y_true=y_train, y_pred=logits)\n",
        "        fcn_PerClassIOUMetric.update_state(y_true=y_train, y_pred=logits)\n",
        "        fcn_Dice_Coefficent_matrics.update_state(y_train, logits)\n",
        "        fcn_PerClassDiceCoefficientMatrics.update_state(y_train, logits)\n",
        "        fcn_Pixel_accurcy_metrics.update_state(y_train, logits)\n",
        "\n",
        "        return loss\n"
      ]
    },
    {
      "cell_type": "code",
      "execution_count": null,
      "metadata": {
        "id": "N1Q331l9EVja"
      },
      "outputs": [],
      "source": [
        "with strategy.scope():\n",
        "  @tf.function\n",
        "  def unet_train_step(x_train_batch , y_train_batch) :\n",
        "    with tf.GradientTape() as tape :\n",
        "      unet_logits = unet(x_train_batch)\n",
        "      unet_loss = unet_SemanticSegmentationLoss(y_true=y_train_batch, y_pred=unet_logits)\n",
        "    unet_gradients = tape.gradient(unet_loss , unet.trainable_variables)\n",
        "    optimizer_unet.apply_gradients(zip(unet_gradients,unet.trainable_variables))\n",
        "\n",
        "    unet_IOUMetric.update_state(y_true=y_train_batch, y_pred=unet_logits)\n",
        "    unet_PerClassIOUMetric.update_state(y_true=y_train_batch, y_pred=unet_logits)\n",
        "    unet_Dice_Coefficent_matrics.update_state(y_train_batch, unet_logits)\n",
        "    unet_PerClassDiceCoefficientMatrics.update_state(y_train_batch, unet_logits)\n",
        "    unet_Pixel_accurcy_metrics.update_state(y_train_batch, unet_logits)\n",
        "\n",
        "    del unet_logits\n",
        "    del unet_gradients\n",
        "    return unet_loss"
      ]
    },
    {
      "cell_type": "code",
      "execution_count": null,
      "metadata": {
        "id": "oWMXg-_JFho9"
      },
      "outputs": [],
      "source": [
        "with strategy.scope():\n",
        "  @tf.function\n",
        "  def unet_plus_plus_train_step(x_train_batch , y_train_batch):\n",
        "    with tf.GradientTape() as tape :\n",
        "      unet_plus_plus_outputs = unet_plus_plus(x_train_batch)\n",
        "      unet_plus_plus_loss = deepSupervisionLoss(y_true=y_train_batch, y_pred=unet_plus_plus_outputs)\n",
        "      unet_plus_plus_logits = unet_plus_plus_outputs[-1]\n",
        "\n",
        "    unet_plus_plus_gradients = tape.gradient(unet_plus_plus_loss, unet_plus_plus.trainable_variables)\n",
        "    optimizer_unet_plus_plus.apply_gradients(zip(unet_plus_plus_gradients , unet_plus_plus.trainable_variables))\n",
        "\n",
        "    unet_plus_plus_IOUMetric.update_state(y_true=y_train_batch, y_pred=unet_plus_plus_logits)\n",
        "    unet_plus_plus_PerClassIOUMetric.update_state(y_true=y_train_batch, y_pred=unet_plus_plus_logits)\n",
        "    unet_plus_plus_Dice_Coefficent_matrics.update_state(y_train_batch, unet_plus_plus_logits)\n",
        "    unet_plus_plus_PerClassDiceCoefficientMatrics.update_state(y_train_batch, unet_plus_plus_logits)\n",
        "    unet_plus_plus_Pixel_accurcy_metrics.update_state(y_train_batch, unet_plus_plus_logits)\n",
        "\n",
        "    del unet_plus_plus_logits\n",
        "    del unet_plus_plus_gradients\n",
        "    return unet_plus_plus_loss\n"
      ]
    },
    {
      "cell_type": "code",
      "execution_count": null,
      "metadata": {
        "id": "sCgVkQwLZeyT"
      },
      "outputs": [],
      "source": [
        "with strategy.scope():\n",
        "  @tf.function\n",
        "  def val_step(x_val_batch,y_val_batch):\n",
        "    fcn_logits = fcn(x_val_batch)\n",
        "    fcn_val_loss = fcn_SemanticSegmentationLoss(y_true=y_val_batch,y_pred=fcn_logits)\n",
        "    unet_logits  = unet(x_val_batch)\n",
        "    unet_val_loss = unet_SemanticSegmentationLoss(y_true = y_val_batch,y_pred = unet_logits)\n",
        "    unet_plus_plus_logits = unet_plus_plus(x_val_batch)\n",
        "    unet_plus_plus_val_loss = deepSupervisionLoss(y_true = y_val_batch, y_pred = unet_plus_plus_logits)\n",
        "\n",
        "    fcn_IOUMetric_val.update_state(y_true=y_val_batch, y_pred=fcn_logits)\n",
        "    fcn_PerClassIOUMetric_val.update_state(y_true=y_val_batch, y_pred=fcn_logits)\n",
        "    fcn_Dice_Coefficent_matrics_val.update_state(y_val_batch, fcn_logits)\n",
        "    fcn_PerClassDiceCoefficientMatrics_val.update_state(y_val_batch, fcn_logits)\n",
        "    fcn_Pixel_accurcy_metrics_val.update_state(y_val_batch, fcn_logits)\n",
        "\n",
        "    unet_IOUMetric_val.update_state(y_true=y_val_batch, y_pred=unet_logits)\n",
        "    unet_PerClassIOUMetric_val.update_state(y_true=y_val_batch, y_pred=unet_logits)\n",
        "    unet_Dice_Coefficent_matrics_val.update_state(y_val_batch, unet_logits)\n",
        "    unet_PerClassDiceCoefficientMatrics_val.update_state(y_val_batch, unet_logits)\n",
        "    unet_Pixel_accurcy_metrics_val.update_state(y_val_batch, unet_logits)\n",
        "\n",
        "    unet_plus_plus_IOUMetric_val.update_state(y_true=y_val_batch, y_pred=unet_plus_plus_logits)\n",
        "    unet_plus_plus_PerClassIOUMetric_val.update_state(y_true=y_val_batch, y_pred=unet_plus_plus_logits)\n",
        "    unet_plus_plus_Dice_Coefficent_matrics_val.update_state(y_val_batch, unet_plus_plus_logits)\n",
        "    unet_plus_plus_PerClassDiceCoefficientMatrics_val.update_state(y_val_batch, unet_plus_plus_logits)\n",
        "    unet_plus_plus_Pixel_accurcy_metrics_val.update_state(y_val_batch, unet_plus_plus_logits)\n",
        "    return {\n",
        "        'fcn_val_loss' : fcn_val_loss ,\n",
        "        'unet_val_loss' : unet_val_loss ,\n",
        "        'unet_plus_plus_val_loss' : unet_plus_plus_val_loss\n",
        "    }"
      ]
    },
    {
      "cell_type": "code",
      "execution_count": null,
      "metadata": {
        "id": "F7Gd9o_RG-AD"
      },
      "outputs": [],
      "source": [
        "with strategy.scope() :\n",
        "  @tf.function\n",
        "  def fcn_val_step(data  ):\n",
        "    x_val_batch , y_val_batch = data\n",
        "    logits = fcn(x_val_batch)\n",
        "\n",
        "    per_example_loss = fcn_SemanticSegmentationLoss.compute_per_sample(y_val_batch, logits)\n",
        "    loss = tf.nn.compute_average_loss(\n",
        "            per_example_loss,\n",
        "            global_batch_size=16)\n",
        "\n",
        "    y_val_batch = tf.squeeze(y_val_batch, axis = -1)\n",
        "\n",
        "    fcn_IOUMetric_val.update_state(y_true=y_val_batch, y_pred=logits)\n",
        "    fcn_PerClassIOUMetric_val.update_state(y_true=y_val_batch, y_pred=logits)\n",
        "    fcn_Dice_Coefficent_matrics_val.update_state(y_val_batch, logits)\n",
        "    fcn_PerClassDiceCoefficientMatrics_val.update_state(y_val_batch, logits)\n",
        "    fcn_Pixel_accurcy_metrics_val.update_state(y_val_batch, logits)\n",
        "\n",
        "    del logits\n",
        "    return loss"
      ]
    },
    {
      "cell_type": "code",
      "execution_count": null,
      "metadata": {
        "id": "8gPYJjZUIMIa"
      },
      "outputs": [],
      "source": [
        "with strategy.scope() :\n",
        "\n",
        "  def unet_val_step (x_val_batch , y_val_batch) :\n",
        "    unet_logits = unet(x_val_batch)\n",
        "    unet_val_loss = unet_SemanticSegmentationLoss(y_true = y_val_batch,y_pred = unet_logits)\n",
        "\n",
        "    unet_IOUMetric_val.update_state(y_true=y_val_batch, y_pred=unet_logits)\n",
        "    unet_PerClassIOUMetric_val.update_state(y_true=y_val_batch, y_pred=unet_logits)\n",
        "    unet_Dice_Coefficent_matrics_val.update_state(y_val_batch, unet_logits)\n",
        "    unet_PerClassDiceCoefficientMatrics_val.update_state(y_val_batch, unet_logits)\n",
        "    unet_Pixel_accurcy_metrics_val.update_state(y_val_batch, unet_logits)\n",
        "\n",
        "    del unet_logits\n",
        "    return unet_val_loss"
      ]
    },
    {
      "cell_type": "code",
      "execution_count": null,
      "metadata": {
        "id": "wOhoWJ7YIu-J"
      },
      "outputs": [],
      "source": [
        "with strategy.scope() :\n",
        "  @tf.function\n",
        "  def unet_plus_plus_val_step(x_val_batch , y_val_batch) :\n",
        "    unet_plus_plus_outputs = unet_plus_plus(x_val_batch)\n",
        "    unet_plus_plus_val_loss = deepSupervisionLoss(y_true = y_val_batch, y_pred = unet_plus_plus_logits)\n",
        "    unet_plus_plus_logits = unet_plus_plus_outputs[-1]\n",
        "\n",
        "\n",
        "    unet_plus_plus_IOUMetric_val.update_state(y_true=y_val_batch, y_pred=unet_plus_plus_logits)\n",
        "    unet_plus_plus_PerClassIOUMetric_val.update_state(y_true=y_val_batch, y_pred=unet_plus_plus_logits)\n",
        "    unet_plus_plus_Dice_Coefficent_matrics_val.update_state(y_val_batch, unet_plus_plus_logits)\n",
        "    unet_plus_plus_PerClassDiceCoefficientMatrics_val.update_state(y_val_batch, unet_plus_plus_logits)\n",
        "    unet_plus_plus_Pixel_accurcy_metrics_val.update_state(y_val_batch, unet_plus_plus_logits)\n",
        "    del unet_plus_plus_logits\n",
        "    del unet_plus_plus_outputs\n",
        "    return unet_plus_plus_val_loss"
      ]
    },
    {
      "cell_type": "code",
      "execution_count": null,
      "metadata": {
        "id": "u90A1zGJ3rhE"
      },
      "outputs": [],
      "source": [
        "with strategy.scope() :\n",
        "  @tf.function\n",
        "  def distributed_train_step(x_train_batch , y_train_batch):\n",
        "    print('distributed_train_step start')\n",
        "    per_replica_results = strategy.run(train_step, args=(x_train_batch, y_train_batch))\n",
        "\n",
        "\n",
        "\n",
        "\n",
        "    fcn_loss = strategy.reduce(tf.distribute.ReduceOp.MEAN,per_replica_results['fcn_loss'],axis=None)\n",
        "    unet_loss = strategy.reduce(tf.distribute.ReduceOp.MEAN,per_replica_results['unet_loss'],axis=None)\n",
        "    unet_plus_plus_loss = strategy.reduce(tf.distribute.ReduceOp.MEAN,per_replica_results['unet_plus_plus_loss'],axis = None)\n",
        "    print('distributed train step end ')\n",
        "    return {\n",
        "        'fcn' : fcn_loss ,\n",
        "        'unet' : unet_loss ,\n",
        "        'unet_plus_plus' : unet_plus_plus_loss\n",
        "    }"
      ]
    },
    {
      "cell_type": "code",
      "execution_count": null,
      "metadata": {
        "id": "phYK15qPKPuw"
      },
      "outputs": [],
      "source": [
        "with strategy.scope():\n",
        "    @tf.function\n",
        "    def fcn_distributed_train_step(dist_data):\n",
        "        per_replica_loss = strategy.run(train_step, args=(dist_data,))\n",
        "\n",
        "        return strategy.reduce(tf.distribute.ReduceOp.SUM, per_replica_loss, axis=None)"
      ]
    },
    {
      "cell_type": "code",
      "execution_count": null,
      "metadata": {
        "id": "4vBuQHyFK8GH"
      },
      "outputs": [],
      "source": [
        "with strategy.scope() :\n",
        "  @tf.function\n",
        "  def unet_distributed_train_step(x_train_batch , y_train_batch) :\n",
        "    per_replica_loss =strategy.run(unet_train_step , args = (x_train_batch , y_train_batch ) )\n",
        "    return strategy.reduce(tf.distribute.ReduceOp.MEAN  , per_replica_loss , axis = None )\n"
      ]
    },
    {
      "cell_type": "code",
      "execution_count": null,
      "metadata": {
        "id": "eU7axuiNLE9O"
      },
      "outputs": [],
      "source": [
        "with strategy.scope() :\n",
        "  @tf.function\n",
        "  def unet_plus_plus_distributed_train_step(x_train_batch , y_train_batch) :\n",
        "    per_replica_loss =strategy.run(unet_plus_plus_train_step , args = (x_train_batch , y_train_batch ) )\n",
        "    return strategy.reduce(tf.distribute.ReduceOp.MEAN  , per_replica_loss , axis = None )\n"
      ]
    },
    {
      "cell_type": "code",
      "execution_count": null,
      "metadata": {
        "id": "WJIzbVN0Wcnc"
      },
      "outputs": [],
      "source": [
        "with strategy.scope() :\n",
        "  @tf.function\n",
        "  def distributed_val_step(x_val_batch,y_val_batch):\n",
        "    per_replica_results = strategy.run(val_step , args = (x_val_batch,y_val_batch))\n",
        "    fcn_val_loss = strategy.reduce(tf.distribute.ReduceOp.MEAN,per_replica_results['fcn_val_loss'] , axis = None)\n",
        "    unet_val_loss = strategy.reduce(tf.distribute.ReduceOp.MEAN,per_replica_results['unet_val_loss'] , axis = None)\n",
        "    unet_plus_plus_val_loss = strategy.reduce(tf.distribute.ReduceOp.MEAN,per_replica_results['unet_plus_plus_val_loss'] , axis = None)\n",
        "    return {\n",
        "        'fcn' : fcn_val_loss ,\n",
        "        'unet' : unet_val_loss ,\n",
        "        'unet_plus_plus' : unet_plus_plus_val_loss\n",
        "    }"
      ]
    },
    {
      "cell_type": "code",
      "execution_count": null,
      "metadata": {
        "id": "SN48XOyeLRRm"
      },
      "outputs": [],
      "source": [
        "with strategy.scope():\n",
        "    @tf.function\n",
        "    def fcn_distributed_val_step(dist_data):\n",
        "        per_replica_loss = strategy.run(fcn_val_step, args=(dist_data,))\n",
        "\n",
        "        return strategy.reduce(tf.distribute.ReduceOp.SUM, per_replica_loss, axis=None)\n"
      ]
    },
    {
      "cell_type": "code",
      "execution_count": null,
      "metadata": {
        "id": "NLVb4GtWMdgu"
      },
      "outputs": [],
      "source": [
        "with strategy.scope() :\n",
        "  @tf.function\n",
        "  def unet_distributed_val_step( data) :\n",
        "    per_replica_loss =strategy.run(unet_val_step , args = (data  ) )\n",
        "    return strategy.reduce(tf.distribute.ReduceOp.MEAN  , per_replica_loss , axis = None )\n"
      ]
    },
    {
      "cell_type": "code",
      "execution_count": null,
      "metadata": {
        "id": "R164kA-dN1gc"
      },
      "outputs": [],
      "source": [
        "with strategy.scope() :\n",
        "  @tf.function\n",
        "  def unet_plus_plus_distributed_val_step(x_val_batch , y_val_batch) :\n",
        "    per_replica_loss =strategy.run(unet_plus_plus_val_step , args = (x_val_batch , y_val_batch ) )\n",
        "    return strategy.reduce(tf.distribute.ReduceOp.MEAN  , per_replica_loss , axis = None )\n"
      ]
    },
    {
      "cell_type": "code",
      "execution_count": null,
      "metadata": {
        "id": "_8Iz61nAft5x"
      },
      "outputs": [],
      "source": [
        "with strategy.scope():\n",
        "\n",
        "  def train_fcn_for_one_epoch(epoch):\n",
        "    losses = []\n",
        "    step = 1\n",
        "    for  data1 in  (train_dataset):\n",
        "\n",
        "      fcn_loss=fcn_distributed_train_step(data1)\n",
        "\n",
        "      losses.append(fcn_loss)\n",
        "\n",
        "      data = {\n",
        "\n",
        "              'loss' : fcn_loss ,\n",
        "              'metrics': {\n",
        "                  'IOUMetric' : fcn_IOUMetric.result(),\n",
        "                  'PerClassIOUMetric' : fcn_PerClassIOUMetric.result(),\n",
        "                  'Dice_Coefficent_matrics' : fcn_Dice_Coefficent_matrics.result(),\n",
        "                  'PerClassDiceCoefficientMatrics' : fcn_PerClassDiceCoefficientMatrics.result() ,\n",
        "                  'Pixel_accurcy_metrics' : fcn_Pixel_accurcy_metrics.result()\n",
        "              }\n",
        "\n",
        "\n",
        "      }\n",
        "      fcn_master_callback.on_batch_end(batch = step , epoch = epoch,data = data)\n",
        "      step +=1\n",
        "    return losses\n",
        "\n",
        "\n"
      ]
    },
    {
      "cell_type": "code",
      "execution_count": null,
      "metadata": {
        "id": "p0AhtXv6yh3A"
      },
      "outputs": [],
      "source": [
        "with strategy.scope():\n",
        "\n",
        "  def train_unet_for_one_epoch(epoch):\n",
        "    losss = []\n",
        "    step = 1\n",
        "    for  (x_train_batch , y_train_batch) in  (train_dataset):\n",
        "      unet_loss=unet_distributed_train_step(x_train_batch , y_train_batch)\n",
        "\n",
        "      losss.append(unet_loss)\n",
        "\n",
        "      data = {\n",
        "\n",
        "              'loss' : unet_loss ,\n",
        "              'metrics': {\n",
        "                  'IOUMetric' : fcn_IOUMetric.result(),\n",
        "                  'PerClassIOUMetric' : fcn_PerClassIOUMetric.result(),\n",
        "                  'Dice_Coefficent_matrics' : fcn_Dice_Coefficent_matrics.result(),\n",
        "                  'PerClassDiceCoefficientMatrics' : fcn_PerClassDiceCoefficientMatrics.result() ,\n",
        "                  'Pixel_accurcy_metrics' : fcn_Pixel_accurcy_metrics.result()\n",
        "              }\n",
        "\n",
        "\n",
        "      }\n",
        "      unet_master_callback.on_batch_end(batch = step , epoch = epoch,data = data)\n",
        "      step +=1\n",
        "    return losses\n",
        "\n",
        "\n"
      ]
    },
    {
      "cell_type": "code",
      "execution_count": null,
      "metadata": {
        "id": "KyZT7CIOyijC"
      },
      "outputs": [],
      "source": [
        "with strategy.scope():\n",
        "\n",
        "  def train_unet_plus_plus_for_one_epoch(epoch):\n",
        "    losss = []\n",
        "    step = 1\n",
        "    for  (x_train_batch , y_train_batch) in  (train_dataset):\n",
        "      unet_plus_plus_loss=unet_distributed_train_step(x_train_batch , y_train_batch)\n",
        "\n",
        "      losss.append(unet_plus_plus_loss)\n",
        "\n",
        "      data = {\n",
        "\n",
        "              'loss' : unet_plus_plus_loss ,\n",
        "              'metrics': {\n",
        "                  'IOUMetric' : fcn_IOUMetric.result(),\n",
        "                  'PerClassIOUMetric' : fcn_PerClassIOUMetric.result(),\n",
        "                  'Dice_Coefficent_matrics' : fcn_Dice_Coefficent_matrics.result(),\n",
        "                  'PerClassDiceCoefficientMatrics' : fcn_PerClassDiceCoefficientMatrics.result() ,\n",
        "                  'Pixel_accurcy_metrics' : fcn_Pixel_accurcy_metrics.result()\n",
        "              }\n",
        "\n",
        "\n",
        "      }\n",
        "      unet_master_callback.on_batch_end(batch = step , epoch = epoch,data = data)\n",
        "      step +=1\n",
        "    return losses"
      ]
    },
    {
      "cell_type": "code",
      "execution_count": null,
      "metadata": {
        "id": "UTN0SW90VJ3m"
      },
      "outputs": [],
      "source": [
        "with strategy.scope() :\n",
        "\n",
        "  def val_fcn_for_one_epoch():\n",
        "    val_losses = []\n",
        "    step = 1\n",
        "    for  dist_data in (val_dataset):\n",
        "      fcn_val_loss = fcn_distributed_val_step(dist_data)\n",
        "      val_losses.append(fcn_val_loss)\n",
        "\n",
        "    return val_losses"
      ]
    },
    {
      "cell_type": "code",
      "execution_count": null,
      "metadata": {
        "id": "7GARHD0UzoUw"
      },
      "outputs": [],
      "source": [
        "with strategy.scope() :\n",
        "  @tf.function\n",
        "  def val_unet_for_one_epoch():\n",
        "    val_losses = []\n",
        "    step = 1\n",
        "    for  dist_data in (val_dataset):\n",
        "      unet_val_loss = unet_distributed_val_step(dist_data)\n",
        "\n",
        "      val_losses.append(unet_val_loss)\n",
        "\n",
        "    return val_losses"
      ]
    },
    {
      "cell_type": "code",
      "execution_count": null,
      "metadata": {
        "id": "fmR97KQLzpGR"
      },
      "outputs": [],
      "source": [
        "with strategy.scope() :\n",
        "  @tf.function\n",
        "  def val_unet_plus_plus_for_one_epoch():\n",
        "    val_losses = []\n",
        "    step = 1\n",
        "    for  (x_val_batch,y_val_batch) in (val_dataset):\n",
        "      unet_plus_plus_val_loss = unet_plus_plus_distributed_val_step(x_val_batch , y_val_batch)\n",
        "\n",
        "      val_losses.append(unet_plus_plus_val_loss)\n",
        "\n",
        "    return val_losses"
      ]
    },
    {
      "cell_type": "code",
      "execution_count": null,
      "metadata": {
        "id": "MJ1N4vCPjoua"
      },
      "outputs": [],
      "source": [
        "fcn.Encoder.trainable = True"
      ]
    },
    {
      "cell_type": "code",
      "execution_count": null,
      "metadata": {
        "id": "fcq-4mHrBoZB",
        "colab": {
          "base_uri": "https://localhost:8080/",
          "height": 1000
        },
        "outputId": "e14a8f84-35b9-4351-dfe1-9f398be1dc6e"
      },
      "outputs": [
        {
          "output_type": "stream",
          "name": "stdout",
          "text": [
            "Restored from checkpoint: /content/drive/MyDrive/CityScapes_model_checkpoints/fcn/ckpt-123, resuming from epoch 114\n",
            "Epoch begins : 114\n"
          ]
        },
        {
          "output_type": "stream",
          "name": "stderr",
          "text": [
            "\repoch 114:   0%|          | 0/47 [00:00<?, ?it/s]"
          ]
        },
        {
          "output_type": "display_data",
          "data": {
            "text/plain": [
              "<IPython.core.display.HTML object>"
            ],
            "text/html": [
              "<h3>📊 Batch-wise Loss Table</h3>"
            ]
          },
          "metadata": {}
        },
        {
          "output_type": "stream",
          "name": "stderr",
          "text": [
            "epoch 114:   2%|▏         | 1/47 [03:43<2:51:08, 223.23s/it, epoch :114 , batch =0.0213]"
          ]
        },
        {
          "output_type": "display_data",
          "data": {
            "text/plain": [
              "     batch                                            loss  \\\n",
              "0        1   tf.Tensor(1.1269975, shape=(), dtype=float32)   \n",
              "1        2  tf.Tensor(0.99811345, shape=(), dtype=float32)   \n",
              "2        3   tf.Tensor(1.0731636, shape=(), dtype=float32)   \n",
              "3        4   tf.Tensor(1.1608741, shape=(), dtype=float32)   \n",
              "4        5   tf.Tensor(1.2813096, shape=(), dtype=float32)   \n",
              "..     ...                                             ...   \n",
              "366    367   tf.Tensor(1.0983961, shape=(), dtype=float32)   \n",
              "367    368   tf.Tensor(0.9995017, shape=(), dtype=float32)   \n",
              "368    369   tf.Tensor(1.0404068, shape=(), dtype=float32)   \n",
              "369    370   tf.Tensor(0.9997191, shape=(), dtype=float32)   \n",
              "370    371   tf.Tensor(1.0206689, shape=(), dtype=float32)   \n",
              "\n",
              "                                          IOUMetric  \\\n",
              "0    tf.Tensor(0.28880367, shape=(), dtype=float32)   \n",
              "1     tf.Tensor(0.2895307, shape=(), dtype=float32)   \n",
              "2     tf.Tensor(0.2894978, shape=(), dtype=float32)   \n",
              "3    tf.Tensor(0.28938627, shape=(), dtype=float32)   \n",
              "4     tf.Tensor(0.2893744, shape=(), dtype=float32)   \n",
              "..                                              ...   \n",
              "366         tf.Tensor(nan, shape=(), dtype=float32)   \n",
              "367         tf.Tensor(nan, shape=(), dtype=float32)   \n",
              "368         tf.Tensor(nan, shape=(), dtype=float32)   \n",
              "369         tf.Tensor(nan, shape=(), dtype=float32)   \n",
              "370         tf.Tensor(nan, shape=(), dtype=float32)   \n",
              "\n",
              "                                     PerClassIOUMetric  \\\n",
              "0    (tf.Tensor(0.84080666, shape=(), dtype=float32...   \n",
              "1    (tf.Tensor(0.8463778, shape=(), dtype=float32)...   \n",
              "2    (tf.Tensor(0.84673536, shape=(), dtype=float32...   \n",
              "3    (tf.Tensor(0.846804, shape=(), dtype=float32),...   \n",
              "4    (tf.Tensor(0.84680676, shape=(), dtype=float32...   \n",
              "..                                                 ...   \n",
              "366  (tf.Tensor(nan, shape=(), dtype=float32), tf.T...   \n",
              "367  (tf.Tensor(nan, shape=(), dtype=float32), tf.T...   \n",
              "368  (tf.Tensor(nan, shape=(), dtype=float32), tf.T...   \n",
              "369  (tf.Tensor(nan, shape=(), dtype=float32), tf.T...   \n",
              "370  (tf.Tensor(nan, shape=(), dtype=float32), tf.T...   \n",
              "\n",
              "                            Dice_Coefficent_matrics  \\\n",
              "0    tf.Tensor(0.36575818, shape=(), dtype=float32)   \n",
              "1     tf.Tensor(0.3710897, shape=(), dtype=float32)   \n",
              "2    tf.Tensor(0.37194014, shape=(), dtype=float32)   \n",
              "3      tf.Tensor(0.371991, shape=(), dtype=float32)   \n",
              "4    tf.Tensor(0.37200376, shape=(), dtype=float32)   \n",
              "..                                              ...   \n",
              "366         tf.Tensor(nan, shape=(), dtype=float32)   \n",
              "367         tf.Tensor(nan, shape=(), dtype=float32)   \n",
              "368         tf.Tensor(nan, shape=(), dtype=float32)   \n",
              "369         tf.Tensor(nan, shape=(), dtype=float32)   \n",
              "370         tf.Tensor(nan, shape=(), dtype=float32)   \n",
              "\n",
              "                        PerClassDiceCoefficientMatrics  \\\n",
              "0    (tf.Tensor(0.9135198, shape=(), dtype=float32)...   \n",
              "1    (tf.Tensor(0.91679806, shape=(), dtype=float32...   \n",
              "2    (tf.Tensor(0.91700786, shape=(), dtype=float32...   \n",
              "3    (tf.Tensor(0.9170482, shape=(), dtype=float32)...   \n",
              "4    (tf.Tensor(0.9170498, shape=(), dtype=float32)...   \n",
              "..                                                 ...   \n",
              "366  (tf.Tensor(nan, shape=(), dtype=float32), tf.T...   \n",
              "367  (tf.Tensor(nan, shape=(), dtype=float32), tf.T...   \n",
              "368  (tf.Tensor(nan, shape=(), dtype=float32), tf.T...   \n",
              "369  (tf.Tensor(nan, shape=(), dtype=float32), tf.T...   \n",
              "370  (tf.Tensor(nan, shape=(), dtype=float32), tf.T...   \n",
              "\n",
              "                              Pixel_accurcy_metrics  \n",
              "0     tf.Tensor(0.8127204, shape=(), dtype=float32)  \n",
              "1    tf.Tensor(0.81922704, shape=(), dtype=float32)  \n",
              "2     tf.Tensor(0.8197224, shape=(), dtype=float32)  \n",
              "3     tf.Tensor(0.8197036, shape=(), dtype=float32)  \n",
              "4     tf.Tensor(0.8196986, shape=(), dtype=float32)  \n",
              "..                                              ...  \n",
              "366         tf.Tensor(nan, shape=(), dtype=float32)  \n",
              "367         tf.Tensor(nan, shape=(), dtype=float32)  \n",
              "368         tf.Tensor(nan, shape=(), dtype=float32)  \n",
              "369         tf.Tensor(nan, shape=(), dtype=float32)  \n",
              "370         tf.Tensor(nan, shape=(), dtype=float32)  \n",
              "\n",
              "[371 rows x 7 columns]"
            ],
            "text/html": [
              "\n",
              "  <div id=\"df-a1ea49ef-9456-4d22-9739-5ba8b38db883\" class=\"colab-df-container\">\n",
              "    <div>\n",
              "<style scoped>\n",
              "    .dataframe tbody tr th:only-of-type {\n",
              "        vertical-align: middle;\n",
              "    }\n",
              "\n",
              "    .dataframe tbody tr th {\n",
              "        vertical-align: top;\n",
              "    }\n",
              "\n",
              "    .dataframe thead th {\n",
              "        text-align: right;\n",
              "    }\n",
              "</style>\n",
              "<table border=\"1\" class=\"dataframe\">\n",
              "  <thead>\n",
              "    <tr style=\"text-align: right;\">\n",
              "      <th></th>\n",
              "      <th>batch</th>\n",
              "      <th>loss</th>\n",
              "      <th>IOUMetric</th>\n",
              "      <th>PerClassIOUMetric</th>\n",
              "      <th>Dice_Coefficent_matrics</th>\n",
              "      <th>PerClassDiceCoefficientMatrics</th>\n",
              "      <th>Pixel_accurcy_metrics</th>\n",
              "    </tr>\n",
              "  </thead>\n",
              "  <tbody>\n",
              "    <tr>\n",
              "      <th>0</th>\n",
              "      <td>1</td>\n",
              "      <td>tf.Tensor(1.1269975, shape=(), dtype=float32)</td>\n",
              "      <td>tf.Tensor(0.28880367, shape=(), dtype=float32)</td>\n",
              "      <td>(tf.Tensor(0.84080666, shape=(), dtype=float32...</td>\n",
              "      <td>tf.Tensor(0.36575818, shape=(), dtype=float32)</td>\n",
              "      <td>(tf.Tensor(0.9135198, shape=(), dtype=float32)...</td>\n",
              "      <td>tf.Tensor(0.8127204, shape=(), dtype=float32)</td>\n",
              "    </tr>\n",
              "    <tr>\n",
              "      <th>1</th>\n",
              "      <td>2</td>\n",
              "      <td>tf.Tensor(0.99811345, shape=(), dtype=float32)</td>\n",
              "      <td>tf.Tensor(0.2895307, shape=(), dtype=float32)</td>\n",
              "      <td>(tf.Tensor(0.8463778, shape=(), dtype=float32)...</td>\n",
              "      <td>tf.Tensor(0.3710897, shape=(), dtype=float32)</td>\n",
              "      <td>(tf.Tensor(0.91679806, shape=(), dtype=float32...</td>\n",
              "      <td>tf.Tensor(0.81922704, shape=(), dtype=float32)</td>\n",
              "    </tr>\n",
              "    <tr>\n",
              "      <th>2</th>\n",
              "      <td>3</td>\n",
              "      <td>tf.Tensor(1.0731636, shape=(), dtype=float32)</td>\n",
              "      <td>tf.Tensor(0.2894978, shape=(), dtype=float32)</td>\n",
              "      <td>(tf.Tensor(0.84673536, shape=(), dtype=float32...</td>\n",
              "      <td>tf.Tensor(0.37194014, shape=(), dtype=float32)</td>\n",
              "      <td>(tf.Tensor(0.91700786, shape=(), dtype=float32...</td>\n",
              "      <td>tf.Tensor(0.8197224, shape=(), dtype=float32)</td>\n",
              "    </tr>\n",
              "    <tr>\n",
              "      <th>3</th>\n",
              "      <td>4</td>\n",
              "      <td>tf.Tensor(1.1608741, shape=(), dtype=float32)</td>\n",
              "      <td>tf.Tensor(0.28938627, shape=(), dtype=float32)</td>\n",
              "      <td>(tf.Tensor(0.846804, shape=(), dtype=float32),...</td>\n",
              "      <td>tf.Tensor(0.371991, shape=(), dtype=float32)</td>\n",
              "      <td>(tf.Tensor(0.9170482, shape=(), dtype=float32)...</td>\n",
              "      <td>tf.Tensor(0.8197036, shape=(), dtype=float32)</td>\n",
              "    </tr>\n",
              "    <tr>\n",
              "      <th>4</th>\n",
              "      <td>5</td>\n",
              "      <td>tf.Tensor(1.2813096, shape=(), dtype=float32)</td>\n",
              "      <td>tf.Tensor(0.2893744, shape=(), dtype=float32)</td>\n",
              "      <td>(tf.Tensor(0.84680676, shape=(), dtype=float32...</td>\n",
              "      <td>tf.Tensor(0.37200376, shape=(), dtype=float32)</td>\n",
              "      <td>(tf.Tensor(0.9170498, shape=(), dtype=float32)...</td>\n",
              "      <td>tf.Tensor(0.8196986, shape=(), dtype=float32)</td>\n",
              "    </tr>\n",
              "    <tr>\n",
              "      <th>...</th>\n",
              "      <td>...</td>\n",
              "      <td>...</td>\n",
              "      <td>...</td>\n",
              "      <td>...</td>\n",
              "      <td>...</td>\n",
              "      <td>...</td>\n",
              "      <td>...</td>\n",
              "    </tr>\n",
              "    <tr>\n",
              "      <th>366</th>\n",
              "      <td>367</td>\n",
              "      <td>tf.Tensor(1.0983961, shape=(), dtype=float32)</td>\n",
              "      <td>tf.Tensor(nan, shape=(), dtype=float32)</td>\n",
              "      <td>(tf.Tensor(nan, shape=(), dtype=float32), tf.T...</td>\n",
              "      <td>tf.Tensor(nan, shape=(), dtype=float32)</td>\n",
              "      <td>(tf.Tensor(nan, shape=(), dtype=float32), tf.T...</td>\n",
              "      <td>tf.Tensor(nan, shape=(), dtype=float32)</td>\n",
              "    </tr>\n",
              "    <tr>\n",
              "      <th>367</th>\n",
              "      <td>368</td>\n",
              "      <td>tf.Tensor(0.9995017, shape=(), dtype=float32)</td>\n",
              "      <td>tf.Tensor(nan, shape=(), dtype=float32)</td>\n",
              "      <td>(tf.Tensor(nan, shape=(), dtype=float32), tf.T...</td>\n",
              "      <td>tf.Tensor(nan, shape=(), dtype=float32)</td>\n",
              "      <td>(tf.Tensor(nan, shape=(), dtype=float32), tf.T...</td>\n",
              "      <td>tf.Tensor(nan, shape=(), dtype=float32)</td>\n",
              "    </tr>\n",
              "    <tr>\n",
              "      <th>368</th>\n",
              "      <td>369</td>\n",
              "      <td>tf.Tensor(1.0404068, shape=(), dtype=float32)</td>\n",
              "      <td>tf.Tensor(nan, shape=(), dtype=float32)</td>\n",
              "      <td>(tf.Tensor(nan, shape=(), dtype=float32), tf.T...</td>\n",
              "      <td>tf.Tensor(nan, shape=(), dtype=float32)</td>\n",
              "      <td>(tf.Tensor(nan, shape=(), dtype=float32), tf.T...</td>\n",
              "      <td>tf.Tensor(nan, shape=(), dtype=float32)</td>\n",
              "    </tr>\n",
              "    <tr>\n",
              "      <th>369</th>\n",
              "      <td>370</td>\n",
              "      <td>tf.Tensor(0.9997191, shape=(), dtype=float32)</td>\n",
              "      <td>tf.Tensor(nan, shape=(), dtype=float32)</td>\n",
              "      <td>(tf.Tensor(nan, shape=(), dtype=float32), tf.T...</td>\n",
              "      <td>tf.Tensor(nan, shape=(), dtype=float32)</td>\n",
              "      <td>(tf.Tensor(nan, shape=(), dtype=float32), tf.T...</td>\n",
              "      <td>tf.Tensor(nan, shape=(), dtype=float32)</td>\n",
              "    </tr>\n",
              "    <tr>\n",
              "      <th>370</th>\n",
              "      <td>371</td>\n",
              "      <td>tf.Tensor(1.0206689, shape=(), dtype=float32)</td>\n",
              "      <td>tf.Tensor(nan, shape=(), dtype=float32)</td>\n",
              "      <td>(tf.Tensor(nan, shape=(), dtype=float32), tf.T...</td>\n",
              "      <td>tf.Tensor(nan, shape=(), dtype=float32)</td>\n",
              "      <td>(tf.Tensor(nan, shape=(), dtype=float32), tf.T...</td>\n",
              "      <td>tf.Tensor(nan, shape=(), dtype=float32)</td>\n",
              "    </tr>\n",
              "  </tbody>\n",
              "</table>\n",
              "<p>371 rows × 7 columns</p>\n",
              "</div>\n",
              "    <div class=\"colab-df-buttons\">\n",
              "\n",
              "  <div class=\"colab-df-container\">\n",
              "    <button class=\"colab-df-convert\" onclick=\"convertToInteractive('df-a1ea49ef-9456-4d22-9739-5ba8b38db883')\"\n",
              "            title=\"Convert this dataframe to an interactive table.\"\n",
              "            style=\"display:none;\">\n",
              "\n",
              "  <svg xmlns=\"http://www.w3.org/2000/svg\" height=\"24px\" viewBox=\"0 -960 960 960\">\n",
              "    <path d=\"M120-120v-720h720v720H120Zm60-500h600v-160H180v160Zm220 220h160v-160H400v160Zm0 220h160v-160H400v160ZM180-400h160v-160H180v160Zm440 0h160v-160H620v160ZM180-180h160v-160H180v160Zm440 0h160v-160H620v160Z\"/>\n",
              "  </svg>\n",
              "    </button>\n",
              "\n",
              "  <style>\n",
              "    .colab-df-container {\n",
              "      display:flex;\n",
              "      gap: 12px;\n",
              "    }\n",
              "\n",
              "    .colab-df-convert {\n",
              "      background-color: #E8F0FE;\n",
              "      border: none;\n",
              "      border-radius: 50%;\n",
              "      cursor: pointer;\n",
              "      display: none;\n",
              "      fill: #1967D2;\n",
              "      height: 32px;\n",
              "      padding: 0 0 0 0;\n",
              "      width: 32px;\n",
              "    }\n",
              "\n",
              "    .colab-df-convert:hover {\n",
              "      background-color: #E2EBFA;\n",
              "      box-shadow: 0px 1px 2px rgba(60, 64, 67, 0.3), 0px 1px 3px 1px rgba(60, 64, 67, 0.15);\n",
              "      fill: #174EA6;\n",
              "    }\n",
              "\n",
              "    .colab-df-buttons div {\n",
              "      margin-bottom: 4px;\n",
              "    }\n",
              "\n",
              "    [theme=dark] .colab-df-convert {\n",
              "      background-color: #3B4455;\n",
              "      fill: #D2E3FC;\n",
              "    }\n",
              "\n",
              "    [theme=dark] .colab-df-convert:hover {\n",
              "      background-color: #434B5C;\n",
              "      box-shadow: 0px 1px 3px 1px rgba(0, 0, 0, 0.15);\n",
              "      filter: drop-shadow(0px 1px 2px rgba(0, 0, 0, 0.3));\n",
              "      fill: #FFFFFF;\n",
              "    }\n",
              "  </style>\n",
              "\n",
              "    <script>\n",
              "      const buttonEl =\n",
              "        document.querySelector('#df-a1ea49ef-9456-4d22-9739-5ba8b38db883 button.colab-df-convert');\n",
              "      buttonEl.style.display =\n",
              "        google.colab.kernel.accessAllowed ? 'block' : 'none';\n",
              "\n",
              "      async function convertToInteractive(key) {\n",
              "        const element = document.querySelector('#df-a1ea49ef-9456-4d22-9739-5ba8b38db883');\n",
              "        const dataTable =\n",
              "          await google.colab.kernel.invokeFunction('convertToInteractive',\n",
              "                                                    [key], {});\n",
              "        if (!dataTable) return;\n",
              "\n",
              "        const docLinkHtml = 'Like what you see? Visit the ' +\n",
              "          '<a target=\"_blank\" href=https://colab.research.google.com/notebooks/data_table.ipynb>data table notebook</a>'\n",
              "          + ' to learn more about interactive tables.';\n",
              "        element.innerHTML = '';\n",
              "        dataTable['output_type'] = 'display_data';\n",
              "        await google.colab.output.renderOutput(dataTable, element);\n",
              "        const docLink = document.createElement('div');\n",
              "        docLink.innerHTML = docLinkHtml;\n",
              "        element.appendChild(docLink);\n",
              "      }\n",
              "    </script>\n",
              "  </div>\n",
              "\n",
              "\n",
              "    <div id=\"df-075db731-3b3f-466c-9bac-18458238f49a\">\n",
              "      <button class=\"colab-df-quickchart\" onclick=\"quickchart('df-075db731-3b3f-466c-9bac-18458238f49a')\"\n",
              "                title=\"Suggest charts\"\n",
              "                style=\"display:none;\">\n",
              "\n",
              "<svg xmlns=\"http://www.w3.org/2000/svg\" height=\"24px\"viewBox=\"0 0 24 24\"\n",
              "     width=\"24px\">\n",
              "    <g>\n",
              "        <path d=\"M19 3H5c-1.1 0-2 .9-2 2v14c0 1.1.9 2 2 2h14c1.1 0 2-.9 2-2V5c0-1.1-.9-2-2-2zM9 17H7v-7h2v7zm4 0h-2V7h2v10zm4 0h-2v-4h2v4z\"/>\n",
              "    </g>\n",
              "</svg>\n",
              "      </button>\n",
              "\n",
              "<style>\n",
              "  .colab-df-quickchart {\n",
              "      --bg-color: #E8F0FE;\n",
              "      --fill-color: #1967D2;\n",
              "      --hover-bg-color: #E2EBFA;\n",
              "      --hover-fill-color: #174EA6;\n",
              "      --disabled-fill-color: #AAA;\n",
              "      --disabled-bg-color: #DDD;\n",
              "  }\n",
              "\n",
              "  [theme=dark] .colab-df-quickchart {\n",
              "      --bg-color: #3B4455;\n",
              "      --fill-color: #D2E3FC;\n",
              "      --hover-bg-color: #434B5C;\n",
              "      --hover-fill-color: #FFFFFF;\n",
              "      --disabled-bg-color: #3B4455;\n",
              "      --disabled-fill-color: #666;\n",
              "  }\n",
              "\n",
              "  .colab-df-quickchart {\n",
              "    background-color: var(--bg-color);\n",
              "    border: none;\n",
              "    border-radius: 50%;\n",
              "    cursor: pointer;\n",
              "    display: none;\n",
              "    fill: var(--fill-color);\n",
              "    height: 32px;\n",
              "    padding: 0;\n",
              "    width: 32px;\n",
              "  }\n",
              "\n",
              "  .colab-df-quickchart:hover {\n",
              "    background-color: var(--hover-bg-color);\n",
              "    box-shadow: 0 1px 2px rgba(60, 64, 67, 0.3), 0 1px 3px 1px rgba(60, 64, 67, 0.15);\n",
              "    fill: var(--button-hover-fill-color);\n",
              "  }\n",
              "\n",
              "  .colab-df-quickchart-complete:disabled,\n",
              "  .colab-df-quickchart-complete:disabled:hover {\n",
              "    background-color: var(--disabled-bg-color);\n",
              "    fill: var(--disabled-fill-color);\n",
              "    box-shadow: none;\n",
              "  }\n",
              "\n",
              "  .colab-df-spinner {\n",
              "    border: 2px solid var(--fill-color);\n",
              "    border-color: transparent;\n",
              "    border-bottom-color: var(--fill-color);\n",
              "    animation:\n",
              "      spin 1s steps(1) infinite;\n",
              "  }\n",
              "\n",
              "  @keyframes spin {\n",
              "    0% {\n",
              "      border-color: transparent;\n",
              "      border-bottom-color: var(--fill-color);\n",
              "      border-left-color: var(--fill-color);\n",
              "    }\n",
              "    20% {\n",
              "      border-color: transparent;\n",
              "      border-left-color: var(--fill-color);\n",
              "      border-top-color: var(--fill-color);\n",
              "    }\n",
              "    30% {\n",
              "      border-color: transparent;\n",
              "      border-left-color: var(--fill-color);\n",
              "      border-top-color: var(--fill-color);\n",
              "      border-right-color: var(--fill-color);\n",
              "    }\n",
              "    40% {\n",
              "      border-color: transparent;\n",
              "      border-right-color: var(--fill-color);\n",
              "      border-top-color: var(--fill-color);\n",
              "    }\n",
              "    60% {\n",
              "      border-color: transparent;\n",
              "      border-right-color: var(--fill-color);\n",
              "    }\n",
              "    80% {\n",
              "      border-color: transparent;\n",
              "      border-right-color: var(--fill-color);\n",
              "      border-bottom-color: var(--fill-color);\n",
              "    }\n",
              "    90% {\n",
              "      border-color: transparent;\n",
              "      border-bottom-color: var(--fill-color);\n",
              "    }\n",
              "  }\n",
              "</style>\n",
              "\n",
              "      <script>\n",
              "        async function quickchart(key) {\n",
              "          const quickchartButtonEl =\n",
              "            document.querySelector('#' + key + ' button');\n",
              "          quickchartButtonEl.disabled = true;  // To prevent multiple clicks.\n",
              "          quickchartButtonEl.classList.add('colab-df-spinner');\n",
              "          try {\n",
              "            const charts = await google.colab.kernel.invokeFunction(\n",
              "                'suggestCharts', [key], {});\n",
              "          } catch (error) {\n",
              "            console.error('Error during call to suggestCharts:', error);\n",
              "          }\n",
              "          quickchartButtonEl.classList.remove('colab-df-spinner');\n",
              "          quickchartButtonEl.classList.add('colab-df-quickchart-complete');\n",
              "        }\n",
              "        (() => {\n",
              "          let quickchartButtonEl =\n",
              "            document.querySelector('#df-075db731-3b3f-466c-9bac-18458238f49a button');\n",
              "          quickchartButtonEl.style.display =\n",
              "            google.colab.kernel.accessAllowed ? 'block' : 'none';\n",
              "        })();\n",
              "      </script>\n",
              "    </div>\n",
              "\n",
              "    </div>\n",
              "  </div>\n"
            ],
            "application/vnd.google.colaboratory.intrinsic+json": {
              "type": "dataframe",
              "summary": "{\n  \"name\": \"      break\",\n  \"rows\": 371,\n  \"fields\": [\n    {\n      \"column\": \"batch\",\n      \"properties\": {\n        \"dtype\": \"number\",\n        \"std\": 107,\n        \"min\": 1,\n        \"max\": 371,\n        \"num_unique_values\": 371,\n        \"samples\": [\n          328,\n          34,\n          16\n        ],\n        \"semantic_type\": \"\",\n        \"description\": \"\"\n      }\n    },\n    {\n      \"column\": \"loss\",\n      \"properties\": {\n        \"dtype\": \"object\",\n        \"semantic_type\": \"\",\n        \"description\": \"\"\n      }\n    },\n    {\n      \"column\": \"IOUMetric\",\n      \"properties\": {\n        \"dtype\": \"object\",\n        \"semantic_type\": \"\",\n        \"description\": \"\"\n      }\n    },\n    {\n      \"column\": \"PerClassIOUMetric\",\n      \"properties\": {\n        \"dtype\": \"object\",\n        \"semantic_type\": \"\",\n        \"description\": \"\"\n      }\n    },\n    {\n      \"column\": \"Dice_Coefficent_matrics\",\n      \"properties\": {\n        \"dtype\": \"object\",\n        \"semantic_type\": \"\",\n        \"description\": \"\"\n      }\n    },\n    {\n      \"column\": \"PerClassDiceCoefficientMatrics\",\n      \"properties\": {\n        \"dtype\": \"object\",\n        \"semantic_type\": \"\",\n        \"description\": \"\"\n      }\n    },\n    {\n      \"column\": \"Pixel_accurcy_metrics\",\n      \"properties\": {\n        \"dtype\": \"object\",\n        \"semantic_type\": \"\",\n        \"description\": \"\"\n      }\n    }\n  ]\n}"
            }
          },
          "metadata": {}
        },
        {
          "output_type": "display_data",
          "data": {
            "text/plain": [
              "<IPython.core.display.HTML object>"
            ],
            "text/html": [
              "<h3>📉 Loss Graphs (Batch-wise Trend)</h3>"
            ]
          },
          "metadata": {}
        },
        {
          "output_type": "display_data",
          "data": {
            "text/plain": [
              "<Figure size 1200x500 with 2 Axes>"
            ],
            "image/png": "[encoded data removed]"
          },
          "metadata": {}
        },
        {
          "output_type": "stream",
          "name": "stderr",
          "text": [
            "epoch 114: 371it [15:24,  2.49s/it, epoch :114 , batch =7.89]\n"
          ]
        },
        {
          "output_type": "display_data",
          "data": {
            "text/plain": [
              "<IPython.core.display.HTML object>"
            ],
            "text/html": [
              "<h3>📊 Epoch Summary Table</h3>"
            ]
          },
          "metadata": {}
        },
        {
          "output_type": "display_data",
          "data": {
            "text/plain": [
              "   epoch                                           loss  \\\n",
              "0    114  tf.Tensor(1.0878727, shape=(), dtype=float32)   \n",
              "\n",
              "                                        val_loss  \\\n",
              "0  tf.Tensor(1.1237913, shape=(), dtype=float32)   \n",
              "\n",
              "                                 IOUMetric  \\\n",
              "0  tf.Tensor(nan, shape=(), dtype=float32)   \n",
              "\n",
              "                                   PerClassIOUMetric  \\\n",
              "0  (tf.Tensor(nan, shape=(), dtype=float32), tf.T...   \n",
              "\n",
              "                   Dice_Coefficent_matrics  \\\n",
              "0  tf.Tensor(nan, shape=(), dtype=float32)   \n",
              "\n",
              "                      PerClassDiceCoefficientMatrics  \\\n",
              "0  (tf.Tensor(nan, shape=(), dtype=float32), tf.T...   \n",
              "\n",
              "                     Pixel_accurcy_metrics  \\\n",
              "0  tf.Tensor(nan, shape=(), dtype=float32)   \n",
              "\n",
              "                                    IOUMetric_val  \\\n",
              "0  tf.Tensor(0.26788875, shape=(), dtype=float32)   \n",
              "\n",
              "                               PerClassIOUMetric_val  \\\n",
              "0  (tf.Tensor(0.8536905, shape=(), dtype=float32)...   \n",
              "\n",
              "                      Dice_Coefficent_matrics_val  \\\n",
              "0  tf.Tensor(0.34362784, shape=(), dtype=float32)   \n",
              "\n",
              "                  PerClassDiceCoefficientMatrics_val  \\\n",
              "0  (tf.Tensor(0.9210712, shape=(), dtype=float32)...   \n",
              "\n",
              "                       Pixel_accurcy_metrics_val  \n",
              "0  tf.Tensor(0.7917417, shape=(), dtype=float32)  "
            ],
            "text/html": [
              "\n",
              "  <div id=\"df-726282a9-4aee-47f6-a08d-8f005bb6c640\" class=\"colab-df-container\">\n",
              "    <div>\n",
              "<style scoped>\n",
              "    .dataframe tbody tr th:only-of-type {\n",
              "        vertical-align: middle;\n",
              "    }\n",
              "\n",
              "    .dataframe tbody tr th {\n",
              "        vertical-align: top;\n",
              "    }\n",
              "\n",
              "    .dataframe thead th {\n",
              "        text-align: right;\n",
              "    }\n",
              "</style>\n",
              "<table border=\"1\" class=\"dataframe\">\n",
              "  <thead>\n",
              "    <tr style=\"text-align: right;\">\n",
              "      <th></th>\n",
              "      <th>epoch</th>\n",
              "      <th>loss</th>\n",
              "      <th>val_loss</th>\n",
              "      <th>IOUMetric</th>\n",
              "      <th>PerClassIOUMetric</th>\n",
              "      <th>Dice_Coefficent_matrics</th>\n",
              "      <th>PerClassDiceCoefficientMatrics</th>\n",
              "      <th>Pixel_accurcy_metrics</th>\n",
              "      <th>IOUMetric_val</th>\n",
              "      <th>PerClassIOUMetric_val</th>\n",
              "      <th>Dice_Coefficent_matrics_val</th>\n",
              "      <th>PerClassDiceCoefficientMatrics_val</th>\n",
              "      <th>Pixel_accurcy_metrics_val</th>\n",
              "    </tr>\n",
              "  </thead>\n",
              "  <tbody>\n",
              "    <tr>\n",
              "      <th>0</th>\n",
              "      <td>114</td>\n",
              "      <td>tf.Tensor(1.0878727, shape=(), dtype=float32)</td>\n",
              "      <td>tf.Tensor(1.1237913, shape=(), dtype=float32)</td>\n",
              "      <td>tf.Tensor(nan, shape=(), dtype=float32)</td>\n",
              "      <td>(tf.Tensor(nan, shape=(), dtype=float32), tf.T...</td>\n",
              "      <td>tf.Tensor(nan, shape=(), dtype=float32)</td>\n",
              "      <td>(tf.Tensor(nan, shape=(), dtype=float32), tf.T...</td>\n",
              "      <td>tf.Tensor(nan, shape=(), dtype=float32)</td>\n",
              "      <td>tf.Tensor(0.26788875, shape=(), dtype=float32)</td>\n",
              "      <td>(tf.Tensor(0.8536905, shape=(), dtype=float32)...</td>\n",
              "      <td>tf.Tensor(0.34362784, shape=(), dtype=float32)</td>\n",
              "      <td>(tf.Tensor(0.9210712, shape=(), dtype=float32)...</td>\n",
              "      <td>tf.Tensor(0.7917417, shape=(), dtype=float32)</td>\n",
              "    </tr>\n",
              "  </tbody>\n",
              "</table>\n",
              "</div>\n",
              "    <div class=\"colab-df-buttons\">\n",
              "\n",
              "  <div class=\"colab-df-container\">\n",
              "    <button class=\"colab-df-convert\" onclick=\"convertToInteractive('df-726282a9-4aee-47f6-a08d-8f005bb6c640')\"\n",
              "            title=\"Convert this dataframe to an interactive table.\"\n",
              "            style=\"display:none;\">\n",
              "\n",
              "  <svg xmlns=\"http://www.w3.org/2000/svg\" height=\"24px\" viewBox=\"0 -960 960 960\">\n",
              "    <path d=\"M120-120v-720h720v720H120Zm60-500h600v-160H180v160Zm220 220h160v-160H400v160Zm0 220h160v-160H400v160ZM180-400h160v-160H180v160Zm440 0h160v-160H620v160ZM180-180h160v-160H180v160Zm440 0h160v-160H620v160Z\"/>\n",
              "  </svg>\n",
              "    </button>\n",
              "\n",
              "  <style>\n",
              "    .colab-df-container {\n",
              "      display:flex;\n",
              "      gap: 12px;\n",
              "    }\n",
              "\n",
              "    .colab-df-convert {\n",
              "      background-color: #E8F0FE;\n",
              "      border: none;\n",
              "      border-radius: 50%;\n",
              "      cursor: pointer;\n",
              "      display: none;\n",
              "      fill: #1967D2;\n",
              "      height: 32px;\n",
              "      padding: 0 0 0 0;\n",
              "      width: 32px;\n",
              "    }\n",
              "\n",
              "    .colab-df-convert:hover {\n",
              "      background-color: #E2EBFA;\n",
              "      box-shadow: 0px 1px 2px rgba(60, 64, 67, 0.3), 0px 1px 3px 1px rgba(60, 64, 67, 0.15);\n",
              "      fill: #174EA6;\n",
              "    }\n",
              "\n",
              "    .colab-df-buttons div {\n",
              "      margin-bottom: 4px;\n",
              "    }\n",
              "\n",
              "    [theme=dark] .colab-df-convert {\n",
              "      background-color: #3B4455;\n",
              "      fill: #D2E3FC;\n",
              "    }\n",
              "\n",
              "    [theme=dark] .colab-df-convert:hover {\n",
              "      background-color: #434B5C;\n",
              "      box-shadow: 0px 1px 3px 1px rgba(0, 0, 0, 0.15);\n",
              "      filter: drop-shadow(0px 1px 2px rgba(0, 0, 0, 0.3));\n",
              "      fill: #FFFFFF;\n",
              "    }\n",
              "  </style>\n",
              "\n",
              "    <script>\n",
              "      const buttonEl =\n",
              "        document.querySelector('#df-726282a9-4aee-47f6-a08d-8f005bb6c640 button.colab-df-convert');\n",
              "      buttonEl.style.display =\n",
              "        google.colab.kernel.accessAllowed ? 'block' : 'none';\n",
              "\n",
              "      async function convertToInteractive(key) {\n",
              "        const element = document.querySelector('#df-726282a9-4aee-47f6-a08d-8f005bb6c640');\n",
              "        const dataTable =\n",
              "          await google.colab.kernel.invokeFunction('convertToInteractive',\n",
              "                                                    [key], {});\n",
              "        if (!dataTable) return;\n",
              "\n",
              "        const docLinkHtml = 'Like what you see? Visit the ' +\n",
              "          '<a target=\"_blank\" href=https://colab.research.google.com/notebooks/data_table.ipynb>data table notebook</a>'\n",
              "          + ' to learn more about interactive tables.';\n",
              "        element.innerHTML = '';\n",
              "        dataTable['output_type'] = 'display_data';\n",
              "        await google.colab.output.renderOutput(dataTable, element);\n",
              "        const docLink = document.createElement('div');\n",
              "        docLink.innerHTML = docLinkHtml;\n",
              "        element.appendChild(docLink);\n",
              "      }\n",
              "    </script>\n",
              "  </div>\n",
              "\n",
              "\n",
              "    </div>\n",
              "  </div>\n"
            ],
            "application/vnd.google.colaboratory.intrinsic+json": {
              "type": "dataframe",
              "summary": "{\n  \"name\": \"      break\",\n  \"rows\": 1,\n  \"fields\": [\n    {\n      \"column\": \"epoch\",\n      \"properties\": {\n        \"dtype\": \"number\",\n        \"std\": null,\n        \"min\": 114,\n        \"max\": 114,\n        \"num_unique_values\": 1,\n        \"samples\": [\n          114\n        ],\n        \"semantic_type\": \"\",\n        \"description\": \"\"\n      }\n    },\n    {\n      \"column\": \"loss\",\n      \"properties\": {\n        \"dtype\": \"object\",\n        \"semantic_type\": \"\",\n        \"description\": \"\"\n      }\n    },\n    {\n      \"column\": \"val_loss\",\n      \"properties\": {\n        \"dtype\": \"object\",\n        \"semantic_type\": \"\",\n        \"description\": \"\"\n      }\n    },\n    {\n      \"column\": \"IOUMetric\",\n      \"properties\": {\n        \"dtype\": \"object\",\n        \"semantic_type\": \"\",\n        \"description\": \"\"\n      }\n    },\n    {\n      \"column\": \"PerClassIOUMetric\",\n      \"properties\": {\n        \"dtype\": \"object\",\n        \"semantic_type\": \"\",\n        \"description\": \"\"\n      }\n    },\n    {\n      \"column\": \"Dice_Coefficent_matrics\",\n      \"properties\": {\n        \"dtype\": \"object\",\n        \"semantic_type\": \"\",\n        \"description\": \"\"\n      }\n    },\n    {\n      \"column\": \"PerClassDiceCoefficientMatrics\",\n      \"properties\": {\n        \"dtype\": \"object\",\n        \"semantic_type\": \"\",\n        \"description\": \"\"\n      }\n    },\n    {\n      \"column\": \"Pixel_accurcy_metrics\",\n      \"properties\": {\n        \"dtype\": \"object\",\n        \"semantic_type\": \"\",\n        \"description\": \"\"\n      }\n    },\n    {\n      \"column\": \"IOUMetric_val\",\n      \"properties\": {\n        \"dtype\": \"object\",\n        \"semantic_type\": \"\",\n        \"description\": \"\"\n      }\n    },\n    {\n      \"column\": \"PerClassIOUMetric_val\",\n      \"properties\": {\n        \"dtype\": \"object\",\n        \"semantic_type\": \"\",\n        \"description\": \"\"\n      }\n    },\n    {\n      \"column\": \"Dice_Coefficent_matrics_val\",\n      \"properties\": {\n        \"dtype\": \"object\",\n        \"semantic_type\": \"\",\n        \"description\": \"\"\n      }\n    },\n    {\n      \"column\": \"PerClassDiceCoefficientMatrics_val\",\n      \"properties\": {\n        \"dtype\": \"object\",\n        \"semantic_type\": \"\",\n        \"description\": \"\"\n      }\n    },\n    {\n      \"column\": \"Pixel_accurcy_metrics_val\",\n      \"properties\": {\n        \"dtype\": \"object\",\n        \"semantic_type\": \"\",\n        \"description\": \"\"\n      }\n    }\n  ]\n}"
            }
          },
          "metadata": {}
        },
        {
          "output_type": "display_data",
          "data": {
            "text/plain": [
              "<IPython.core.display.HTML object>"
            ],
            "text/html": [
              "<h3>📉 Final Loss Graphs - Epoch 115</h3>"
            ]
          },
          "metadata": {}
        },
        {
          "output_type": "display_data",
          "data": {
            "text/plain": [
              "<Figure size 1200x500 with 2 Axes>"
            ],
            "image/png": "[encoded data removed]"
          },
          "metadata": {}
        },
        {
          "output_type": "stream",
          "name": "stdout",
          "text": [
            "\n",
            "Checkpoint saved for epoch 114 at /content/drive/MyDrive/CityScapes_model_checkpoints/fcn/ckpt-124 for <FCN name=fcn_2, built=True> model\n"
          ]
        }
      ],
      "source": [
        "with strategy.scope():\n",
        "  stop_training =False\n",
        "  start=fcn_master_callback.on_train_begin()\n",
        "  for epoch in range(start , 115 ):\n",
        "    fcn_master_callback.on_epoch_begin(epoch)\n",
        "    losses = train_fcn_for_one_epoch(epoch)\n",
        "    val_losses = val_fcn_for_one_epoch()\n",
        "    avg_loss = tf.reduce_mean(losses)\n",
        "    avg_val_loss = tf.reduce_mean(val_losses)\n",
        "    data = {\n",
        "\n",
        "                'loss' : avg_loss ,\n",
        "                'val_loss' : avg_val_loss ,\n",
        "                'metrics': {\n",
        "                    'IOUMetric' : fcn_IOUMetric.result(),\n",
        "                    'PerClassIOUMetric' : fcn_PerClassIOUMetric.result(),\n",
        "                    'Dice_Coefficent_matrics' : fcn_Dice_Coefficent_matrics.result(),\n",
        "                    'PerClassDiceCoefficientMatrics' : fcn_PerClassDiceCoefficientMatrics.result() ,\n",
        "                    'Pixel_accurcy_metrics' : fcn_Pixel_accurcy_metrics.result(),\n",
        "\n",
        "                    'IOUMetric_val' : fcn_IOUMetric_val.result(),\n",
        "                    'PerClassIOUMetric_val' : fcn_PerClassIOUMetric_val.result(),\n",
        "                    'Dice_Coefficent_matrics_val' : fcn_Dice_Coefficent_matrics_val.result(),\n",
        "                    'PerClassDiceCoefficientMatrics_val' : fcn_PerClassDiceCoefficientMatrics_val.result() ,\n",
        "                    'Pixel_accurcy_metrics_val' : fcn_Pixel_accurcy_metrics_val.result()\n",
        "\n",
        "            },\n",
        "        }\n",
        "    fcn_IOUMetric.reset_state()\n",
        "    fcn_IOUMetric_val.reset_state()\n",
        "    fcn_PerClassIOUMetric.reset_state()\n",
        "    fcn_PerClassIOUMetric_val.reset_state()\n",
        "    fcn_Dice_Coefficent_matrics.reset_state()\n",
        "    fcn_Dice_Coefficent_matrics_val.reset_state()\n",
        "    fcn_PerClassDiceCoefficientMatrics.reset_state()\n",
        "    fcn_PerClassDiceCoefficientMatrics_val.reset_state()\n",
        "    fcn_Pixel_accurcy_metrics.reset_state()\n",
        "    fcn_Pixel_accurcy_metrics_val.reset_state()\n",
        "\n",
        "\n",
        "\n",
        "    stop_training=fcn_master_callback.on_epoch_end(epoch=epoch , data= data)\n",
        "    if stop_training :\n",
        "      break"
      ]
    },
    {
      "cell_type": "code",
      "execution_count": null,
      "metadata": {
        "id": "tkMcZwBqAajg"
      },
      "outputs": [],
      "source": [
        "with strategy.scope():\n",
        "  stop_training =False\n",
        "  start=unet_master_callback.on_train_begin()\n",
        "  for epoch in range(start , 250 ):\n",
        "    unet_master_callback.on_epoch_begin(epoch)\n",
        "    losses = train_unet_for_one_epoch(epoch)\n",
        "    val_losses = val_unet_for_one_epoch()\n",
        "    data = {\n",
        "\n",
        "                'loss' : losses ,\n",
        "                'val_loss' : val_losses ,\n",
        "                'metrics': {\n",
        "                    'IOUMetric' : unet_IOUMetric.result(),\n",
        "                    'PerClassIOUMetric' : unet_PerClassIOUMetric.result(),\n",
        "                    'Dice_Coefficent_matrics' : unet_Dice_Coefficent_matrics.result(),\n",
        "                    'PerClassDiceCoefficientMatrics' : unet_PerClassDiceCoefficientMatrics.result() ,\n",
        "                    'Pixel_accurcy_metrics' : unet_Pixel_accurcy_metrics.result(),\n",
        "\n",
        "                    'IOUMetric_val' : unet_IOUMetric_val.result(),\n",
        "                    'PerClassIOUMetric_val' : unet_PerClassIOUMetric_val.result(),\n",
        "                    'Dice_Coefficent_matrics_val' : unet_Dice_Coefficent_matrics_val.result(),\n",
        "                    'PerClassDiceCoefficientMatrics_val' : unet_PerClassDiceCoefficientMatrics_val.result() ,\n",
        "                    'Pixel_accurcy_metrics_val' : unet_Pixel_accurcy_metrics_val.result()\n",
        "\n",
        "            },\n",
        "        }\n",
        "    unet_IOUMetric.reset_state()\n",
        "    unet_IOUMetric_val.reset_state()\n",
        "    unet_PerClassIOUMetric.reset_state()\n",
        "    unet_PerClassIOUMetric_val.reset_state()\n",
        "    unet_Dice_Coefficent_matrics.reset_state()\n",
        "    unet_Dice_Coefficent_matrics_val.reset_state()\n",
        "    unet_PerClassDiceCoefficientMatrics.reset_state()\n",
        "    unet_PerClassDiceCoefficientMatrics_val.reset_state()\n",
        "    unet_Pixel_accurcy_metrics.reset_state()\n",
        "    unet_Pixel_accurcy_metrics_val.reset_state()\n",
        "\n",
        "\n",
        "\n",
        "    stop_training=unet_master_callback.on_epoch_end(epoch=epoch , data= data)\n",
        "    if stop_training :\n",
        "      break"
      ]
    },
    {
      "cell_type": "code",
      "execution_count": null,
      "metadata": {
        "id": "hocvJL_Do4Gk"
      },
      "outputs": [],
      "source": [
        "with strategy.scope():\n",
        "  stop_training =False\n",
        "  start=unet_plus_plus_master_callback.on_train_begin()\n",
        "  for epoch in range(start , 250 ):\n",
        "    unet_plus_plus_master_callback.on_epoch_begin(epoch)\n",
        "    losses = train_unet_plus_plus_for_one_epoch(epoch)\n",
        "    val_losses = val_unet_plus_plus_for_one_epoch()\n",
        "    data = {\n",
        "\n",
        "                'loss' : losses ,\n",
        "                'val_loss' : val_losses ,\n",
        "                'metrics': {\n",
        "                    'IOUMetric' : unet_plus_plus_IOUMetric.result(),\n",
        "                    'PerClassIOUMetric' : unet_plus_plus_PerClassIOUMetric.result(),\n",
        "                    'Dice_Coefficent_matrics' : unet_plus_plus_Dice_Coefficent_matrics.result(),\n",
        "                    'PerClassDiceCoefficientMatrics' : unet_plus_plus_PerClassDiceCoefficientMatrics.result() ,\n",
        "                    'Pixel_accurcy_metrics' : unet_plus_plus_Pixel_accurcy_metrics.result(),\n",
        "\n",
        "                    'IOUMetric_val' : unet_plus_plus_IOUMetric_val.result(),\n",
        "                    'PerClassIOUMetric_val' : unet_plus_plus_PerClassIOUMetric_val.result(),\n",
        "                    'Dice_Coefficent_matrics_val' : unet_plus_plus_Dice_Coefficent_matrics_val.result(),\n",
        "                    'PerClassDiceCoefficientMatrics_val' : unet_plus_plus_PerClassDiceCoefficientMatrics_val.result() ,\n",
        "                    'Pixel_accurcy_metrics_val' : unet_plus_plus_Pixel_accurcy_metrics_val.result()\n",
        "\n",
        "            },\n",
        "        }\n",
        "    unet_plus_plus_IOUMetric.reset_state()\n",
        "    unet_plus_plus_IOUMetric_val.reset_state()\n",
        "    unet_plus_plus_PerClassIOUMetric.reset_state()\n",
        "    unet_plus_plus_PerClassIOUMetric_val.reset_state()\n",
        "    unet_plus_plus_Dice_Coefficent_matrics.reset_state()\n",
        "    unet_plus_plus_Dice_Coefficent_matrics_val.reset_state()\n",
        "    unet_plus_plus_PerClassDiceCoefficientMatrics.reset_state()\n",
        "    unet_plus_plus_PerClassDiceCoefficientMatrics_val.reset_state()\n",
        "    unet_plus_plus_Pixel_accurcy_metrics.reset_state()\n",
        "    unet_plus_plus_Pixel_accurcy_metrics_val.reset_state()\n",
        "\n",
        "\n",
        "\n",
        "    stop_training=unet_plus_plus_master_callback.on_epoch_end(epoch=epoch , data= data)\n",
        "    if stop_training :\n",
        "      break"
      ]
    },
    {
      "cell_type": "code",
      "execution_count": null,
      "metadata": {
        "id": "Mp5vqWO_N-C-"
      },
      "outputs": [],
      "source": [
        "%reload_ext tensorboard\n",
        "\n",
        "%tensorboard --logdir /content/drive/MyDrive/CityScapes_model_checkpoints/fcn_log_dir\n"
      ]
    },
    {
      "cell_type": "code",
      "source": [
        "checkpoint = tf.train.Checkpoint(model=fcn)\n",
        "checkpoint.restore('/content/drive/MyDrive/CityScapes_model_checkpoints/fcn/ckpt-119').expect_partial()"
      ],
      "metadata": {
        "id": "3c1-wNGMstt-"
      },
      "execution_count": null,
      "outputs": []
    },
    {
      "cell_type": "code",
      "source": [
        "import tensorflow as tf\n",
        "import numpy as np\n",
        "import matplotlib.pyplot as plt\n",
        "from PIL import Image\n",
        "\n",
        "# Define the CityScapes color palette (for 19 training classes + void)\n",
        "cityscapes_palette = np.array([\n",
        "    [128, 64, 128], [244, 35, 232], [70, 70, 70], [102, 102, 156], [190, 153, 153],\n",
        "    [153, 153, 153], [250, 170, 30], [220, 220, 0], [107, 142, 35], [152, 251, 152],\n",
        "    [70, 130, 180], [220, 20, 60], [255, 0, 0], [0, 0, 142], [0, 0, 70],\n",
        "    [0, 60, 100], [0, 80, 100], [0, 0, 230], [119, 11, 32], [0, 0, 0]\n",
        "], dtype=np.uint8)\n",
        "\n",
        "# Your existing code\n",
        "def read_img(img_path):\n",
        "    img = tf.io.read_file(img_path)\n",
        "    img = tf.io.decode_png(img, channels=3)\n",
        "    img = tf.image.resize(img, (768, 1536))\n",
        "    img = tf.keras.applications.resnet50.preprocess_input(img)\n",
        "    return img\n",
        "\n",
        "img = read_img('/content/original.png')\n",
        "img = np.expand_dims(img, axis=0)\n",
        "prediction = fcn(img)  # Shape: (1, 256, 512, num_classes)\n",
        "mask = np.argmax(prediction, axis=-1).astype(np.uint8)  # Shape: (1, 256, 512)\n",
        "\n",
        "# Remove batch dimension\n",
        "mask = mask[0]  # Shape: (256, 512)\n",
        "\n",
        "# Map class indices to colors\n",
        "colored_mask = cityscapes_palette[mask]  # Shape: (256, 512, 3)\n",
        "\n",
        "# Resize to original dimensions\n",
        "colored_mask_tensor = tf.convert_to_tensor(colored_mask, dtype=tf.float32)\n",
        "colored_mask_resized = tf.image.resize(colored_mask_tensor, (768, 1536), method='nearest')\n",
        "colored_mask_resized = tf.cast(colored_mask_resized, tf.uint8).numpy()\n",
        "\n",
        "# Display the mask\n",
        "plt.imshow(colored_mask_resized)\n",
        "plt.axis('off')\n",
        "plt.show()\n",
        "\n",
        "# Save the mask\n",
        "Image.fromarray(colored_mask_resized).save(\"/content/drive/MyDrive/colored_mask.png\")"
      ],
      "metadata": {
        "colab": {
          "base_uri": "https://localhost:8080/",
          "height": 285
        },
        "id": "Fuob1aSEj5Jl",
        "outputId": "d4ec3a1c-a2be-495c-9d97-bebcad369ced"
      },
      "execution_count": null,
      "outputs": [
        {
          "output_type": "display_data",
          "data": {
            "text/plain": [
              "<Figure size 640x480 with 1 Axes>"
            ],
            "image/png": "[encoded data removed]"
          },
          "metadata": {}
        }
      ]
    },
    {
      "cell_type": "code",
      "source": [],
      "metadata": {
        "id": "HtKDYMLEuS85"
      },
      "execution_count": null,
      "outputs": []
    }
  ],
  "metadata": {
    "accelerator": "TPU",
    "colab": {
      "gpuType": "V28",
      "provenance": [],
      "include_colab_link": true
    },
    "kernelspec": {
      "display_name": "Python 3",
      "name": "python3"
    },
    "language_info": {
      "name": "python"
    }
  },
  "nbformat": 4,
  "nbformat_minor": 0
}